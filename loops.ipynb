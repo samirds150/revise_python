{
 "cells": [
  {
   "cell_type": "code",
   "execution_count": 4,
   "id": "51dfa472",
   "metadata": {},
   "outputs": [
    {
     "data": {
      "text/plain": [
       "60"
      ]
     },
     "execution_count": 4,
     "metadata": {},
     "output_type": "execute_result"
    }
   ],
   "source": [
    "list1 = ['assa',20,'asfd','sa',50,60,70,80]\n",
    "list1[5]"
   ]
  },
  {
   "cell_type": "code",
   "execution_count": 5,
   "id": "a104e267",
   "metadata": {},
   "outputs": [
    {
     "name": "stdout",
     "output_type": "stream",
     "text": [
      "assa\n",
      "20\n",
      "asfd\n",
      "sa\n",
      "50\n",
      "60\n",
      "70\n",
      "80\n"
     ]
    }
   ],
   "source": [
    "for list_samples in list1:\n",
    "    print(list_samples)"
   ]
  },
  {
   "cell_type": "code",
   "execution_count": null,
   "id": "df125855",
   "metadata": {},
   "outputs": [],
   "source": [
    "for items in collection:\n",
    "    print(items)"
   ]
  },
  {
   "cell_type": "code",
   "execution_count": 22,
   "id": "d3ce953a",
   "metadata": {},
   "outputs": [
    {
     "name": "stdout",
     "output_type": "stream",
     "text": [
      "10\n",
      "20\n",
      "30\n",
      "40\n",
      "50\n"
     ]
    }
   ],
   "source": [
    "for i in l:\n",
    "    print(i)\n",
    "    if i == 50:\n",
    "        break\n",
    "    \n",
    "    "
   ]
  },
  {
   "cell_type": "code",
   "execution_count": 24,
   "id": "de4da336",
   "metadata": {},
   "outputs": [
    {
     "name": "stdout",
     "output_type": "stream",
     "text": [
      "10\n",
      "20\n",
      "30\n",
      "40\n",
      "50\n"
     ]
    }
   ],
   "source": [
    "for i in l:\n",
    "    print(i)\n",
    "    if i == 50:\n",
    "        break\n",
    "else:\n",
    "    print(\"this will only execute once for loop is completed\")"
   ]
  },
  {
   "cell_type": "code",
   "execution_count": 27,
   "id": "07b55a48",
   "metadata": {},
   "outputs": [
    {
     "name": "stdout",
     "output_type": "stream",
     "text": [
      "p\n",
      "y\n",
      "t\n",
      "h\n",
      "o\n",
      "n\n"
     ]
    }
   ],
   "source": [
    "s = 'python'\n",
    "for i in s:\n",
    "    print(i)"
   ]
  },
  {
   "cell_type": "code",
   "execution_count": 28,
   "id": "66fe6ce6",
   "metadata": {},
   "outputs": [],
   "source": [
    "d = {\"key\":\"value\", \"name\": 'abc', \"contact\": 134656}"
   ]
  },
  {
   "cell_type": "code",
   "execution_count": 38,
   "id": "9985366f",
   "metadata": {},
   "outputs": [
    {
     "data": {
      "text/plain": [
       "134656"
      ]
     },
     "execution_count": 38,
     "metadata": {},
     "output_type": "execute_result"
    }
   ],
   "source": [
    "d['contact']"
   ]
  },
  {
   "cell_type": "code",
   "execution_count": 40,
   "id": "a0bc5a8b",
   "metadata": {},
   "outputs": [
    {
     "name": "stdout",
     "output_type": "stream",
     "text": [
      "key  =  value\n",
      "name  =  abc\n",
      "contact  =  134656\n"
     ]
    }
   ],
   "source": [
    "for i in d:\n",
    "    print(i, \" = \",d[i])"
   ]
  },
  {
   "cell_type": "code",
   "execution_count": null,
   "id": "be412da7",
   "metadata": {},
   "outputs": [],
   "source": [
    "range functions (start : end: step)"
   ]
  },
  {
   "cell_type": "code",
   "execution_count": 42,
   "id": "42f51893",
   "metadata": {},
   "outputs": [
    {
     "data": {
      "text/plain": [
       "range(1, 11)"
      ]
     },
     "execution_count": 42,
     "metadata": {},
     "output_type": "execute_result"
    }
   ],
   "source": [
    "range(1,11)"
   ]
  },
  {
   "cell_type": "code",
   "execution_count": 45,
   "id": "94e96dff",
   "metadata": {},
   "outputs": [
    {
     "name": "stdout",
     "output_type": "stream",
     "text": [
      "11 12 13 14 15 16 17 18 19 20 21 22 23 24 "
     ]
    }
   ],
   "source": [
    "for i in range(11,25):\n",
    "    print(i, end = \" \")"
   ]
  },
  {
   "cell_type": "code",
   "execution_count": 47,
   "id": "92221c9b",
   "metadata": {},
   "outputs": [
    {
     "name": "stdout",
     "output_type": "stream",
     "text": [
      "0 1 2 3 4 5 6 7 8 9 10 11 12 13 14 "
     ]
    }
   ],
   "source": [
    "for i in range(15):\n",
    "    print(i, end = \" \")"
   ]
  },
  {
   "cell_type": "code",
   "execution_count": 49,
   "id": "a42f2ecd",
   "metadata": {},
   "outputs": [
    {
     "name": "stdout",
     "output_type": "stream",
     "text": [
      "1 4 7 10 13 16 19 22 "
     ]
    }
   ],
   "source": [
    "for i in range(1,25,3):\n",
    "    print(i, end = \" \")"
   ]
  },
  {
   "cell_type": "code",
   "execution_count": 63,
   "id": "e692a822",
   "metadata": {},
   "outputs": [],
   "source": [
    "l = [10,20,30,40,50,60,70,10,20,30,40,50,60,70]"
   ]
  },
  {
   "cell_type": "code",
   "execution_count": null,
   "id": "885c501b",
   "metadata": {},
   "outputs": [],
   "source": [
    "for i in l:\n",
    "    print(i)"
   ]
  },
  {
   "cell_type": "code",
   "execution_count": 64,
   "id": "58b2b0b8",
   "metadata": {},
   "outputs": [
    {
     "data": {
      "text/plain": [
       "14"
      ]
     },
     "execution_count": 64,
     "metadata": {},
     "output_type": "execute_result"
    }
   ],
   "source": [
    "len(l)"
   ]
  },
  {
   "cell_type": "code",
   "execution_count": 60,
   "id": "a0ec2499",
   "metadata": {
    "scrolled": true
   },
   "outputs": [
    {
     "data": {
      "text/plain": [
       "20"
      ]
     },
     "execution_count": 60,
     "metadata": {},
     "output_type": "execute_result"
    }
   ],
   "source": [
    "l[1]"
   ]
  },
  {
   "cell_type": "code",
   "execution_count": 65,
   "id": "5d1c4df6",
   "metadata": {},
   "outputs": [
    {
     "name": "stdout",
     "output_type": "stream",
     "text": [
      "0 : 10\n",
      "1 : 20\n",
      "2 : 30\n",
      "3 : 40\n",
      "4 : 50\n",
      "5 : 60\n",
      "6 : 70\n",
      "7 : 10\n",
      "8 : 20\n",
      "9 : 30\n",
      "10 : 40\n",
      "11 : 50\n",
      "12 : 60\n",
      "13 : 70\n"
     ]
    }
   ],
   "source": [
    "for i in range(14):\n",
    "    print(i, \":\",l[i])"
   ]
  },
  {
   "cell_type": "code",
   "execution_count": 51,
   "id": "989d4064",
   "metadata": {},
   "outputs": [
    {
     "name": "stdout",
     "output_type": "stream",
     "text": [
      "10\n",
      "20\n",
      "30\n",
      "40\n",
      "50\n",
      "60\n",
      "70\n",
      "80\n"
     ]
    }
   ],
   "source": [
    "for i in l:\n",
    "    print(i)"
   ]
  },
  {
   "cell_type": "code",
   "execution_count": 69,
   "id": "8df47bc7",
   "metadata": {},
   "outputs": [
    {
     "name": "stdout",
     "output_type": "stream",
     "text": [
      "l\n",
      "e\n",
      "a\n",
      "r\n",
      "n\n",
      "i\n",
      "n\n",
      "g\n",
      " \n",
      "d\n",
      "a\n",
      "t\n",
      "a\n",
      " \n",
      "s\n",
      "c\n",
      "i\n",
      "e\n",
      "n\n",
      "c\n",
      "e\n"
     ]
    }
   ],
   "source": [
    "s = \"learning data science\"\n",
    "for i in s:\n",
    "    print( i)"
   ]
  },
  {
   "cell_type": "code",
   "execution_count": 76,
   "id": "944891a7",
   "metadata": {},
   "outputs": [
    {
     "name": "stdout",
     "output_type": "stream",
     "text": [
      "Enter a number for multiplications : 45848\n",
      "45848 x 1 = 45848\n",
      "45848 x 2 = 91696\n",
      "45848 x 3 = 137544\n",
      "45848 x 4 = 183392\n",
      "45848 x 5 = 229240\n",
      "45848 x 6 = 275088\n",
      "45848 x 7 = 320936\n",
      "45848 x 8 = 366784\n",
      "45848 x 9 = 412632\n",
      "45848 x 10 = 458480\n"
     ]
    }
   ],
   "source": [
    "s = int(input(\"Enter a number for multiplications : \"))\n",
    "for i in range(1,11):\n",
    "    print(s,\"x\",i, \"=\", i*s)"
   ]
  },
  {
   "cell_type": "code",
   "execution_count": 79,
   "id": "55abd2e9",
   "metadata": {},
   "outputs": [
    {
     "data": {
      "text/plain": [
       "{'a', 'b', 'c', 'd'}"
      ]
     },
     "execution_count": 79,
     "metadata": {},
     "output_type": "execute_result"
    }
   ],
   "source": [
    "s = \"aaaabbbbcccccdddddd\"\n",
    "set(s)"
   ]
  },
  {
   "cell_type": "code",
   "execution_count": 80,
   "id": "9a3c40cb",
   "metadata": {},
   "outputs": [
    {
     "name": "stdout",
     "output_type": "stream",
     "text": [
      "c : 5\n",
      "d : 6\n",
      "b : 4\n",
      "a : 4\n"
     ]
    }
   ],
   "source": [
    "for i in set(s):\n",
    "    print(i, \":\", s.count(i))"
   ]
  },
  {
   "cell_type": "code",
   "execution_count": 82,
   "id": "c7245c1d",
   "metadata": {},
   "outputs": [
    {
     "data": {
      "text/plain": [
       "{1, 2, 3, 6, 7, 9, 45}"
      ]
     },
     "execution_count": 82,
     "metadata": {},
     "output_type": "execute_result"
    }
   ],
   "source": [
    "s = {1,2,3,45,6,9,7,1,2,3,45,6,9,7,1,2,3,45,6,9,7,1,2,3,45,6,9,7,1,2,3,45,6,9,7}\n",
    "s"
   ]
  },
  {
   "cell_type": "code",
   "execution_count": 9,
   "id": "d979afa3",
   "metadata": {},
   "outputs": [
    {
     "name": "stdout",
     "output_type": "stream",
     "text": [
      "a\n",
      "m\n",
      "y\n",
      "t\n",
      "h\n",
      "o\n",
      "n\n",
      "a\n",
      "t\n",
      "a\n"
     ]
    }
   ],
   "source": [
    "s = \"SamPythonData\"\n",
    "for i in s: \n",
    "    if i.islower() == True:\n",
    "        print(i)\n",
    "    \n",
    "    \n",
    "    "
   ]
  },
  {
   "cell_type": "code",
   "execution_count": null,
   "id": "011e0b9d",
   "metadata": {},
   "outputs": [],
   "source": [
    "Factorial\n",
    "4"
   ]
  },
  {
   "cell_type": "code",
   "execution_count": 9,
   "id": "df17892b",
   "metadata": {},
   "outputs": [
    {
     "name": "stdout",
     "output_type": "stream",
     "text": [
      "Enter a number for factorial : 8\n",
      "40320\n"
     ]
    }
   ],
   "source": [
    "n = int(input(\"Enter a number for factorial : \"))\n",
    "fact = 1\n",
    "\n",
    "for i in range(1,n+1):\n",
    "    fact = fact*i\n",
    "print(fact)\n",
    "    "
   ]
  },
  {
   "cell_type": "code",
   "execution_count": null,
   "id": "e0781dd6",
   "metadata": {},
   "outputs": [],
   "source": [
    "initialization\n",
    "while (condition):\n",
    "    execution\n",
    "    increment/decrement\n",
    "\n"
   ]
  },
  {
   "cell_type": "code",
   "execution_count": 16,
   "id": "19f832ca",
   "metadata": {},
   "outputs": [
    {
     "name": "stdout",
     "output_type": "stream",
     "text": [
      "1 2 3 4 "
     ]
    }
   ],
   "source": [
    "i = 1\n",
    "while i <=10:\n",
    "    print(i, end = \" \")\n",
    "    i+=1\n",
    "    if i == 5:\n",
    "        break\n",
    "else:\n",
    "    print(\"this is the final statement\")"
   ]
  },
  {
   "cell_type": "code",
   "execution_count": 11,
   "id": "0103c47d",
   "metadata": {},
   "outputs": [
    {
     "name": "stdout",
     "output_type": "stream",
     "text": [
      "1 2 3 4 5 6 7 8 9 10 "
     ]
    }
   ],
   "source": [
    "i = 1\n",
    "while i <=10:\n",
    "    print(i, end = \" \")\n",
    "    i+=1"
   ]
  },
  {
   "cell_type": "code",
   "execution_count": 12,
   "id": "e324dffe",
   "metadata": {},
   "outputs": [
    {
     "name": "stdout",
     "output_type": "stream",
     "text": [
      "2 3 4 5 6 7 8 9 10 11 "
     ]
    }
   ],
   "source": [
    "i = 1\n",
    "while i <=10:\n",
    "    i+=1\n",
    "    print(i, end = \" \")\n",
    "    "
   ]
  },
  {
   "cell_type": "code",
   "execution_count": 10,
   "id": "e7fc9f5f",
   "metadata": {},
   "outputs": [
    {
     "name": "stdout",
     "output_type": "stream",
     "text": [
      "1 2 3 4 5 6 7 8 9 10 "
     ]
    }
   ],
   "source": [
    "i = 1\n",
    "while i <=10:\n",
    "    \n",
    "    print(i, end = \" \")\n",
    "    i+=1\n",
    "    "
   ]
  },
  {
   "cell_type": "code",
   "execution_count": 19,
   "id": "4f9ef4eb",
   "metadata": {},
   "outputs": [
    {
     "name": "stdout",
     "output_type": "stream",
     "text": [
      "10 20 30 40 50 30 60 70 "
     ]
    }
   ],
   "source": [
    "l = [10,20,30,40,50,30,60,70]\n",
    "for i in l:\n",
    "    print(i, end = \" \")"
   ]
  },
  {
   "cell_type": "code",
   "execution_count": 30,
   "id": "d72ddebf",
   "metadata": {},
   "outputs": [
    {
     "name": "stdout",
     "output_type": "stream",
     "text": [
      "70 60 30 50 40 30 20 70 60 30 50 40 30 20 70 60 30 50 40 30 20 10 "
     ]
    }
   ],
   "source": [
    "l = [10,20,30,40,50,30,60,70,20,30,40,50,30,60,70,20,30,40,50,30,60,70]\n",
    "i = -1\n",
    "while i >=-len(l):\n",
    "    print(l[i], end = \" \")\n",
    "    i-=1\n"
   ]
  },
  {
   "cell_type": "code",
   "execution_count": 35,
   "id": "a67ffd44",
   "metadata": {},
   "outputs": [
    {
     "name": "stdout",
     "output_type": "stream",
     "text": [
      "[10, 30, 50, 30, 70, 20, 30, 50, 60, 20, 30, 40, 30, 60, 70]\n",
      "wrong data : ['20', '40', '60', '40', '30', '70', '50']\n"
     ]
    }
   ],
   "source": [
    "l = [10,'20',30,'40',50,30,'60',[70,20,30],'40',50,'30',60,'70',20,30,40,'50',30,60,70]\n",
    "i = 0\n",
    "final_list = []\n",
    "wrong_data = []\n",
    "while i <len(l):\n",
    "    if type(l[i]) == int:\n",
    "        final_list.append(l[i])\n",
    "    else:\n",
    "        wrong_data.append(l[i])\n",
    "        \n",
    "        \n",
    "    i+=1\n",
    "print(final_list)\n",
    "print(\"wrong data :\", wrong_data)"
   ]
  },
  {
   "cell_type": "code",
   "execution_count": 36,
   "id": "23615179",
   "metadata": {},
   "outputs": [
    {
     "name": "stdout",
     "output_type": "stream",
     "text": [
      "Enter a number for factorial : 5\n",
      "120\n"
     ]
    }
   ],
   "source": [
    "n = int(input(\"Enter a number for factorial : \"))\n",
    "fact = 1\n",
    "\n",
    "for i in range(1,n+1):\n",
    "    fact = fact*i\n",
    "#     print(i)\n",
    "print(fact)"
   ]
  },
  {
   "cell_type": "code",
   "execution_count": 37,
   "id": "74c1ac99",
   "metadata": {
    "scrolled": true
   },
   "outputs": [
    {
     "name": "stdout",
     "output_type": "stream",
     "text": [
      "Enter a number for factorial : 5\n",
      "120\n"
     ]
    }
   ],
   "source": [
    "n = int(input(\"Enter a number for factorial : \"))\n",
    "fact = 1\n",
    "\n",
    "while n>0:\n",
    "    fact = fact*n\n",
    "    n-=1\n",
    "print(fact)\n",
    "    "
   ]
  },
  {
   "cell_type": "code",
   "execution_count": 38,
   "id": "5cee6744",
   "metadata": {},
   "outputs": [
    {
     "name": "stdout",
     "output_type": "stream",
     "text": [
      "Enter a number for factorial : 5\n",
      "120\n"
     ]
    }
   ],
   "source": [
    "n = int(input(\"Enter a number for factorial : \"))\n",
    "fact = 1\n",
    "i = 1  \n",
    "while i <= n:\n",
    "    fact = fact*i\n",
    "    i+=1\n",
    "print(fact)"
   ]
  },
  {
   "cell_type": "code",
   "execution_count": 43,
   "id": "3a192372",
   "metadata": {},
   "outputs": [
    {
     "name": "stdout",
     "output_type": "stream",
     "text": [
      "4\n"
     ]
    }
   ],
   "source": [
    "s = \"learnin python is easy\"\n",
    "l = s.split(\" \")\n",
    "final = l[-2]\n",
    "print(len(final))"
   ]
  },
  {
   "cell_type": "code",
   "execution_count": 50,
   "id": "75e95c39",
   "metadata": {},
   "outputs": [
    {
     "data": {
      "text/plain": [
       "'121'"
      ]
     },
     "execution_count": 50,
     "metadata": {},
     "output_type": "execute_result"
    }
   ],
   "source": [
    "a = 121\n",
    "s = str(a)\n",
    "s"
   ]
  },
  {
   "cell_type": "code",
   "execution_count": 48,
   "id": "a27490b3",
   "metadata": {},
   "outputs": [
    {
     "data": {
      "text/plain": [
       "'121'"
      ]
     },
     "execution_count": 48,
     "metadata": {},
     "output_type": "execute_result"
    }
   ],
   "source": [
    "s1 = s[::-1]\n",
    "s1"
   ]
  },
  {
   "cell_type": "code",
   "execution_count": 53,
   "id": "cea6d268",
   "metadata": {},
   "outputs": [],
   "source": [
    "a1= int(s1)"
   ]
  },
  {
   "cell_type": "code",
   "execution_count": 49,
   "id": "c1a4aa2f",
   "metadata": {},
   "outputs": [
    {
     "data": {
      "text/plain": [
       "False"
      ]
     },
     "execution_count": 49,
     "metadata": {},
     "output_type": "execute_result"
    }
   ],
   "source": [
    "s is s1"
   ]
  },
  {
   "cell_type": "code",
   "execution_count": 54,
   "id": "6cfd11e8",
   "metadata": {},
   "outputs": [
    {
     "name": "stdout",
     "output_type": "stream",
     "text": [
      "True\n"
     ]
    }
   ],
   "source": [
    "if a == a1:\n",
    "    print(\"True\")"
   ]
  },
  {
   "cell_type": "code",
   "execution_count": null,
   "id": "43c0faac",
   "metadata": {},
   "outputs": [],
   "source": [
    "palindrome\n",
    "\n",
    "madam\n",
    "wow\n",
    "viviv"
   ]
  }
 ],
 "metadata": {
  "kernelspec": {
   "display_name": "Python 3 (ipykernel)",
   "language": "python",
   "name": "python3"
  },
  "language_info": {
   "codemirror_mode": {
    "name": "ipython",
    "version": 3
   },
   "file_extension": ".py",
   "mimetype": "text/x-python",
   "name": "python",
   "nbconvert_exporter": "python",
   "pygments_lexer": "ipython3",
   "version": "3.10.0"
  }
 },
 "nbformat": 4,
 "nbformat_minor": 5
}
