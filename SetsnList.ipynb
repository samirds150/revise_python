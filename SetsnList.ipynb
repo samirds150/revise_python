{
 "cells": [
  {
   "cell_type": "code",
   "execution_count": 25,
   "id": "14d9cffd",
   "metadata": {},
   "outputs": [],
   "source": [
    "s = {10,20,30,40,50,20,10,60,20,30,1.5,\"python\", True}"
   ]
  },
  {
   "cell_type": "code",
   "execution_count": 26,
   "id": "c4343c36",
   "metadata": {},
   "outputs": [
    {
     "data": {
      "text/plain": [
       "{1.5, 10, 20, 30, 40, 50, 60, True, 'python'}"
      ]
     },
     "execution_count": 26,
     "metadata": {},
     "output_type": "execute_result"
    }
   ],
   "source": [
    "s"
   ]
  },
  {
   "cell_type": "code",
   "execution_count": 5,
   "id": "7a9059d6",
   "metadata": {},
   "outputs": [
    {
     "ename": "TypeError",
     "evalue": "'set' object is not subscriptable",
     "output_type": "error",
     "traceback": [
      "\u001b[1;31m---------------------------------------------------------------------------\u001b[0m",
      "\u001b[1;31mTypeError\u001b[0m                                 Traceback (most recent call last)",
      "\u001b[1;32m~\\AppData\\Local\\Temp/ipykernel_1864/1232273192.py\u001b[0m in \u001b[0;36m<module>\u001b[1;34m\u001b[0m\n\u001b[1;32m----> 1\u001b[1;33m \u001b[0ms\u001b[0m\u001b[1;33m[\u001b[0m\u001b[1;36m4\u001b[0m\u001b[1;33m]\u001b[0m\u001b[1;33m\u001b[0m\u001b[1;33m\u001b[0m\u001b[0m\n\u001b[0m",
      "\u001b[1;31mTypeError\u001b[0m: 'set' object is not subscriptable"
     ]
    }
   ],
   "source": [
    "s[4]"
   ]
  },
  {
   "cell_type": "code",
   "execution_count": 14,
   "id": "67bf9fab",
   "metadata": {},
   "outputs": [
    {
     "ename": "TypeError",
     "evalue": "set.add() takes exactly one argument (2 given)",
     "output_type": "error",
     "traceback": [
      "\u001b[1;31m---------------------------------------------------------------------------\u001b[0m",
      "\u001b[1;31mTypeError\u001b[0m                                 Traceback (most recent call last)",
      "\u001b[1;32m~\\AppData\\Local\\Temp/ipykernel_1864/3430260444.py\u001b[0m in \u001b[0;36m<module>\u001b[1;34m\u001b[0m\n\u001b[1;32m----> 1\u001b[1;33m \u001b[0ms\u001b[0m\u001b[1;33m.\u001b[0m\u001b[0madd\u001b[0m\u001b[1;33m(\u001b[0m\u001b[1;36m3100\u001b[0m\u001b[1;33m,\u001b[0m\u001b[1;36m54\u001b[0m\u001b[1;33m)\u001b[0m\u001b[1;33m\u001b[0m\u001b[1;33m\u001b[0m\u001b[0m\n\u001b[0m",
      "\u001b[1;31mTypeError\u001b[0m: set.add() takes exactly one argument (2 given)"
     ]
    }
   ],
   "source": [
    "s.add(3100,54)"
   ]
  },
  {
   "cell_type": "code",
   "execution_count": 13,
   "id": "106f56b0",
   "metadata": {},
   "outputs": [
    {
     "data": {
      "text/plain": [
       "{1.5, 10, 20, 30, 3100, 40, 400, 4100, 50, 60, True, 'python'}"
      ]
     },
     "execution_count": 13,
     "metadata": {},
     "output_type": "execute_result"
    }
   ],
   "source": [
    "s"
   ]
  },
  {
   "cell_type": "code",
   "execution_count": 22,
   "id": "f0b2c2b8",
   "metadata": {},
   "outputs": [],
   "source": [
    "s1 = {\"d\": 11}"
   ]
  },
  {
   "cell_type": "code",
   "execution_count": 23,
   "id": "a25b814f",
   "metadata": {},
   "outputs": [
    {
     "ename": "TypeError",
     "evalue": "unhashable type: 'dict'",
     "output_type": "error",
     "traceback": [
      "\u001b[1;31m---------------------------------------------------------------------------\u001b[0m",
      "\u001b[1;31mTypeError\u001b[0m                                 Traceback (most recent call last)",
      "\u001b[1;32m~\\AppData\\Local\\Temp/ipykernel_1864/3560558256.py\u001b[0m in \u001b[0;36m<module>\u001b[1;34m\u001b[0m\n\u001b[1;32m----> 1\u001b[1;33m \u001b[0ms\u001b[0m\u001b[1;33m.\u001b[0m\u001b[0madd\u001b[0m\u001b[1;33m(\u001b[0m\u001b[0ms1\u001b[0m\u001b[1;33m)\u001b[0m\u001b[1;33m\u001b[0m\u001b[1;33m\u001b[0m\u001b[0m\n\u001b[0m",
      "\u001b[1;31mTypeError\u001b[0m: unhashable type: 'dict'"
     ]
    }
   ],
   "source": [
    "s.add(s1)"
   ]
  },
  {
   "cell_type": "code",
   "execution_count": 31,
   "id": "395523bf",
   "metadata": {},
   "outputs": [],
   "source": [
    "s1 = {11,12,13,451}"
   ]
  },
  {
   "cell_type": "code",
   "execution_count": 32,
   "id": "d778ac92",
   "metadata": {},
   "outputs": [],
   "source": [
    "s.update(s1)"
   ]
  },
  {
   "cell_type": "code",
   "execution_count": 33,
   "id": "d8bfd20d",
   "metadata": {},
   "outputs": [
    {
     "data": {
      "text/plain": [
       "{1.5, 10, 11, 12, 13, 2, 20, 3, 30, 40, 45, 451, 50, 60, True, 'python'}"
      ]
     },
     "execution_count": 33,
     "metadata": {},
     "output_type": "execute_result"
    }
   ],
   "source": [
    "s"
   ]
  },
  {
   "cell_type": "code",
   "execution_count": 34,
   "id": "683cf9f8",
   "metadata": {},
   "outputs": [
    {
     "data": {
      "text/plain": [
       "{11, 12, 13, 451}"
      ]
     },
     "execution_count": 34,
     "metadata": {},
     "output_type": "execute_result"
    }
   ],
   "source": [
    "s1"
   ]
  },
  {
   "cell_type": "code",
   "execution_count": 37,
   "id": "c3749a7d",
   "metadata": {},
   "outputs": [
    {
     "data": {
      "text/plain": [
       "{11, 12, 13, 451}"
      ]
     },
     "execution_count": 37,
     "metadata": {},
     "output_type": "execute_result"
    }
   ],
   "source": [
    "s2 = s1.copy()\n",
    "s2"
   ]
  },
  {
   "cell_type": "code",
   "execution_count": 38,
   "id": "54508a7e",
   "metadata": {},
   "outputs": [
    {
     "data": {
      "text/plain": [
       "1.5"
      ]
     },
     "execution_count": 38,
     "metadata": {},
     "output_type": "execute_result"
    }
   ],
   "source": [
    "s.pop() #set, list, dict in set it removes first element"
   ]
  },
  {
   "cell_type": "code",
   "execution_count": 42,
   "id": "a175e3c6",
   "metadata": {},
   "outputs": [
    {
     "data": {
      "text/plain": [
       "13"
      ]
     },
     "execution_count": 42,
     "metadata": {},
     "output_type": "execute_result"
    }
   ],
   "source": [
    "s1.pop()"
   ]
  },
  {
   "cell_type": "code",
   "execution_count": 41,
   "id": "02fcf582",
   "metadata": {},
   "outputs": [
    {
     "data": {
      "text/plain": [
       "{13, 451}"
      ]
     },
     "execution_count": 41,
     "metadata": {},
     "output_type": "execute_result"
    }
   ],
   "source": [
    "\n",
    "s1"
   ]
  },
  {
   "cell_type": "code",
   "execution_count": 43,
   "id": "ebb65bfa",
   "metadata": {},
   "outputs": [
    {
     "data": {
      "text/plain": [
       "{10, 11, 12, 13, 2, 20, 3, 30, 40, 45, 451, 50, 60, True, 'python'}"
      ]
     },
     "execution_count": 43,
     "metadata": {},
     "output_type": "execute_result"
    }
   ],
   "source": [
    "s"
   ]
  },
  {
   "cell_type": "code",
   "execution_count": 55,
   "id": "b5148f35",
   "metadata": {},
   "outputs": [],
   "source": [
    "s3 = {10,11,12}"
   ]
  },
  {
   "cell_type": "code",
   "execution_count": 57,
   "id": "4b8666ef",
   "metadata": {},
   "outputs": [
    {
     "ename": "KeyError",
     "evalue": "{10, 11, 12}",
     "output_type": "error",
     "traceback": [
      "\u001b[1;31m---------------------------------------------------------------------------\u001b[0m",
      "\u001b[1;31mKeyError\u001b[0m                                  Traceback (most recent call last)",
      "\u001b[1;32m~\\AppData\\Local\\Temp/ipykernel_1864/3421883391.py\u001b[0m in \u001b[0;36m<module>\u001b[1;34m\u001b[0m\n\u001b[1;32m----> 1\u001b[1;33m \u001b[0ms\u001b[0m\u001b[1;33m.\u001b[0m\u001b[0mremove\u001b[0m\u001b[1;33m(\u001b[0m\u001b[0ms3\u001b[0m\u001b[1;33m)\u001b[0m\u001b[1;33m\u001b[0m\u001b[1;33m\u001b[0m\u001b[0m\n\u001b[0m",
      "\u001b[1;31mKeyError\u001b[0m: {10, 11, 12}"
     ]
    }
   ],
   "source": [
    "s.remove(s3)"
   ]
  },
  {
   "cell_type": "code",
   "execution_count": 45,
   "id": "1eaba43c",
   "metadata": {},
   "outputs": [
    {
     "data": {
      "text/plain": [
       "{10, 11, 13, 2, 20, 3, 30, 40, 45, 451, 50, 60, True, 'python'}"
      ]
     },
     "execution_count": 45,
     "metadata": {},
     "output_type": "execute_result"
    }
   ],
   "source": [
    "s"
   ]
  },
  {
   "cell_type": "code",
   "execution_count": 58,
   "id": "d2537c2b",
   "metadata": {},
   "outputs": [],
   "source": [
    "s.discard(11)"
   ]
  },
  {
   "cell_type": "code",
   "execution_count": 59,
   "id": "4d706f0f",
   "metadata": {},
   "outputs": [
    {
     "data": {
      "text/plain": [
       "{10, 13, 2, 20, 3, 30, 40, 45, 451, 50, 60, True, 'python'}"
      ]
     },
     "execution_count": 59,
     "metadata": {},
     "output_type": "execute_result"
    }
   ],
   "source": [
    "s"
   ]
  },
  {
   "cell_type": "code",
   "execution_count": 61,
   "id": "b99d70c4",
   "metadata": {},
   "outputs": [
    {
     "data": {
      "text/plain": [
       "set()"
      ]
     },
     "execution_count": 61,
     "metadata": {},
     "output_type": "execute_result"
    }
   ],
   "source": [
    "s.clear()\n",
    "s"
   ]
  },
  {
   "cell_type": "code",
   "execution_count": 65,
   "id": "1e365657",
   "metadata": {},
   "outputs": [
    {
     "data": {
      "text/plain": [
       "(10, 20, 30, 40, 50, 10, 20)"
      ]
     },
     "execution_count": 65,
     "metadata": {},
     "output_type": "execute_result"
    }
   ],
   "source": [
    "t = (10,20,30,40,50,10,20)\n",
    "t"
   ]
  },
  {
   "cell_type": "code",
   "execution_count": 63,
   "id": "c779f005",
   "metadata": {},
   "outputs": [
    {
     "data": {
      "text/plain": [
       "{10, 20, 30, 40, 50}"
      ]
     },
     "execution_count": 63,
     "metadata": {},
     "output_type": "execute_result"
    }
   ],
   "source": [
    "= \"pythonset(t)"
   ]
  },
  {
   "cell_type": "code",
   "execution_count": 83,
   "id": "5c7623d8",
   "metadata": {},
   "outputs": [],
   "source": [
    "s = \"pythonpycharm\""
   ]
  },
  {
   "cell_type": "code",
   "execution_count": 84,
   "id": "e66656b4",
   "metadata": {
    "scrolled": true
   },
   "outputs": [
    {
     "data": {
      "text/plain": [
       "'python'"
      ]
     },
     "execution_count": 84,
     "metadata": {},
     "output_type": "execute_result"
    }
   ],
   "source": [
    "s1 = s[:6]\n",
    "s1"
   ]
  },
  {
   "cell_type": "code",
   "execution_count": 89,
   "id": "d5f238f0",
   "metadata": {},
   "outputs": [],
   "source": [
    "s2 = s[6:]\n",
    "s3 = s2[::-1]"
   ]
  },
  {
   "cell_type": "code",
   "execution_count": 90,
   "id": "bcdbe2c3",
   "metadata": {},
   "outputs": [
    {
     "data": {
      "text/plain": [
       "'pythonmrahcyp'"
      ]
     },
     "execution_count": 90,
     "metadata": {},
     "output_type": "execute_result"
    }
   ],
   "source": [
    "s1+s3"
   ]
  },
  {
   "cell_type": "code",
   "execution_count": 67,
   "id": "f6a136de",
   "metadata": {},
   "outputs": [
    {
     "data": {
      "text/plain": [
       "{'a', 'c', 'h', 'm', 'n', 'o', 'p', 'r', 't', 'y'}"
      ]
     },
     "execution_count": 67,
     "metadata": {},
     "output_type": "execute_result"
    }
   ],
   "source": [
    "set(s)"
   ]
  },
  {
   "cell_type": "code",
   "execution_count": null,
   "id": "87edd72f",
   "metadata": {},
   "outputs": [],
   "source": [
    "s1 = \"pythonmrahcyp\""
   ]
  },
  {
   "cell_type": "code",
   "execution_count": 68,
   "id": "7bb95daf",
   "metadata": {},
   "outputs": [
    {
     "data": {
      "text/plain": [
       "'mrahcypnohtyp'"
      ]
     },
     "execution_count": 68,
     "metadata": {},
     "output_type": "execute_result"
    }
   ],
   "source": [
    "s[::-1]"
   ]
  },
  {
   "cell_type": "code",
   "execution_count": 69,
   "id": "a434769c",
   "metadata": {},
   "outputs": [],
   "source": [
    "d = {\"key\": \"value\", \"a\": 12, \"c\": 122}"
   ]
  },
  {
   "cell_type": "code",
   "execution_count": 70,
   "id": "94415d99",
   "metadata": {},
   "outputs": [
    {
     "data": {
      "text/plain": [
       "{'a', 'c', 'key'}"
      ]
     },
     "execution_count": 70,
     "metadata": {},
     "output_type": "execute_result"
    }
   ],
   "source": [
    "set(d)"
   ]
  },
  {
   "cell_type": "code",
   "execution_count": 109,
   "id": "3d385fe0",
   "metadata": {},
   "outputs": [],
   "source": [
    "s = {10,20,30,4,5,6}\n",
    "s1 = {1,2,30,4,7,8}"
   ]
  },
  {
   "cell_type": "code",
   "execution_count": 72,
   "id": "47ade70b",
   "metadata": {},
   "outputs": [
    {
     "data": {
      "text/plain": [
       "{4, 30}"
      ]
     },
     "execution_count": 72,
     "metadata": {},
     "output_type": "execute_result"
    }
   ],
   "source": [
    "s.intersection(s1)"
   ]
  },
  {
   "cell_type": "code",
   "execution_count": 112,
   "id": "1de3b666",
   "metadata": {},
   "outputs": [
    {
     "ename": "TypeError",
     "evalue": "object of type 'float' has no len()",
     "output_type": "error",
     "traceback": [
      "\u001b[1;31m---------------------------------------------------------------------------\u001b[0m",
      "\u001b[1;31mTypeError\u001b[0m                                 Traceback (most recent call last)",
      "\u001b[1;32m~\\AppData\\Local\\Temp/ipykernel_1864/3273078121.py\u001b[0m in \u001b[0;36m<module>\u001b[1;34m\u001b[0m\n\u001b[1;32m----> 1\u001b[1;33m \u001b[0mlen\u001b[0m\u001b[1;33m(\u001b[0m\u001b[1;36m155.5\u001b[0m\u001b[1;33m)\u001b[0m\u001b[1;33m\u001b[0m\u001b[1;33m\u001b[0m\u001b[0m\n\u001b[0m",
      "\u001b[1;31mTypeError\u001b[0m: object of type 'float' has no len()"
     ]
    }
   ],
   "source": [
    "len(155.5)"
   ]
  },
  {
   "cell_type": "code",
   "execution_count": 73,
   "id": "624880cb",
   "metadata": {},
   "outputs": [
    {
     "data": {
      "text/plain": [
       "{1, 2, 4, 5, 6, 7, 8, 10, 20, 30}"
      ]
     },
     "execution_count": 73,
     "metadata": {},
     "output_type": "execute_result"
    }
   ],
   "source": [
    "s.union(s1)"
   ]
  },
  {
   "cell_type": "code",
   "execution_count": 74,
   "id": "c86a3ced",
   "metadata": {},
   "outputs": [
    {
     "data": {
      "text/plain": [
       "{1, 2, 5, 6, 7, 8, 10, 20}"
      ]
     },
     "execution_count": 74,
     "metadata": {},
     "output_type": "execute_result"
    }
   ],
   "source": [
    "s.symmetric_difference(s1)"
   ]
  },
  {
   "cell_type": "code",
   "execution_count": 75,
   "id": "cd60dc1a",
   "metadata": {},
   "outputs": [
    {
     "data": {
      "text/plain": [
       "{5, 6, 10, 20}"
      ]
     },
     "execution_count": 75,
     "metadata": {},
     "output_type": "execute_result"
    }
   ],
   "source": [
    "s.difference(s1)"
   ]
  },
  {
   "cell_type": "code",
   "execution_count": 76,
   "id": "917cc5af",
   "metadata": {},
   "outputs": [
    {
     "data": {
      "text/plain": [
       "{1, 2, 7, 8}"
      ]
     },
     "execution_count": 76,
     "metadata": {},
     "output_type": "execute_result"
    }
   ],
   "source": [
    "s1.difference(s)"
   ]
  },
  {
   "cell_type": "code",
   "execution_count": 77,
   "id": "4ef67b6c",
   "metadata": {},
   "outputs": [
    {
     "data": {
      "text/plain": [
       "{4, 5, 6, 10, 20, 30}"
      ]
     },
     "execution_count": 77,
     "metadata": {},
     "output_type": "execute_result"
    }
   ],
   "source": [
    "s"
   ]
  },
  {
   "cell_type": "code",
   "execution_count": 79,
   "id": "51b45447",
   "metadata": {},
   "outputs": [
    {
     "data": {
      "text/plain": [
       "False"
      ]
     },
     "execution_count": 79,
     "metadata": {},
     "output_type": "execute_result"
    }
   ],
   "source": [
    "40 in s"
   ]
  },
  {
   "cell_type": "code",
   "execution_count": 81,
   "id": "a4dea16c",
   "metadata": {},
   "outputs": [
    {
     "data": {
      "text/plain": [
       "False"
      ]
     },
     "execution_count": 81,
     "metadata": {},
     "output_type": "execute_result"
    }
   ],
   "source": [
    "4 not in s"
   ]
  },
  {
   "cell_type": "code",
   "execution_count": 91,
   "id": "863e294e",
   "metadata": {},
   "outputs": [],
   "source": [
    "l = []"
   ]
  },
  {
   "cell_type": "code",
   "execution_count": 92,
   "id": "26af9543",
   "metadata": {},
   "outputs": [],
   "source": [
    "l = [10,20,20,30,40,50,10,'sam', True, 13.5]"
   ]
  },
  {
   "cell_type": "code",
   "execution_count": 93,
   "id": "737acbe6",
   "metadata": {},
   "outputs": [
    {
     "data": {
      "text/plain": [
       "[10, 20, 20, 30, 40, 50, 10, 'sam', True, 13.5]"
      ]
     },
     "execution_count": 93,
     "metadata": {},
     "output_type": "execute_result"
    }
   ],
   "source": [
    "l"
   ]
  },
  {
   "cell_type": "code",
   "execution_count": 96,
   "id": "65ed1f79",
   "metadata": {},
   "outputs": [
    {
     "data": {
      "text/plain": [
       "[]"
      ]
     },
     "execution_count": 96,
     "metadata": {},
     "output_type": "execute_result"
    }
   ],
   "source": [
    "l[0:5:-1]"
   ]
  },
  {
   "cell_type": "code",
   "execution_count": 98,
   "id": "7627acce",
   "metadata": {
    "scrolled": true
   },
   "outputs": [
    {
     "data": {
      "text/plain": [
       "[13.5, True, 'sam', 10, 50, 40, 30, 20, 20, 10]"
      ]
     },
     "execution_count": 98,
     "metadata": {},
     "output_type": "execute_result"
    }
   ],
   "source": [
    "l[::-1]"
   ]
  },
  {
   "cell_type": "code",
   "execution_count": 100,
   "id": "2f620f4d",
   "metadata": {},
   "outputs": [
    {
     "data": {
      "text/plain": [
       "50"
      ]
     },
     "execution_count": 100,
     "metadata": {},
     "output_type": "execute_result"
    }
   ],
   "source": [
    "l[5]"
   ]
  },
  {
   "cell_type": "code",
   "execution_count": 101,
   "id": "2978744c",
   "metadata": {},
   "outputs": [
    {
     "ename": "IndexError",
     "evalue": "list index out of range",
     "output_type": "error",
     "traceback": [
      "\u001b[1;31m---------------------------------------------------------------------------\u001b[0m",
      "\u001b[1;31mIndexError\u001b[0m                                Traceback (most recent call last)",
      "\u001b[1;32m~\\AppData\\Local\\Temp/ipykernel_1864/2321736930.py\u001b[0m in \u001b[0;36m<module>\u001b[1;34m\u001b[0m\n\u001b[1;32m----> 1\u001b[1;33m \u001b[0ml\u001b[0m\u001b[1;33m[\u001b[0m\u001b[1;36m100\u001b[0m\u001b[1;33m]\u001b[0m\u001b[1;33m\u001b[0m\u001b[1;33m\u001b[0m\u001b[0m\n\u001b[0m",
      "\u001b[1;31mIndexError\u001b[0m: list index out of range"
     ]
    }
   ],
   "source": [
    "l[100]"
   ]
  },
  {
   "cell_type": "code",
   "execution_count": 104,
   "id": "47508cd1",
   "metadata": {},
   "outputs": [],
   "source": [
    "t = {10,20,30,40,50}"
   ]
  },
  {
   "cell_type": "code",
   "execution_count": 105,
   "id": "85a71bab",
   "metadata": {},
   "outputs": [
    {
     "data": {
      "text/plain": [
       "[50, 20, 40, 10, 30]"
      ]
     },
     "execution_count": 105,
     "metadata": {},
     "output_type": "execute_result"
    }
   ],
   "source": [
    "list(t)"
   ]
  },
  {
   "cell_type": "code",
   "execution_count": 106,
   "id": "b73188b7",
   "metadata": {},
   "outputs": [],
   "source": [
    "s = \"Learningpython\""
   ]
  },
  {
   "cell_type": "code",
   "execution_count": 107,
   "id": "ae4c3364",
   "metadata": {},
   "outputs": [
    {
     "data": {
      "text/plain": [
       "['L', 'e', 'a', 'r', 'n', 'i', 'n', 'g', 'p', 'y', 't', 'h', 'o', 'n']"
      ]
     },
     "execution_count": 107,
     "metadata": {},
     "output_type": "execute_result"
    }
   ],
   "source": [
    "list(s)"
   ]
  },
  {
   "cell_type": "code",
   "execution_count": 108,
   "id": "d2273ff1",
   "metadata": {},
   "outputs": [
    {
     "data": {
      "text/plain": [
       "14"
      ]
     },
     "execution_count": 108,
     "metadata": {},
     "output_type": "execute_result"
    }
   ],
   "source": [
    "len(s)"
   ]
  },
  {
   "cell_type": "code",
   "execution_count": 113,
   "id": "6cba1f07",
   "metadata": {},
   "outputs": [],
   "source": [
    "l = [10,20,20,30,40,50,10,'sam', True, 13.5]"
   ]
  },
  {
   "cell_type": "code",
   "execution_count": 118,
   "id": "a3e6fc02",
   "metadata": {},
   "outputs": [
    {
     "data": {
      "text/plain": [
       "[10, 20, 20, 30, 40, 50, 10, 'sam', True, 13.5]"
      ]
     },
     "execution_count": 118,
     "metadata": {},
     "output_type": "execute_result"
    }
   ],
   "source": [
    "l"
   ]
  },
  {
   "cell_type": "code",
   "execution_count": 120,
   "id": "b272833b",
   "metadata": {},
   "outputs": [
    {
     "data": {
      "text/plain": [
       "False"
      ]
     },
     "execution_count": 120,
     "metadata": {},
     "output_type": "execute_result"
    }
   ],
   "source": [
    "410 in l"
   ]
  },
  {
   "cell_type": "code",
   "execution_count": 122,
   "id": "c4ba9c0d",
   "metadata": {},
   "outputs": [
    {
     "data": {
      "text/plain": [
       "False"
      ]
     },
     "execution_count": 122,
     "metadata": {},
     "output_type": "execute_result"
    }
   ],
   "source": [
    "40 not in l"
   ]
  },
  {
   "cell_type": "code",
   "execution_count": 123,
   "id": "037d987a",
   "metadata": {},
   "outputs": [
    {
     "ename": "TypeError",
     "evalue": "'<' not supported between instances of 'str' and 'int'",
     "output_type": "error",
     "traceback": [
      "\u001b[1;31m---------------------------------------------------------------------------\u001b[0m",
      "\u001b[1;31mTypeError\u001b[0m                                 Traceback (most recent call last)",
      "\u001b[1;32m~\\AppData\\Local\\Temp/ipykernel_1864/1537053510.py\u001b[0m in \u001b[0;36m<module>\u001b[1;34m\u001b[0m\n\u001b[1;32m----> 1\u001b[1;33m \u001b[0mmin\u001b[0m\u001b[1;33m(\u001b[0m\u001b[0ml\u001b[0m\u001b[1;33m)\u001b[0m\u001b[1;33m\u001b[0m\u001b[1;33m\u001b[0m\u001b[0m\n\u001b[0m",
      "\u001b[1;31mTypeError\u001b[0m: '<' not supported between instances of 'str' and 'int'"
     ]
    }
   ],
   "source": [
    "min(l)"
   ]
  },
  {
   "cell_type": "code",
   "execution_count": 124,
   "id": "84eddd61",
   "metadata": {},
   "outputs": [],
   "source": [
    "l1 = [10, 20, 20, 30, 40, 50, 10]"
   ]
  },
  {
   "cell_type": "code",
   "execution_count": 125,
   "id": "9288fb04",
   "metadata": {},
   "outputs": [
    {
     "data": {
      "text/plain": [
       "10"
      ]
     },
     "execution_count": 125,
     "metadata": {},
     "output_type": "execute_result"
    }
   ],
   "source": [
    "min(l1)"
   ]
  },
  {
   "cell_type": "code",
   "execution_count": 126,
   "id": "e67c1c33",
   "metadata": {},
   "outputs": [
    {
     "data": {
      "text/plain": [
       "50"
      ]
     },
     "execution_count": 126,
     "metadata": {},
     "output_type": "execute_result"
    }
   ],
   "source": [
    "max(l1)"
   ]
  },
  {
   "cell_type": "code",
   "execution_count": 127,
   "id": "da26d434",
   "metadata": {},
   "outputs": [],
   "source": [
    "l2 = ['sam','python', 'c', 'java']"
   ]
  },
  {
   "cell_type": "code",
   "execution_count": 128,
   "id": "230cb336",
   "metadata": {},
   "outputs": [
    {
     "data": {
      "text/plain": [
       "'c'"
      ]
     },
     "execution_count": 128,
     "metadata": {},
     "output_type": "execute_result"
    }
   ],
   "source": [
    "min(l2)"
   ]
  },
  {
   "cell_type": "code",
   "execution_count": 129,
   "id": "a1fd2eb6",
   "metadata": {},
   "outputs": [
    {
     "data": {
      "text/plain": [
       "'sam'"
      ]
     },
     "execution_count": 129,
     "metadata": {},
     "output_type": "execute_result"
    }
   ],
   "source": [
    "max(l2)"
   ]
  },
  {
   "cell_type": "code",
   "execution_count": 130,
   "id": "8faf4894",
   "metadata": {},
   "outputs": [
    {
     "data": {
      "text/plain": [
       "315"
      ]
     },
     "execution_count": 130,
     "metadata": {},
     "output_type": "execute_result"
    }
   ],
   "source": [
    "int(\"315\")"
   ]
  },
  {
   "cell_type": "code",
   "execution_count": 131,
   "id": "158e410e",
   "metadata": {},
   "outputs": [
    {
     "data": {
      "text/plain": [
       "[10, 20, 20, 30, 40, 50, 10, 'sam', True, 13.5]"
      ]
     },
     "execution_count": 131,
     "metadata": {},
     "output_type": "execute_result"
    }
   ],
   "source": [
    "l"
   ]
  },
  {
   "cell_type": "code",
   "execution_count": 142,
   "id": "2ff3195e",
   "metadata": {},
   "outputs": [
    {
     "ename": "IndexError",
     "evalue": "list assignment index out of range",
     "output_type": "error",
     "traceback": [
      "\u001b[1;31m---------------------------------------------------------------------------\u001b[0m",
      "\u001b[1;31mIndexError\u001b[0m                                Traceback (most recent call last)",
      "\u001b[1;32m~\\AppData\\Local\\Temp/ipykernel_1864/835300999.py\u001b[0m in \u001b[0;36m<module>\u001b[1;34m\u001b[0m\n\u001b[1;32m----> 1\u001b[1;33m \u001b[0ml\u001b[0m\u001b[1;33m[\u001b[0m\u001b[1;36m153\u001b[0m\u001b[1;33m]\u001b[0m \u001b[1;33m=\u001b[0m \u001b[1;36m123\u001b[0m\u001b[1;33m\u001b[0m\u001b[1;33m\u001b[0m\u001b[0m\n\u001b[0m",
      "\u001b[1;31mIndexError\u001b[0m: list assignment index out of range"
     ]
    }
   ],
   "source": [
    "l[2] = 123"
   ]
  },
  {
   "cell_type": "code",
   "execution_count": 143,
   "id": "71d5b4d3",
   "metadata": {},
   "outputs": [
    {
     "data": {
      "text/plain": [
       "[10, 20, 20, 9870503603, 123, 40, 50, 10, 'sam', True, 13.5, 9870503603]"
      ]
     },
     "execution_count": 143,
     "metadata": {},
     "output_type": "execute_result"
    }
   ],
   "source": [
    "l"
   ]
  },
  {
   "cell_type": "code",
   "execution_count": 144,
   "id": "30ebda7d",
   "metadata": {},
   "outputs": [],
   "source": [
    "l.insert(150,12345)"
   ]
  },
  {
   "cell_type": "code",
   "execution_count": 145,
   "id": "2a0d466d",
   "metadata": {},
   "outputs": [
    {
     "data": {
      "text/plain": [
       "[10, 20, 20, 9870503603, 123, 40, 50, 10, 'sam', True, 13.5, 9870503603, 12345]"
      ]
     },
     "execution_count": 145,
     "metadata": {},
     "output_type": "execute_result"
    }
   ],
   "source": [
    "l"
   ]
  },
  {
   "cell_type": "code",
   "execution_count": 137,
   "id": "e3654aa6",
   "metadata": {},
   "outputs": [
    {
     "data": {
      "text/plain": [
       "2"
      ]
     },
     "execution_count": 137,
     "metadata": {},
     "output_type": "execute_result"
    }
   ],
   "source": [
    "l.count(10)"
   ]
  },
  {
   "cell_type": "code",
   "execution_count": 140,
   "id": "b7f79a6c",
   "metadata": {
    "scrolled": true
   },
   "outputs": [
    {
     "ename": "ValueError",
     "evalue": "444 is not in list",
     "output_type": "error",
     "traceback": [
      "\u001b[1;31m---------------------------------------------------------------------------\u001b[0m",
      "\u001b[1;31mValueError\u001b[0m                                Traceback (most recent call last)",
      "\u001b[1;32m~\\AppData\\Local\\Temp/ipykernel_1864/350162094.py\u001b[0m in \u001b[0;36m<module>\u001b[1;34m\u001b[0m\n\u001b[1;32m----> 1\u001b[1;33m \u001b[0ml\u001b[0m\u001b[1;33m.\u001b[0m\u001b[0mindex\u001b[0m\u001b[1;33m(\u001b[0m\u001b[1;36m444\u001b[0m\u001b[1;33m)\u001b[0m\u001b[1;33m\u001b[0m\u001b[1;33m\u001b[0m\u001b[0m\n\u001b[0m",
      "\u001b[1;31mValueError\u001b[0m: 444 is not in list"
     ]
    }
   ],
   "source": [
    "l.index(444)"
   ]
  },
  {
   "cell_type": "code",
   "execution_count": 10,
   "id": "f70b0c0d",
   "metadata": {},
   "outputs": [],
   "source": [
    "l = [10, 20, 20, 30, 40, 50, 10, 'sam', True, 13.5]\n"
   ]
  },
  {
   "cell_type": "code",
   "execution_count": 6,
   "id": "a73ea7d0",
   "metadata": {},
   "outputs": [
    {
     "ename": "TypeError",
     "evalue": "list.append() takes exactly one argument (2 given)",
     "output_type": "error",
     "traceback": [
      "\u001b[1;31m---------------------------------------------------------------------------\u001b[0m",
      "\u001b[1;31mTypeError\u001b[0m                                 Traceback (most recent call last)",
      "\u001b[1;32m~\\AppData\\Local\\Temp/ipykernel_19952/888969762.py\u001b[0m in \u001b[0;36m<module>\u001b[1;34m\u001b[0m\n\u001b[1;32m----> 1\u001b[1;33m \u001b[0ml\u001b[0m\u001b[1;33m.\u001b[0m\u001b[0mappend\u001b[0m\u001b[1;33m(\u001b[0m\u001b[1;36m1212\u001b[0m\u001b[1;33m,\u001b[0m\u001b[1;36m12\u001b[0m\u001b[1;33m)\u001b[0m\u001b[1;33m\u001b[0m\u001b[1;33m\u001b[0m\u001b[0m\n\u001b[0m",
      "\u001b[1;31mTypeError\u001b[0m: list.append() takes exactly one argument (2 given)"
     ]
    }
   ],
   "source": [
    "l.append(1212)"
   ]
  },
  {
   "cell_type": "code",
   "execution_count": 5,
   "id": "92de5155",
   "metadata": {},
   "outputs": [
    {
     "data": {
      "text/plain": [
       "[10, 20, 20, 30, 40, 50, 10, 'sam', True, 13.5, 'python', 1212]"
      ]
     },
     "execution_count": 5,
     "metadata": {},
     "output_type": "execute_result"
    }
   ],
   "source": [
    "l"
   ]
  },
  {
   "cell_type": "code",
   "execution_count": 7,
   "id": "26c93c7f",
   "metadata": {},
   "outputs": [],
   "source": [
    "l1 = [1,2,3]"
   ]
  },
  {
   "cell_type": "code",
   "execution_count": 8,
   "id": "a91d7aa0",
   "metadata": {},
   "outputs": [],
   "source": [
    "l.append(l1)"
   ]
  },
  {
   "cell_type": "code",
   "execution_count": 11,
   "id": "ab96e468",
   "metadata": {},
   "outputs": [
    {
     "data": {
      "text/plain": [
       "[10, 20, 20, 30, 40, 50, 10, 'sam', True, 13.5]"
      ]
     },
     "execution_count": 11,
     "metadata": {},
     "output_type": "execute_result"
    }
   ],
   "source": [
    "l"
   ]
  },
  {
   "cell_type": "code",
   "execution_count": 17,
   "id": "ed59779f",
   "metadata": {},
   "outputs": [
    {
     "ename": "TypeError",
     "evalue": "list.extend() takes exactly one argument (3 given)",
     "output_type": "error",
     "traceback": [
      "\u001b[1;31m---------------------------------------------------------------------------\u001b[0m",
      "\u001b[1;31mTypeError\u001b[0m                                 Traceback (most recent call last)",
      "\u001b[1;32m~\\AppData\\Local\\Temp/ipykernel_19952/2837553650.py\u001b[0m in \u001b[0;36m<module>\u001b[1;34m\u001b[0m\n\u001b[1;32m----> 1\u001b[1;33m \u001b[0ml\u001b[0m\u001b[1;33m.\u001b[0m\u001b[0mextend\u001b[0m\u001b[1;33m(\u001b[0m\u001b[1;36m12\u001b[0m\u001b[1;33m,\u001b[0m\u001b[1;36m12\u001b[0m\u001b[1;33m,\u001b[0m\u001b[1;36m12\u001b[0m\u001b[1;33m)\u001b[0m\u001b[1;33m\u001b[0m\u001b[1;33m\u001b[0m\u001b[0m\n\u001b[0m",
      "\u001b[1;31mTypeError\u001b[0m: list.extend() takes exactly one argument (3 given)"
     ]
    }
   ],
   "source": [
    "l.extend()"
   ]
  },
  {
   "cell_type": "code",
   "execution_count": 16,
   "id": "579a8a90",
   "metadata": {},
   "outputs": [
    {
     "data": {
      "text/plain": [
       "[10,\n",
       " 20,\n",
       " 20,\n",
       " 30,\n",
       " 40,\n",
       " 50,\n",
       " 10,\n",
       " 'sam',\n",
       " True,\n",
       " 13.5,\n",
       " 1,\n",
       " 2,\n",
       " 3,\n",
       " 'p',\n",
       " 'y',\n",
       " 't',\n",
       " 'h',\n",
       " 'o',\n",
       " 'n']"
      ]
     },
     "execution_count": 16,
     "metadata": {},
     "output_type": "execute_result"
    }
   ],
   "source": [
    "l"
   ]
  },
  {
   "cell_type": "code",
   "execution_count": 18,
   "id": "d968a62b",
   "metadata": {},
   "outputs": [],
   "source": [
    "l = [10, 20, 20, 30, 40, 50, 10, 'sam', True, 13.5]"
   ]
  },
  {
   "cell_type": "code",
   "execution_count": 20,
   "id": "7068c892",
   "metadata": {},
   "outputs": [
    {
     "data": {
      "text/plain": [
       "[10, 20, 20, 30, 40, 50, 10, 'sam']"
      ]
     },
     "execution_count": 20,
     "metadata": {},
     "output_type": "execute_result"
    }
   ],
   "source": [
    "l.pop() \n",
    "l"
   ]
  },
  {
   "cell_type": "code",
   "execution_count": 21,
   "id": "c13e91ae",
   "metadata": {},
   "outputs": [],
   "source": [
    "l.remove(10)"
   ]
  },
  {
   "cell_type": "code",
   "execution_count": 22,
   "id": "e93e63a6",
   "metadata": {},
   "outputs": [
    {
     "data": {
      "text/plain": [
       "[20, 20, 30, 40, 50, 10, 'sam']"
      ]
     },
     "execution_count": 22,
     "metadata": {},
     "output_type": "execute_result"
    }
   ],
   "source": [
    "l"
   ]
  },
  {
   "cell_type": "code",
   "execution_count": 23,
   "id": "caad3268",
   "metadata": {},
   "outputs": [
    {
     "ename": "ValueError",
     "evalue": "list.remove(x): x not in list",
     "output_type": "error",
     "traceback": [
      "\u001b[1;31m---------------------------------------------------------------------------\u001b[0m",
      "\u001b[1;31mValueError\u001b[0m                                Traceback (most recent call last)",
      "\u001b[1;32m~\\AppData\\Local\\Temp/ipykernel_19952/2645520257.py\u001b[0m in \u001b[0;36m<module>\u001b[1;34m\u001b[0m\n\u001b[1;32m----> 1\u001b[1;33m \u001b[0ml\u001b[0m\u001b[1;33m.\u001b[0m\u001b[0mremove\u001b[0m\u001b[1;33m(\u001b[0m\u001b[1;36m1110\u001b[0m\u001b[1;33m)\u001b[0m\u001b[1;33m\u001b[0m\u001b[1;33m\u001b[0m\u001b[0m\n\u001b[0m",
      "\u001b[1;31mValueError\u001b[0m: list.remove(x): x not in list"
     ]
    }
   ],
   "source": [
    "l.remove(1110)"
   ]
  },
  {
   "cell_type": "code",
   "execution_count": 25,
   "id": "9c1b2032",
   "metadata": {},
   "outputs": [],
   "source": [
    "del l[3]"
   ]
  },
  {
   "cell_type": "code",
   "execution_count": 26,
   "id": "a9b209cf",
   "metadata": {},
   "outputs": [
    {
     "data": {
      "text/plain": [
       "[20, 20, 30, 50, 10, 'sam']"
      ]
     },
     "execution_count": 26,
     "metadata": {},
     "output_type": "execute_result"
    }
   ],
   "source": [
    "l"
   ]
  },
  {
   "cell_type": "code",
   "execution_count": 27,
   "id": "0945734f",
   "metadata": {},
   "outputs": [
    {
     "data": {
      "text/plain": [
       "[20, 20, 30, 50, 10, 'sam']"
      ]
     },
     "execution_count": 27,
     "metadata": {},
     "output_type": "execute_result"
    }
   ],
   "source": [
    "l"
   ]
  },
  {
   "cell_type": "code",
   "execution_count": 28,
   "id": "26deb772",
   "metadata": {},
   "outputs": [],
   "source": [
    "l.reverse()"
   ]
  },
  {
   "cell_type": "code",
   "execution_count": 29,
   "id": "ee5a9d0c",
   "metadata": {},
   "outputs": [
    {
     "data": {
      "text/plain": [
       "['sam', 10, 50, 30, 20, 20]"
      ]
     },
     "execution_count": 29,
     "metadata": {},
     "output_type": "execute_result"
    }
   ],
   "source": [
    "l"
   ]
  },
  {
   "cell_type": "code",
   "execution_count": 30,
   "id": "ece9e7d4",
   "metadata": {},
   "outputs": [
    {
     "data": {
      "text/plain": [
       "['sam', 10, 50, 30, 20, 20]"
      ]
     },
     "execution_count": 30,
     "metadata": {},
     "output_type": "execute_result"
    }
   ],
   "source": [
    "l"
   ]
  },
  {
   "cell_type": "code",
   "execution_count": 31,
   "id": "bcfdb8aa",
   "metadata": {},
   "outputs": [
    {
     "ename": "TypeError",
     "evalue": "'<' not supported between instances of 'int' and 'str'",
     "output_type": "error",
     "traceback": [
      "\u001b[1;31m---------------------------------------------------------------------------\u001b[0m",
      "\u001b[1;31mTypeError\u001b[0m                                 Traceback (most recent call last)",
      "\u001b[1;32m~\\AppData\\Local\\Temp/ipykernel_19952/4149526160.py\u001b[0m in \u001b[0;36m<module>\u001b[1;34m\u001b[0m\n\u001b[1;32m----> 1\u001b[1;33m \u001b[0ml\u001b[0m\u001b[1;33m.\u001b[0m\u001b[0msort\u001b[0m\u001b[1;33m(\u001b[0m\u001b[1;33m)\u001b[0m\u001b[1;33m\u001b[0m\u001b[1;33m\u001b[0m\u001b[0m\n\u001b[0m",
      "\u001b[1;31mTypeError\u001b[0m: '<' not supported between instances of 'int' and 'str'"
     ]
    }
   ],
   "source": [
    "l.sort()"
   ]
  },
  {
   "cell_type": "code",
   "execution_count": 40,
   "id": "b55724c3",
   "metadata": {},
   "outputs": [],
   "source": [
    "l = [10, 50, 30, 20, 20, 12.3, 12.444, 1.3]"
   ]
  },
  {
   "cell_type": "code",
   "execution_count": 41,
   "id": "cb7cb3fd",
   "metadata": {},
   "outputs": [],
   "source": [
    "l.sort()"
   ]
  },
  {
   "cell_type": "code",
   "execution_count": 42,
   "id": "d3e83d7f",
   "metadata": {},
   "outputs": [
    {
     "data": {
      "text/plain": [
       "[1.3, 10, 12.3, 12.444, 20, 20, 30, 50]"
      ]
     },
     "execution_count": 42,
     "metadata": {},
     "output_type": "execute_result"
    }
   ],
   "source": [
    "l"
   ]
  },
  {
   "cell_type": "code",
   "execution_count": 43,
   "id": "0873cefd",
   "metadata": {},
   "outputs": [],
   "source": [
    "l2 = ['sam','python', 'c', 'java', True]"
   ]
  },
  {
   "cell_type": "code",
   "execution_count": 44,
   "id": "c735c222",
   "metadata": {},
   "outputs": [
    {
     "ename": "TypeError",
     "evalue": "'<' not supported between instances of 'bool' and 'str'",
     "output_type": "error",
     "traceback": [
      "\u001b[1;31m---------------------------------------------------------------------------\u001b[0m",
      "\u001b[1;31mTypeError\u001b[0m                                 Traceback (most recent call last)",
      "\u001b[1;32m~\\AppData\\Local\\Temp/ipykernel_19952/2477645411.py\u001b[0m in \u001b[0;36m<module>\u001b[1;34m\u001b[0m\n\u001b[1;32m----> 1\u001b[1;33m \u001b[0ml2\u001b[0m\u001b[1;33m.\u001b[0m\u001b[0msort\u001b[0m\u001b[1;33m(\u001b[0m\u001b[1;33m)\u001b[0m\u001b[1;33m\u001b[0m\u001b[1;33m\u001b[0m\u001b[0m\n\u001b[0m\u001b[0;32m      2\u001b[0m \u001b[0ml2\u001b[0m\u001b[1;33m\u001b[0m\u001b[1;33m\u001b[0m\u001b[0m\n",
      "\u001b[1;31mTypeError\u001b[0m: '<' not supported between instances of 'bool' and 'str'"
     ]
    }
   ],
   "source": [
    "l2.sort()\n",
    "l2"
   ]
  },
  {
   "cell_type": "code",
   "execution_count": 38,
   "id": "c5fa64f1",
   "metadata": {},
   "outputs": [],
   "source": [
    "l2.sort(reverse= True)"
   ]
  },
  {
   "cell_type": "code",
   "execution_count": 39,
   "id": "7dcfd3c6",
   "metadata": {},
   "outputs": [
    {
     "data": {
      "text/plain": [
       "['sam', 'python', 'java', 'c']"
      ]
     },
     "execution_count": 39,
     "metadata": {},
     "output_type": "execute_result"
    }
   ],
   "source": [
    "l2"
   ]
  },
  {
   "cell_type": "code",
   "execution_count": 45,
   "id": "f289dbdd",
   "metadata": {},
   "outputs": [
    {
     "data": {
      "text/plain": [
       "[1.3, 10, 12.3, 12.444, 20, 20, 30, 50]"
      ]
     },
     "execution_count": 45,
     "metadata": {},
     "output_type": "execute_result"
    }
   ],
   "source": [
    "l"
   ]
  },
  {
   "cell_type": "code",
   "execution_count": 51,
   "id": "91dd9f4f",
   "metadata": {},
   "outputs": [
    {
     "ename": "TypeError",
     "evalue": "unsupported operand type(s) for -: 'list' and 'list'",
     "output_type": "error",
     "traceback": [
      "\u001b[1;31m---------------------------------------------------------------------------\u001b[0m",
      "\u001b[1;31mTypeError\u001b[0m                                 Traceback (most recent call last)",
      "\u001b[1;32m~\\AppData\\Local\\Temp/ipykernel_19952/4143319060.py\u001b[0m in \u001b[0;36m<module>\u001b[1;34m\u001b[0m\n\u001b[1;32m----> 1\u001b[1;33m \u001b[0ml\u001b[0m \u001b[1;33m-\u001b[0m \u001b[0ml2\u001b[0m\u001b[1;33m\u001b[0m\u001b[1;33m\u001b[0m\u001b[0m\n\u001b[0m",
      "\u001b[1;31mTypeError\u001b[0m: unsupported operand type(s) for -: 'list' and 'list'"
     ]
    }
   ],
   "source": [
    "l - l2"
   ]
  },
  {
   "cell_type": "code",
   "execution_count": 46,
   "id": "5ffe0e4a",
   "metadata": {},
   "outputs": [],
   "source": [
    "l3 = l.copy()"
   ]
  },
  {
   "cell_type": "code",
   "execution_count": 47,
   "id": "7322e6e9",
   "metadata": {},
   "outputs": [
    {
     "data": {
      "text/plain": [
       "[1.3, 10, 12.3, 12.444, 20, 20, 30, 50]"
      ]
     },
     "execution_count": 47,
     "metadata": {},
     "output_type": "execute_result"
    }
   ],
   "source": [
    "l3"
   ]
  },
  {
   "cell_type": "code",
   "execution_count": 48,
   "id": "df139f47",
   "metadata": {},
   "outputs": [
    {
     "data": {
      "text/plain": [
       "[1.3, 10, 12.3, 12.444, 20, 20, 30, 50, 1.3, 10, 12.3, 12.444, 20, 20, 30, 50]"
      ]
     },
     "execution_count": 48,
     "metadata": {},
     "output_type": "execute_result"
    }
   ],
   "source": [
    "l + l3"
   ]
  },
  {
   "cell_type": "code",
   "execution_count": 50,
   "id": "34a39bf3",
   "metadata": {},
   "outputs": [
    {
     "data": {
      "text/plain": [
       "[1.3, 10, 12.3, 12.444, 20, 20, 30, 50, 1.3, 10, 12.3, 12.444, 20, 20, 30, 50]"
      ]
     },
     "execution_count": 50,
     "metadata": {},
     "output_type": "execute_result"
    }
   ],
   "source": [
    "l*2"
   ]
  },
  {
   "cell_type": "code",
   "execution_count": 57,
   "id": "18041a63",
   "metadata": {},
   "outputs": [
    {
     "data": {
      "text/plain": [
       "5"
      ]
     },
     "execution_count": 57,
     "metadata": {},
     "output_type": "execute_result"
    }
   ],
   "source": [
    "l1 = [1,2,3]\n",
    "l2 = [4,5,6]\n",
    "l3 = [7,8,9]\n",
    "\n",
    "\n",
    "l2[1]"
   ]
  },
  {
   "cell_type": "code",
   "execution_count": 53,
   "id": "a582aa80",
   "metadata": {
    "scrolled": true
   },
   "outputs": [
    {
     "data": {
      "text/plain": [
       "[[1, 2, 3], [4, 5, 6], [7, 8, 9]]"
      ]
     },
     "execution_count": 53,
     "metadata": {},
     "output_type": "execute_result"
    }
   ],
   "source": [
    "l4 = [l1,l2,l3]\n",
    "l4"
   ]
  },
  {
   "cell_type": "code",
   "execution_count": 54,
   "id": "dc0408d1",
   "metadata": {},
   "outputs": [
    {
     "data": {
      "text/plain": [
       "[[1, 2, 3], [4, 5, 6], [7, 8, 9]]"
      ]
     },
     "execution_count": 54,
     "metadata": {},
     "output_type": "execute_result"
    }
   ],
   "source": [
    "l4"
   ]
  },
  {
   "cell_type": "code",
   "execution_count": 60,
   "id": "7ee67bc4",
   "metadata": {},
   "outputs": [
    {
     "data": {
      "text/plain": [
       "[4, 5, 6]"
      ]
     },
     "execution_count": 60,
     "metadata": {},
     "output_type": "execute_result"
    }
   ],
   "source": [
    "l5 = l4[1]\n",
    "l5"
   ]
  },
  {
   "cell_type": "code",
   "execution_count": 62,
   "id": "f7266374",
   "metadata": {},
   "outputs": [
    {
     "data": {
      "text/plain": [
       "6"
      ]
     },
     "execution_count": 62,
     "metadata": {},
     "output_type": "execute_result"
    }
   ],
   "source": [
    "l4[1][2]"
   ]
  },
  {
   "cell_type": "code",
   "execution_count": 74,
   "id": "bdbe46bc",
   "metadata": {},
   "outputs": [],
   "source": [
    "l = [[1, 2, 987450], [True, 5, [7,'sa',9,'sam@gmail.com',8]], [7, 12147, 9]]"
   ]
  },
  {
   "cell_type": "code",
   "execution_count": 72,
   "id": "f2d789e8",
   "metadata": {},
   "outputs": [
    {
     "data": {
      "text/plain": [
       "7"
      ]
     },
     "execution_count": 72,
     "metadata": {},
     "output_type": "execute_result"
    }
   ],
   "source": [
    "l[1][2][3]"
   ]
  },
  {
   "cell_type": "code",
   "execution_count": 68,
   "id": "ed9a5085",
   "metadata": {},
   "outputs": [
    {
     "data": {
      "text/plain": [
       "[[1, 2, 3], [4, 5, 6], [7, 8, 9]]"
      ]
     },
     "execution_count": 68,
     "metadata": {},
     "output_type": "execute_result"
    }
   ],
   "source": [
    "l4"
   ]
  },
  {
   "cell_type": "code",
   "execution_count": 69,
   "id": "c11313c4",
   "metadata": {},
   "outputs": [
    {
     "data": {
      "text/plain": [
       "'[[1, 2, 3], [4, 5, 6], [7, 8, 9]]'"
      ]
     },
     "execution_count": 69,
     "metadata": {},
     "output_type": "execute_result"
    }
   ],
   "source": [
    "str(l4)"
   ]
  },
  {
   "cell_type": "code",
   "execution_count": null,
   "id": "03dd1763",
   "metadata": {},
   "outputs": [],
   "source": [
    "s.find(\"4\")"
   ]
  }
 ],
 "metadata": {
  "kernelspec": {
   "display_name": "Python 3 (ipykernel)",
   "language": "python",
   "name": "python3"
  },
  "language_info": {
   "codemirror_mode": {
    "name": "ipython",
    "version": 3
   },
   "file_extension": ".py",
   "mimetype": "text/x-python",
   "name": "python",
   "nbconvert_exporter": "python",
   "pygments_lexer": "ipython3",
   "version": "3.9.7"
  }
 },
 "nbformat": 4,
 "nbformat_minor": 5
}
