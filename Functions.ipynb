{
 "cells": [
  {
   "cell_type": "code",
   "execution_count": 15,
   "id": "f64e30d5",
   "metadata": {},
   "outputs": [],
   "source": [
    "samir = [5000,4500,4000,10000]\n",
    "tejas = [2500,5000,7000,4500]\n",
    "akash = [2500,5000,7000,4500,5000,4500,4000,10000]"
   ]
  },
  {
   "cell_type": "code",
   "execution_count": null,
   "id": "ec9cdbbb",
   "metadata": {},
   "outputs": [],
   "source": [
    "samir = [5000,4500,4000,10000]"
   ]
  },
  {
   "cell_type": "code",
   "execution_count": 17,
   "id": "a907557a",
   "metadata": {},
   "outputs": [
    {
     "name": "stdout",
     "output_type": "stream",
     "text": [
      "42500\n"
     ]
    }
   ],
   "source": [
    "total_expense = 0\n",
    "for i in akash:\n",
    "    \n",
    "#     print(i)\n",
    "    #total_expense = total_expense + i\n",
    "    total_expense += i\n",
    "print(total_expense)"
   ]
  },
  {
   "cell_type": "code",
   "execution_count": 8,
   "id": "194fdc63",
   "metadata": {},
   "outputs": [
    {
     "name": "stdout",
     "output_type": "stream",
     "text": [
      "23500\n"
     ]
    }
   ],
   "source": [
    "total_expense = 0\n",
    "for i in samir:\n",
    "    \n",
    "#     print(i)\n",
    "    #total_expense = total_expense + i\n",
    "    total_expense += i\n",
    "print(total_expense)"
   ]
  },
  {
   "cell_type": "code",
   "execution_count": 10,
   "id": "9cc7c0e3",
   "metadata": {},
   "outputs": [
    {
     "name": "stdout",
     "output_type": "stream",
     "text": [
      "19000\n"
     ]
    }
   ],
   "source": [
    "total_expense = 0\n",
    "for i in tejas:\n",
    "    \n",
    "#     print(i)\n",
    "    #total_expense = total_expense + i\n",
    "    total_expense += i\n",
    "print(total_expense)"
   ]
  },
  {
   "cell_type": "code",
   "execution_count": null,
   "id": "8acefd24",
   "metadata": {},
   "outputs": [],
   "source": [
    "Functions(definition)\n",
    "functions(execution)\n",
    "functions(calling)"
   ]
  },
  {
   "cell_type": "code",
   "execution_count": 23,
   "id": "471a945d",
   "metadata": {},
   "outputs": [],
   "source": [
    "def expense(name):\n",
    "    'This functions returns total expense done by employee till date'\n",
    "    total_expense = 0\n",
    "    for i in name:\n",
    "        total_expense += i\n",
    "    print(total_expense)\n",
    "          "
   ]
  },
  {
   "cell_type": "code",
   "execution_count": null,
   "id": "caf6b9dc",
   "metadata": {},
   "outputs": [],
   "source": [
    "def salary_total(name):\n",
    "    'This functions returns total expense done by employee till date'\n",
    "    total_expense = 0\n",
    "    for i in name:\n",
    "        total_expense += i\n",
    "    print(total_expense)"
   ]
  },
  {
   "cell_type": "code",
   "execution_count": 21,
   "id": "991fbfa8",
   "metadata": {},
   "outputs": [
    {
     "name": "stdout",
     "output_type": "stream",
     "text": [
      "23500\n"
     ]
    }
   ],
   "source": [
    "expense(samir)"
   ]
  },
  {
   "cell_type": "code",
   "execution_count": 14,
   "id": "172adc12",
   "metadata": {
    "scrolled": true
   },
   "outputs": [
    {
     "name": "stdout",
     "output_type": "stream",
     "text": [
      "19000\n"
     ]
    }
   ],
   "source": [
    "expense(tejas)"
   ]
  },
  {
   "cell_type": "code",
   "execution_count": 16,
   "id": "768adb2e",
   "metadata": {},
   "outputs": [
    {
     "name": "stdout",
     "output_type": "stream",
     "text": [
      "42500\n"
     ]
    }
   ],
   "source": [
    "expense(akash)"
   ]
  },
  {
   "cell_type": "code",
   "execution_count": 29,
   "id": "58dff45f",
   "metadata": {},
   "outputs": [],
   "source": [
    "def add(a,b,c,d):\n",
    "    return a,b,c,d"
   ]
  },
  {
   "cell_type": "code",
   "execution_count": 30,
   "id": "181c2154",
   "metadata": {},
   "outputs": [
    {
     "data": {
      "text/plain": [
       "('sam', 'abc', 'jjk', 'xyz')"
      ]
     },
     "execution_count": 30,
     "metadata": {},
     "output_type": "execute_result"
    }
   ],
   "source": [
    "add('sam', 'abc', 'jjk', 'xyz')"
   ]
  },
  {
   "cell_type": "code",
   "execution_count": 31,
   "id": "9b0e8832",
   "metadata": {},
   "outputs": [],
   "source": [
    "def add(*a):\n",
    "    return a"
   ]
  },
  {
   "cell_type": "code",
   "execution_count": 34,
   "id": "85582971",
   "metadata": {},
   "outputs": [
    {
     "data": {
      "text/plain": [
       "('sam', 'abc')"
      ]
     },
     "execution_count": 34,
     "metadata": {},
     "output_type": "execute_result"
    }
   ],
   "source": [
    "add('sam', 'abc')"
   ]
  },
  {
   "cell_type": "code",
   "execution_count": null,
   "id": "f3867a5a",
   "metadata": {},
   "outputs": [],
   "source": [
    "def add(*args,**kwargs) (*arguments, **keywordarguments)"
   ]
  },
  {
   "cell_type": "code",
   "execution_count": 40,
   "id": "6a6bc6a5",
   "metadata": {},
   "outputs": [
    {
     "data": {
      "text/plain": [
       "[]"
      ]
     },
     "execution_count": 40,
     "metadata": {},
     "output_type": "execute_result"
    }
   ],
   "source": [
    "l = []\n",
    "l"
   ]
  },
  {
   "cell_type": "code",
   "execution_count": 43,
   "id": "57edadf4",
   "metadata": {},
   "outputs": [
    {
     "data": {
      "text/plain": [
       "[12, 14, 13333]"
      ]
     },
     "execution_count": 43,
     "metadata": {},
     "output_type": "execute_result"
    }
   ],
   "source": [
    "l.append(13333)\n",
    "l"
   ]
  },
  {
   "cell_type": "code",
   "execution_count": 46,
   "id": "a47704a8",
   "metadata": {},
   "outputs": [],
   "source": [
    "l = []\n",
    "def appendd(*a):\n",
    "    \n",
    "    for i in a:\n",
    "        l.append(i)\n",
    "    return l"
   ]
  },
  {
   "cell_type": "code",
   "execution_count": 47,
   "id": "3f07d370",
   "metadata": {},
   "outputs": [
    {
     "data": {
      "text/plain": [
       "[1, 2, 3, 4]"
      ]
     },
     "execution_count": 47,
     "metadata": {},
     "output_type": "execute_result"
    }
   ],
   "source": [
    "appendd(1,2,3,4)"
   ]
  },
  {
   "cell_type": "code",
   "execution_count": 49,
   "id": "8055eeb8",
   "metadata": {},
   "outputs": [
    {
     "data": {
      "text/plain": [
       "[1, 2, 3, 4, 5, 7, 8, 9, 4, 8, 91, 7, 89]"
      ]
     },
     "execution_count": 49,
     "metadata": {},
     "output_type": "execute_result"
    }
   ],
   "source": [
    "appendd(4,8,91,7,89)"
   ]
  },
  {
   "cell_type": "code",
   "execution_count": 1,
   "id": "16a1c4a6",
   "metadata": {},
   "outputs": [],
   "source": [
    "def test(a,b,c,d,*e):\n",
    "    return a,b,c,d,e\n"
   ]
  },
  {
   "cell_type": "code",
   "execution_count": 3,
   "id": "506dfda8",
   "metadata": {},
   "outputs": [
    {
     "data": {
      "text/plain": [
       "(1, 2, 3, 4, (5, 3, 4, 4, 4, 4))"
      ]
     },
     "execution_count": 3,
     "metadata": {},
     "output_type": "execute_result"
    }
   ],
   "source": [
    "test(1,2,3,4,5,3,4,4,4,4)"
   ]
  },
  {
   "cell_type": "code",
   "execution_count": 8,
   "id": "9bd10ede",
   "metadata": {},
   "outputs": [],
   "source": [
    "def test1(*a,b,c,d,e):\n",
    "    return a,b,c,d,e"
   ]
  },
  {
   "cell_type": "code",
   "execution_count": 15,
   "id": "72e8fd24",
   "metadata": {},
   "outputs": [
    {
     "data": {
      "text/plain": [
       "((1, 2), 1, 2, 3, 4)"
      ]
     },
     "execution_count": 15,
     "metadata": {},
     "output_type": "execute_result"
    }
   ],
   "source": [
    "test1(1,2,b = 1,c = 2,d = 3,e = 4)"
   ]
  },
  {
   "cell_type": "raw",
   "id": "0f7ad738",
   "metadata": {},
   "source": [
    "Types of functions:\n",
    "1. Function with no parameter\n",
    "2. Functions with parameter\n",
    "3. Functions with default parameter\n",
    "4. Functions with return parameter"
   ]
  },
  {
   "cell_type": "code",
   "execution_count": 20,
   "id": "f656b866",
   "metadata": {},
   "outputs": [],
   "source": [
    "def test():\n",
    "    print(\"This is func with no parameter\")"
   ]
  },
  {
   "cell_type": "code",
   "execution_count": 21,
   "id": "43e05f6a",
   "metadata": {},
   "outputs": [],
   "source": [
    "test()"
   ]
  },
  {
   "cell_type": "code",
   "execution_count": 27,
   "id": "1e319c68",
   "metadata": {},
   "outputs": [
    {
     "ename": "TypeError",
     "evalue": "test1() missing 2 required positional arguments: 'a' and 'b'",
     "output_type": "error",
     "traceback": [
      "\u001b[1;31m---------------------------------------------------------------------------\u001b[0m",
      "\u001b[1;31mTypeError\u001b[0m                                 Traceback (most recent call last)",
      "\u001b[1;32m~\\AppData\\Local\\Temp/ipykernel_18416/3274611756.py\u001b[0m in \u001b[0;36m<module>\u001b[1;34m\u001b[0m\n\u001b[0;32m      2\u001b[0m     \u001b[0mprint\u001b[0m\u001b[1;33m(\u001b[0m\u001b[1;34m\"Value of a is : \"\u001b[0m\u001b[1;33m,\u001b[0m \u001b[0ma\u001b[0m\u001b[1;33m)\u001b[0m\u001b[1;33m\u001b[0m\u001b[1;33m\u001b[0m\u001b[0m\n\u001b[0;32m      3\u001b[0m     \u001b[0mprint\u001b[0m\u001b[1;33m(\u001b[0m\u001b[1;34m\"Value of b is : \"\u001b[0m\u001b[1;33m,\u001b[0m \u001b[0mb\u001b[0m\u001b[1;33m)\u001b[0m\u001b[1;33m\u001b[0m\u001b[1;33m\u001b[0m\u001b[0m\n\u001b[1;32m----> 4\u001b[1;33m \u001b[0mtest1\u001b[0m\u001b[1;33m(\u001b[0m\u001b[1;33m)\u001b[0m\u001b[1;33m\u001b[0m\u001b[1;33m\u001b[0m\u001b[0m\n\u001b[0m",
      "\u001b[1;31mTypeError\u001b[0m: test1() missing 2 required positional arguments: 'a' and 'b'"
     ]
    }
   ],
   "source": [
    "def test1(a,b):\n",
    "    print(\"Value of a is : \", a)\n",
    "    print(\"Value of b is : \", b)\n",
    "test1(1233,\"samir\")"
   ]
  },
  {
   "cell_type": "code",
   "execution_count": 24,
   "id": "1ba0b078",
   "metadata": {},
   "outputs": [
    {
     "name": "stdout",
     "output_type": "stream",
     "text": [
      "Value of a is :  1233\n",
      "Value of b is :  samir\n"
     ]
    }
   ],
   "source": []
  },
  {
   "cell_type": "code",
   "execution_count": 25,
   "id": "726271d5",
   "metadata": {},
   "outputs": [
    {
     "name": "stdout",
     "output_type": "stream",
     "text": [
      "Value of a is :  10\n",
      "Value of b is :  python\n"
     ]
    }
   ],
   "source": [
    "def test2(a = 10, b =\"python\"):\n",
    "    print(\"Value of a is : \", a)\n",
    "    print(\"Value of b is : \", b)\n",
    "test2()"
   ]
  },
  {
   "cell_type": "code",
   "execution_count": 28,
   "id": "cbdbe4bc",
   "metadata": {},
   "outputs": [
    {
     "name": "stdout",
     "output_type": "stream",
     "text": [
      "Value of a is :  1233\n",
      "Value of b is :  15\n"
     ]
    }
   ],
   "source": [
    "def test1(a,b=15):\n",
    "    print(\"Value of a is : \", a)\n",
    "    print(\"Value of b is : \", b)\n",
    "test1(1233)"
   ]
  },
  {
   "cell_type": "code",
   "execution_count": 29,
   "id": "bd2624ce",
   "metadata": {},
   "outputs": [
    {
     "name": "stdout",
     "output_type": "stream",
     "text": [
      "Value of a is :  123\n",
      "Value of b is :  data science\n"
     ]
    }
   ],
   "source": [
    "def test2(a = 10, b =\"python\"):\n",
    "    print(\"Value of a is : \", a)\n",
    "    print(\"Value of b is : \", b)\n",
    "test2(123, 'data science')"
   ]
  },
  {
   "cell_type": "code",
   "execution_count": 6,
   "id": "8417eb87",
   "metadata": {},
   "outputs": [
    {
     "data": {
      "text/plain": [
       "13"
      ]
     },
     "execution_count": 6,
     "metadata": {},
     "output_type": "execute_result"
    }
   ],
   "source": [
    "def add(a,b):\n",
    "    c = a+b\n",
    "    return c\n",
    "add(5,8)"
   ]
  },
  {
   "cell_type": "code",
   "execution_count": 7,
   "id": "459e7676",
   "metadata": {},
   "outputs": [],
   "source": [
    "def test(**info):\n",
    "    return info"
   ]
  },
  {
   "cell_type": "code",
   "execution_count": 8,
   "id": "9e732ee3",
   "metadata": {},
   "outputs": [
    {
     "data": {
      "text/plain": [
       "{'name': 'samir', 'skills': ['python', 'html']}"
      ]
     },
     "execution_count": 8,
     "metadata": {},
     "output_type": "execute_result"
    }
   ],
   "source": [
    "test(name = \"samir\", skills = ['python', 'html'])"
   ]
  },
  {
   "cell_type": "code",
   "execution_count": 9,
   "id": "b5201839",
   "metadata": {},
   "outputs": [
    {
     "ename": "TypeError",
     "evalue": "test() takes 0 positional arguments but 5 were given",
     "output_type": "error",
     "traceback": [
      "\u001b[1;31m---------------------------------------------------------------------------\u001b[0m",
      "\u001b[1;31mTypeError\u001b[0m                                 Traceback (most recent call last)",
      "\u001b[1;32m~\\AppData\\Local\\Temp/ipykernel_5076/1302335318.py\u001b[0m in \u001b[0;36m<module>\u001b[1;34m\u001b[0m\n\u001b[1;32m----> 1\u001b[1;33m \u001b[0mtest\u001b[0m\u001b[1;33m(\u001b[0m\u001b[1;36m1\u001b[0m\u001b[1;33m,\u001b[0m\u001b[1;36m2\u001b[0m\u001b[1;33m,\u001b[0m\u001b[1;36m3\u001b[0m\u001b[1;33m,\u001b[0m\u001b[1;36m6\u001b[0m\u001b[1;33m,\u001b[0m\u001b[1;36m4\u001b[0m\u001b[1;33m)\u001b[0m\u001b[1;33m\u001b[0m\u001b[1;33m\u001b[0m\u001b[0m\n\u001b[0m",
      "\u001b[1;31mTypeError\u001b[0m: test() takes 0 positional arguments but 5 were given"
     ]
    }
   ],
   "source": [
    "test(1,2,3,6,4)"
   ]
  },
  {
   "cell_type": "code",
   "execution_count": 10,
   "id": "0a102c86",
   "metadata": {},
   "outputs": [],
   "source": [
    "def test1(*a,**info):\n",
    "    return a,info"
   ]
  },
  {
   "cell_type": "code",
   "execution_count": 13,
   "id": "f43ca8ae",
   "metadata": {},
   "outputs": [
    {
     "data": {
      "text/plain": [
       "((1, 2), {'a': 'kldkhg'})"
      ]
     },
     "execution_count": 13,
     "metadata": {},
     "output_type": "execute_result"
    }
   ],
   "source": [
    "test1(1,2, a = \"kldkhg\")"
   ]
  },
  {
   "cell_type": "code",
   "execution_count": 27,
   "id": "7d537512",
   "metadata": {},
   "outputs": [],
   "source": [
    "def test(*a):\n",
    "    b = 5\n",
    "    l = []\n",
    "    for i in a:\n",
    "        if type(i) == int:\n",
    "            final = b+i\n",
    "            l.append(final)\n",
    "        elif type(i) == float:\n",
    "            print(i)\n",
    "        else:\n",
    "            if i.isupper() == True:\n",
    "                print(i)\n",
    "            \n",
    "            \n",
    "    print(\"final list is : \", l)\n",
    "    \n",
    "    "
   ]
  },
  {
   "cell_type": "code",
   "execution_count": 28,
   "id": "d608051d",
   "metadata": {},
   "outputs": [
    {
     "name": "stdout",
     "output_type": "stream",
     "text": [
      "4.5\n",
      "SGKJKGSG\n",
      "final list is :  [10, 14, 9, 12]\n"
     ]
    }
   ],
   "source": [
    "test(5,9,'dsggfgs',4.5,4,'SGKJKGSG',7)"
   ]
  },
  {
   "cell_type": "code",
   "execution_count": 30,
   "id": "01afa680",
   "metadata": {},
   "outputs": [
    {
     "name": "stdout",
     "output_type": "stream",
     "text": [
      "10\n"
     ]
    }
   ],
   "source": [
    "a = 10  #global variable\n",
    "def add(s):\n",
    "    print(s)\n",
    "add(a)"
   ]
  },
  {
   "cell_type": "code",
   "execution_count": 35,
   "id": "b408c86f",
   "metadata": {},
   "outputs": [
    {
     "name": "stdout",
     "output_type": "stream",
     "text": [
      "14\n"
     ]
    }
   ],
   "source": [
    "print(a+4)"
   ]
  },
  {
   "cell_type": "code",
   "execution_count": 33,
   "id": "2e5430a1",
   "metadata": {},
   "outputs": [
    {
     "name": "stdout",
     "output_type": "stream",
     "text": [
      "454545\n"
     ]
    }
   ],
   "source": [
    "def add():\n",
    "    ab = 454545 #local variable/will only in your function or while calling this functions\n",
    "    print(ab)\n",
    "add()\n",
    "    "
   ]
  },
  {
   "cell_type": "code",
   "execution_count": 34,
   "id": "769654b3",
   "metadata": {},
   "outputs": [
    {
     "ename": "NameError",
     "evalue": "name 'ab' is not defined",
     "output_type": "error",
     "traceback": [
      "\u001b[1;31m---------------------------------------------------------------------------\u001b[0m",
      "\u001b[1;31mNameError\u001b[0m                                 Traceback (most recent call last)",
      "\u001b[1;32m~\\AppData\\Local\\Temp/ipykernel_5076/1720854530.py\u001b[0m in \u001b[0;36m<module>\u001b[1;34m\u001b[0m\n\u001b[1;32m----> 1\u001b[1;33m \u001b[0mprint\u001b[0m\u001b[1;33m(\u001b[0m\u001b[0mab\u001b[0m\u001b[1;33m)\u001b[0m\u001b[1;33m\u001b[0m\u001b[1;33m\u001b[0m\u001b[0m\n\u001b[0m",
      "\u001b[1;31mNameError\u001b[0m: name 'ab' is not defined"
     ]
    }
   ],
   "source": [
    "print(ab)"
   ]
  },
  {
   "cell_type": "code",
   "execution_count": 40,
   "id": "9b905b7b",
   "metadata": {},
   "outputs": [
    {
     "name": "stdout",
     "output_type": "stream",
     "text": [
      "input a number : 7584\n",
      "This is an even number\n"
     ]
    }
   ],
   "source": [
    "def odd_even(n):\n",
    "    if n%2 == 0:\n",
    "        print(\"This is an even number\")\n",
    "    else: \n",
    "        print(\"This is an odd number\")\n",
    "    \n",
    "odd_even(n = int(input(\"input a number : \")))\n",
    "    "
   ]
  },
  {
   "cell_type": "code",
   "execution_count": 3,
   "id": "afe0d69d",
   "metadata": {},
   "outputs": [],
   "source": [
    "\n",
    "def fact_num(n):\n",
    "   \n",
    "    fact = 1\n",
    "\n",
    "    for i in range(1,n+1):\n",
    "        fact = fact*i\n",
    "    print(fact)\n"
   ]
  },
  {
   "cell_type": "code",
   "execution_count": 4,
   "id": "876f090e",
   "metadata": {},
   "outputs": [
    {
     "name": "stdout",
     "output_type": "stream",
     "text": [
      "Enter a number for factorial : 12\n",
      "479001600\n"
     ]
    }
   ],
   "source": [
    "a = int(input(\"Enter a number for factorial : \"))\n",
    "fact_num(a)"
   ]
  },
  {
   "cell_type": "code",
   "execution_count": 5,
   "id": "34a82fed",
   "metadata": {},
   "outputs": [],
   "source": [
    "#functions to check prime numbers\n"
   ]
  },
  {
   "cell_type": "code",
   "execution_count": 50,
   "id": "f0c9c12a",
   "metadata": {},
   "outputs": [
    {
     "name": "stdout",
     "output_type": "stream",
     "text": [
      "Enter a number to check for prime : 13\n",
      "this is a prime number\n"
     ]
    }
   ],
   "source": [
    "number = int(input(\"Enter a number to check for prime : \"))\n",
    "def prime_number(n):\n",
    "    \n",
    "    for i in range(2,n):\n",
    "        x = 0\n",
    "        if n%i == 0:\n",
    "            x = 0\n",
    "            break\n",
    "        else:\n",
    "            x = 1\n",
    "    return x\n",
    "    \n",
    "final = prime_number(number)\n",
    "if final == 1:\n",
    "    print(\"this is a prime number\")\n",
    "else:\n",
    "    print(\"Not a prime number\")\n",
    "    \n",
    "    "
   ]
  },
  {
   "cell_type": "markdown",
   "id": "31708318",
   "metadata": {},
   "source": []
  },
  {
   "cell_type": "code",
   "execution_count": null,
   "id": "599a4ef3",
   "metadata": {},
   "outputs": [],
   "source": [
    "x = 0\n",
    "n = 13\n",
    "for i in range(2,n):\n",
    "    \n",
    "    if n%i == 0:\n",
    "        x = 0\n",
    "        break\n",
    "        \n",
    "    else:\n",
    "        x=1\n",
    "        \n",
    "if x == 1:\n",
    "    print(\"this is a prime number\")\n",
    "else:\n",
    "    print(\"Not a prime number\")\n",
    "    \n"
   ]
  },
  {
   "cell_type": "code",
   "execution_count": 51,
   "id": "0a1dd703",
   "metadata": {},
   "outputs": [],
   "source": [
    "# lambda function"
   ]
  },
  {
   "cell_type": "code",
   "execution_count": 54,
   "id": "731ffdb4",
   "metadata": {},
   "outputs": [],
   "source": [
    "x = lambda a,b: a**2"
   ]
  },
  {
   "cell_type": "code",
   "execution_count": 56,
   "id": "40df257c",
   "metadata": {},
   "outputs": [
    {
     "data": {
      "text/plain": [
       "16"
      ]
     },
     "execution_count": 56,
     "metadata": {},
     "output_type": "execute_result"
    }
   ],
   "source": [
    "x(4,2)"
   ]
  },
  {
   "cell_type": "code",
   "execution_count": 57,
   "id": "3f85150b",
   "metadata": {},
   "outputs": [],
   "source": [
    "# list comprehension"
   ]
  },
  {
   "cell_type": "code",
   "execution_count": 63,
   "id": "a7540622",
   "metadata": {},
   "outputs": [],
   "source": [
    "t = (1,2,3,4,5,6,7,8)\n",
    "l = []\n"
   ]
  },
  {
   "cell_type": "code",
   "execution_count": 66,
   "id": "9754cfa3",
   "metadata": {},
   "outputs": [
    {
     "data": {
      "text/plain": [
       "[1, 2, 3, 4, 5, 6, 7, 8]"
      ]
     },
     "execution_count": 66,
     "metadata": {},
     "output_type": "execute_result"
    }
   ],
   "source": [
    "\n",
    "for i in t:\n",
    "    l.append(i)\n",
    "l"
   ]
  },
  {
   "cell_type": "code",
   "execution_count": 65,
   "id": "a40bad41",
   "metadata": {},
   "outputs": [
    {
     "data": {
      "text/plain": [
       "[1, 4, 9, 16, 25, 36, 49, 64]"
      ]
     },
     "execution_count": 65,
     "metadata": {},
     "output_type": "execute_result"
    }
   ],
   "source": [
    "[i**2 for i in t]"
   ]
  },
  {
   "cell_type": "code",
   "execution_count": 67,
   "id": "fee7f15d",
   "metadata": {},
   "outputs": [
    {
     "data": {
      "text/plain": [
       "[1, 2, 3, 4, 5, 6, 7, 8]"
      ]
     },
     "execution_count": 67,
     "metadata": {},
     "output_type": "execute_result"
    }
   ],
   "source": [
    "l"
   ]
  },
  {
   "cell_type": "code",
   "execution_count": 68,
   "id": "f5747e46",
   "metadata": {},
   "outputs": [],
   "source": [
    "x = lambda *a : [i**2 for i in t]"
   ]
  },
  {
   "cell_type": "code",
   "execution_count": 69,
   "id": "d56a4779",
   "metadata": {},
   "outputs": [
    {
     "data": {
      "text/plain": [
       "[1, 4, 9, 16, 25, 36, 49, 64]"
      ]
     },
     "execution_count": 69,
     "metadata": {},
     "output_type": "execute_result"
    }
   ],
   "source": [
    "x(1, 2, 3, 4, 5, 6, 7, 8)"
   ]
  },
  {
   "cell_type": "code",
   "execution_count": 1,
   "id": "b0a9ceee",
   "metadata": {},
   "outputs": [],
   "source": [
    "d = {\"key\" : \"value\", 'name': \"samir\", \"age\": 25, \"skills\": ['python', 'c', 'data science']}\n",
    "count = 0"
   ]
  },
  {
   "cell_type": "code",
   "execution_count": 3,
   "id": "8f38be35",
   "metadata": {},
   "outputs": [
    {
     "data": {
      "text/plain": [
       "dict_keys(['key', 'name', 'age', 'skills'])"
      ]
     },
     "execution_count": 3,
     "metadata": {},
     "output_type": "execute_result"
    }
   ],
   "source": [
    "d.keys()"
   ]
  },
  {
   "cell_type": "code",
   "execution_count": 4,
   "id": "72e24ff8",
   "metadata": {},
   "outputs": [
    {
     "data": {
      "text/plain": [
       "dict_values(['value', 'samir', 25, ['python', 'c', 'data science']])"
      ]
     },
     "execution_count": 4,
     "metadata": {},
     "output_type": "execute_result"
    }
   ],
   "source": [
    "d.values()"
   ]
  },
  {
   "cell_type": "code",
   "execution_count": null,
   "id": "1399af89",
   "metadata": {},
   "outputs": [],
   "source": [
    "str_values = []\n",
    "rem_values = "
   ]
  }
 ],
 "metadata": {
  "kernelspec": {
   "display_name": "Python 3 (ipykernel)",
   "language": "python",
   "name": "python3"
  },
  "language_info": {
   "codemirror_mode": {
    "name": "ipython",
    "version": 3
   },
   "file_extension": ".py",
   "mimetype": "text/x-python",
   "name": "python",
   "nbconvert_exporter": "python",
   "pygments_lexer": "ipython3",
   "version": "3.10.8"
  }
 },
 "nbformat": 4,
 "nbformat_minor": 5
}
