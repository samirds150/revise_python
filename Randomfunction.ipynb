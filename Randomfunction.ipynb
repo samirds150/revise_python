{
 "cells": [
  {
   "cell_type": "code",
   "execution_count": 37,
   "id": "3cc79f9f",
   "metadata": {},
   "outputs": [],
   "source": [
    "from pandas import *"
   ]
  },
  {
   "cell_type": "code",
   "execution_count": 3,
   "id": "3347ea45",
   "metadata": {},
   "outputs": [],
   "source": [
    "from random import *"
   ]
  },
  {
   "cell_type": "code",
   "execution_count": 4,
   "id": "a538b3fa",
   "metadata": {
    "scrolled": true
   },
   "outputs": [
    {
     "data": {
      "text/plain": [
       "0.3480497013473748"
      ]
     },
     "execution_count": 4,
     "metadata": {},
     "output_type": "execute_result"
    }
   ],
   "source": [
    "# will return a float value between 0 to 1\n",
    "random()"
   ]
  },
  {
   "cell_type": "code",
   "execution_count": 5,
   "id": "cf4201b4",
   "metadata": {},
   "outputs": [],
   "source": [
    "l = [1,2,3,6,8]"
   ]
  },
  {
   "cell_type": "code",
   "execution_count": 6,
   "id": "21947d20",
   "metadata": {
    "scrolled": true
   },
   "outputs": [
    {
     "data": {
      "text/plain": [
       "[1, 2, 3, 6, 8]"
      ]
     },
     "execution_count": 6,
     "metadata": {},
     "output_type": "execute_result"
    }
   ],
   "source": [
    "l"
   ]
  },
  {
   "cell_type": "code",
   "execution_count": 7,
   "id": "cbd28439",
   "metadata": {},
   "outputs": [
    {
     "data": {
      "text/plain": [
       "1"
      ]
     },
     "execution_count": 7,
     "metadata": {},
     "output_type": "execute_result"
    }
   ],
   "source": [
    "l[0]"
   ]
  },
  {
   "cell_type": "code",
   "execution_count": 42,
   "id": "b95d9d20",
   "metadata": {},
   "outputs": [
    {
     "name": "stdout",
     "output_type": "stream",
     "text": [
      "0.18915579720682196\n",
      "0.2902831688794353\n",
      "0.3000114445765135\n",
      "0.2138652185457547\n",
      "0.8001650230893237\n"
     ]
    }
   ],
   "source": [
    "for i in range(5):\n",
    "    print(random())"
   ]
  },
  {
   "cell_type": "code",
   "execution_count": 5,
   "id": "452093ef",
   "metadata": {},
   "outputs": [
    {
     "data": {
      "text/plain": [
       "8"
      ]
     },
     "execution_count": 5,
     "metadata": {},
     "output_type": "execute_result"
    }
   ],
   "source": [
    "randint(1,10)"
   ]
  },
  {
   "cell_type": "code",
   "execution_count": 4,
   "id": "f9133633",
   "metadata": {},
   "outputs": [
    {
     "name": "stdout",
     "output_type": "stream",
     "text": [
      "Random.randint() missing 1 required positional argument: 'b'\n"
     ]
    }
   ],
   "source": [
    "try:\n",
    "    print(randint(1,10))\n",
    "except Exception as e:\n",
    "    print(e)\n",
    "    "
   ]
  },
  {
   "cell_type": "code",
   "execution_count": 8,
   "id": "4f7ca512",
   "metadata": {},
   "outputs": [
    {
     "name": "stdout",
     "output_type": "stream",
     "text": [
      "can only concatenate str (not \"int\") to str\n"
     ]
    }
   ],
   "source": [
    "def ran_int(a,b):\n",
    "    try:\n",
    "        print(randint(a,b))\n",
    "    except Exception as e:\n",
    "        print(e)\n",
    "ran_int('10','1')"
   ]
  },
  {
   "cell_type": "code",
   "execution_count": 7,
   "id": "a8e610e3",
   "metadata": {},
   "outputs": [
    {
     "name": "stdout",
     "output_type": "stream",
     "text": [
      "empty range for randrange() (10, 2, -8)\n"
     ]
    }
   ],
   "source": []
  },
  {
   "cell_type": "code",
   "execution_count": 44,
   "id": "658595f1",
   "metadata": {},
   "outputs": [
    {
     "name": "stdout",
     "output_type": "stream",
     "text": [
      "Number cant be divided by zero\n"
     ]
    }
   ],
   "source": [
    "a = 10\n",
    "b = 0\n",
    "try:\n",
    "    print(a/b)\n",
    "except:\n",
    "    print(\"Number cant be divided by zero\")"
   ]
  },
  {
   "cell_type": "code",
   "execution_count": 45,
   "id": "6d17b070",
   "metadata": {},
   "outputs": [
    {
     "data": {
      "text/plain": [
       "66"
      ]
     },
     "execution_count": 45,
     "metadata": {},
     "output_type": "execute_result"
    }
   ],
   "source": [
    "randrange(10,100,7)"
   ]
  },
  {
   "cell_type": "code",
   "execution_count": 46,
   "id": "54d2b89c",
   "metadata": {},
   "outputs": [
    {
     "name": "stdout",
     "output_type": "stream",
     "text": [
      "20\n",
      "30\n",
      "10\n",
      "70\n",
      "10\n",
      "10\n",
      "80\n",
      "80\n",
      "70\n",
      "20\n"
     ]
    }
   ],
   "source": [
    "for i in range(10):\n",
    "    print(randrange(10,100,10))"
   ]
  },
  {
   "cell_type": "code",
   "execution_count": 47,
   "id": "68cdba40",
   "metadata": {},
   "outputs": [
    {
     "data": {
      "text/plain": [
       "4.866824041619158"
      ]
     },
     "execution_count": 47,
     "metadata": {},
     "output_type": "execute_result"
    }
   ],
   "source": [
    "uniform(1,10)"
   ]
  },
  {
   "cell_type": "code",
   "execution_count": 48,
   "id": "b50e7fe3",
   "metadata": {},
   "outputs": [
    {
     "name": "stdout",
     "output_type": "stream",
     "text": [
      "5.178241401278365\n",
      "4.258967370455007\n",
      "1.9924305137560139\n",
      "6.977437074567348\n",
      "6.086117339542422\n",
      "4.876640011388708\n",
      "1.1655532740761303\n",
      "2.7040039336661237\n",
      "6.511134621441525\n",
      "6.6483185577185875\n"
     ]
    }
   ],
   "source": [
    "for i in range(10):\n",
    "    print(uniform(1,7))"
   ]
  },
  {
   "cell_type": "code",
   "execution_count": 49,
   "id": "c22b28e9",
   "metadata": {},
   "outputs": [],
   "source": [
    "l = [10,20,30,40,50,60,70,80,90,100]"
   ]
  },
  {
   "cell_type": "code",
   "execution_count": 50,
   "id": "a5859706",
   "metadata": {},
   "outputs": [
    {
     "data": {
      "text/plain": [
       "40"
      ]
     },
     "execution_count": 50,
     "metadata": {},
     "output_type": "execute_result"
    }
   ],
   "source": [
    "choice(l)"
   ]
  },
  {
   "cell_type": "code",
   "execution_count": null,
   "id": "ec57bf0f",
   "metadata": {},
   "outputs": [],
   "source": []
  }
 ],
 "metadata": {
  "kernelspec": {
   "display_name": "Python 3 (ipykernel)",
   "language": "python",
   "name": "python3"
  },
  "language_info": {
   "codemirror_mode": {
    "name": "ipython",
    "version": 3
   },
   "file_extension": ".py",
   "mimetype": "text/x-python",
   "name": "python",
   "nbconvert_exporter": "python",
   "pygments_lexer": "ipython3",
   "version": "3.10.8"
  }
 },
 "nbformat": 4,
 "nbformat_minor": 5
}
