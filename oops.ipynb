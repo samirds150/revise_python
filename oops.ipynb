{
 "cells": [
  {
   "cell_type": "code",
   "execution_count": 1,
   "id": "d420a17f",
   "metadata": {},
   "outputs": [
    {
     "name": "stdout",
     "output_type": "stream",
     "text": [
      "This is a function\n"
     ]
    }
   ],
   "source": [
    "def func_name():\n",
    "    print(\"This is a function\")\n",
    "func_name()"
   ]
  },
  {
   "cell_type": "code",
   "execution_count": 9,
   "id": "d70c89c0",
   "metadata": {},
   "outputs": [],
   "source": [
    "class Myclass():\n",
    "    \n",
    "    def func_name(self):\n",
    "        print(\"This is a function\")\n",
    "    def func_name1(self):\n",
    "        print(\"This is a functionsggff\")\n",
    "    "
   ]
  },
  {
   "cell_type": "code",
   "execution_count": 12,
   "id": "f7928c5d",
   "metadata": {},
   "outputs": [],
   "source": [
    "c = myclass()\n",
    "c.func_name()\n",
    "\n"
   ]
  },
  {
   "cell_type": "code",
   "execution_count": 1,
   "id": "97e4a32f",
   "metadata": {},
   "outputs": [],
   "source": [
    "s = \"Happy Birthday Tejas\""
   ]
  },
  {
   "cell_type": "code",
   "execution_count": null,
   "id": "29b834db",
   "metadata": {},
   "outputs": [],
   "source": [
    "s."
   ]
  },
  {
   "cell_type": "code",
   "execution_count": 4,
   "id": "723375d2",
   "metadata": {},
   "outputs": [
    {
     "name": "stdout",
     "output_type": "stream",
     "text": [
      "class is created succesfully\n"
     ]
    }
   ],
   "source": [
    "class customer_information:\n",
    "    \"This is class is used to get customer information\"\n",
    "    def __init__(self,name, age,contact, email):\n",
    "        self.name = name\n",
    "        self.age = age\n",
    "        self.contact = contact\n",
    "        self.email = email\n",
    "        print(\"class is created succesfully\")\n",
    "    def name_age(self):\n",
    "        \"THis function is used to get name and age\"\n",
    "        print(\"The name of employee is  : \",self.name )\n",
    "        print(\"The age of employee is  : \",self.age )\n",
    "    def phone_email(self):\n",
    "        print(\"The contact of employee is  : \",self.contact )\n",
    "        print(\"The email of employee is  : \",self.email )\n",
    "        \n",
    "\n",
    "info = customer_information('Samir', 99, 9870503603, \"abc@gmail.com\") \n"
   ]
  },
  {
   "cell_type": "code",
   "execution_count": 5,
   "id": "05b5fd54",
   "metadata": {},
   "outputs": [
    {
     "name": "stdout",
     "output_type": "stream",
     "text": [
      "The name of employee is  :  Samir\n",
      "The age of employee is  :  99\n"
     ]
    }
   ],
   "source": [
    "info.name_age()"
   ]
  },
  {
   "cell_type": "code",
   "execution_count": 6,
   "id": "38f605c3",
   "metadata": {},
   "outputs": [
    {
     "name": "stdout",
     "output_type": "stream",
     "text": [
      "The contact of employee is  :  9870503603\n",
      "The email of employee is  :  abc@gmail.com\n"
     ]
    }
   ],
   "source": [
    "info.phone_email()"
   ]
  },
  {
   "cell_type": "code",
   "execution_count": 7,
   "id": "185f7100",
   "metadata": {},
   "outputs": [],
   "source": [
    "class Rectangle:\n",
    "    def __init__(self, length, width):\n",
    "        self.length = length\n",
    "        self.width = width\n",
    "    def output(self):\n",
    "        print(\"Length of Rect is : \", self.length)\n",
    "        print(\"Width of Rect is : \", self.width)"
   ]
  },
  {
   "cell_type": "code",
   "execution_count": 8,
   "id": "0536f4eb",
   "metadata": {},
   "outputs": [],
   "source": [
    "r = Rectangle(20,25)"
   ]
  },
  {
   "cell_type": "code",
   "execution_count": 9,
   "id": "f85daa08",
   "metadata": {},
   "outputs": [
    {
     "name": "stdout",
     "output_type": "stream",
     "text": [
      "Length of Rect is :  20\n",
      "Width of Rect is :  25\n"
     ]
    }
   ],
   "source": [
    "r.output()"
   ]
  },
  {
   "cell_type": "code",
   "execution_count": 13,
   "id": "78c1ab93",
   "metadata": {},
   "outputs": [
    {
     "name": "stdout",
     "output_type": "stream",
     "text": [
      "Length of Rect is :  47\n",
      "78  is the value of width\n"
     ]
    }
   ],
   "source": [
    "class Rectangle:\n",
    "    def __init__(self, length = 10, width = 15):\n",
    "        self.length = length\n",
    "        self.width = width\n",
    "    def output(self):\n",
    "        print(\"Length of Rect is : \", self.length)\n",
    "        print(self.width, \" is the value of width\")\n",
    "    def area(self):\n",
    "        print(\"Area of Rect is : \", self.length * self.width)\n",
    "r = Rectangle(47,78)\n",
    "r.output()"
   ]
  },
  {
   "cell_type": "raw",
   "id": "a4806875",
   "metadata": {},
   "source": [
    "object and classes\n",
    "Polymorphism\n",
    "Inheritance\n",
    "Encapsulation\n",
    "Abstraction"
   ]
  },
  {
   "cell_type": "code",
   "execution_count": null,
   "id": "59b3b42c",
   "metadata": {},
   "outputs": [],
   "source": [
    "# Polymorphism\n",
    "# same function with different meaning\n",
    "a*b\n",
    "from random import *\n",
    "\n",
    "s.pop()\n",
    "l.pop()\n",
    "d.pop()\n",
    "clear\n"
   ]
  },
  {
   "cell_type": "code",
   "execution_count": 15,
   "id": "499ebb09",
   "metadata": {},
   "outputs": [],
   "source": [
    "class cat:\n",
    "    def __init__(self, name):\n",
    "        self.name = name\n",
    "    def display(self):\n",
    "        print(\"Name of the cat is  :  \", self.name)\n",
    "c = cat('Billi')\n",
    "\n",
    "class dog:\n",
    "    def __init__(self, name):\n",
    "        self.name = name\n",
    "    def display(self):\n",
    "        print(\"Name of the dog is  :  \", self.name)\n",
    "d = dog(\"Jimmy\")   "
   ]
  },
  {
   "cell_type": "code",
   "execution_count": 16,
   "id": "76fa1488",
   "metadata": {},
   "outputs": [],
   "source": [
    "def abc(a):\n",
    "    a.display()"
   ]
  },
  {
   "cell_type": "code",
   "execution_count": 17,
   "id": "750ee4e4",
   "metadata": {},
   "outputs": [
    {
     "name": "stdout",
     "output_type": "stream",
     "text": [
      "Name of the cat is  :   Billi\n"
     ]
    }
   ],
   "source": [
    "abc(c)"
   ]
  },
  {
   "cell_type": "code",
   "execution_count": 18,
   "id": "064bc540",
   "metadata": {},
   "outputs": [
    {
     "name": "stdout",
     "output_type": "stream",
     "text": [
      "Name of the dog is  :   Jimmy\n"
     ]
    }
   ],
   "source": [
    "abc(d)"
   ]
  },
  {
   "cell_type": "code",
   "execution_count": 20,
   "id": "f397fd92",
   "metadata": {},
   "outputs": [
    {
     "data": {
      "text/plain": [
       "int"
      ]
     },
     "execution_count": 20,
     "metadata": {},
     "output_type": "execute_result"
    }
   ],
   "source": [
    "type(444)"
   ]
  },
  {
   "cell_type": "code",
   "execution_count": 21,
   "id": "3d3abbc6",
   "metadata": {},
   "outputs": [],
   "source": [
    "#inheritance"
   ]
  },
  {
   "cell_type": "code",
   "execution_count": null,
   "id": "20327fa7",
   "metadata": {},
   "outputs": [],
   "source": [
    "single\n",
    "multiple\n",
    "multilevel\n",
    "hirectical\n",
    "hybrid\n"
   ]
  },
  {
   "cell_type": "code",
   "execution_count": 2,
   "id": "6bbb4e7c",
   "metadata": {},
   "outputs": [],
   "source": [
    "class Employee:\n",
    "    def __init__(self, name, age):\n",
    "        self.name = name\n",
    "        self.age = age\n",
    "    def info(self):\n",
    "        print(\"Employee name is : \", self.name)\n",
    "        print(\"Employee age is : \", self.age)\n",
    "# e = Employee(\"Samir\", 100)\n",
    "# e.info()"
   ]
  },
  {
   "cell_type": "code",
   "execution_count": 5,
   "id": "1fdf40b3",
   "metadata": {},
   "outputs": [],
   "source": [
    "class Trainer(Employee):\n",
    "    \"this class\"\n",
    "    def __init__(self, name, age, role):\n",
    "        Employee.__init__(self, name, age)\n",
    "        self.role = role\n",
    "    def info(self):\n",
    "        \"this is used \"\n",
    "        Employee.info(self)\n",
    "        print(\"Role for this Employee is : \", self.role)       "
   ]
  },
  {
   "cell_type": "code",
   "execution_count": 6,
   "id": "72ec006b",
   "metadata": {},
   "outputs": [],
   "source": [
    "t = Trainer(\"Samir\", 10000, \"Trainer\")"
   ]
  },
  {
   "cell_type": "code",
   "execution_count": 29,
   "id": "66c8e93a",
   "metadata": {},
   "outputs": [
    {
     "name": "stdout",
     "output_type": "stream",
     "text": [
      "Employee name is :  Samir\n",
      "Employee age is :  10000\n",
      "Role for this Employee is :  Trainer\n"
     ]
    }
   ],
   "source": [
    "t.info()"
   ]
  },
  {
   "cell_type": "code",
   "execution_count": 7,
   "id": "9d695f02",
   "metadata": {},
   "outputs": [],
   "source": [
    "class Manager(Trainer):\n",
    "    def __init__(self, name, age, role, salary):\n",
    "        Trainer.__init__(self, name, age, role)\n",
    "        self.salary = salary\n",
    "    def info(self):\n",
    "        Trainer.info(self)\n",
    "        print(\"Salary of \",self.name,\" is : \", self.salary)\n",
    "        \n",
    "        "
   ]
  },
  {
   "cell_type": "code",
   "execution_count": 8,
   "id": "e6dc1400",
   "metadata": {},
   "outputs": [],
   "source": [
    "m = Manager(\"Samir\", 30, \"Trainer\", 50000)"
   ]
  },
  {
   "cell_type": "code",
   "execution_count": 9,
   "id": "d0506c11",
   "metadata": {},
   "outputs": [
    {
     "name": "stdout",
     "output_type": "stream",
     "text": [
      "Employee name is :  Samir\n",
      "Employee age is :  30\n",
      "Role for this Employee is :  Trainer\n",
      "Salary of  Samir  is :  50000\n"
     ]
    }
   ],
   "source": [
    "m.info()"
   ]
  },
  {
   "cell_type": "code",
   "execution_count": 10,
   "id": "fe04c0d5",
   "metadata": {},
   "outputs": [
    {
     "name": "stdout",
     "output_type": "stream",
     "text": [
      "Eyes of father is :  Brown\n",
      "Hairstyle of Father is  :  Curly\n"
     ]
    }
   ],
   "source": [
    "class Father:\n",
    "    def __init__(self, eyes, hair):\n",
    "        self.eyes = eyes\n",
    "        self.hair = hair\n",
    "    def info(self):\n",
    "        print(\"Eyes of father is : \", self.eyes)\n",
    "        print(\"Hairstyle of Father is  : \", self.hair)\n",
    "f = Father(\"Brown\", \"Curly\")\n",
    "f.info()"
   ]
  },
  {
   "cell_type": "code",
   "execution_count": 11,
   "id": "501d5254",
   "metadata": {},
   "outputs": [],
   "source": [
    "class Mother: \n",
    "    def __init__(self, height):\n",
    "        self.height = height\n",
    "    def info(self):\n",
    "        print(\"Height of Mother is : \", self.height)"
   ]
  },
  {
   "cell_type": "code",
   "execution_count": 13,
   "id": "97d4f308",
   "metadata": {},
   "outputs": [],
   "source": [
    "class Son(Father, Mother):\n",
    "    def __init__(self,name, eyes, hair, height, IQ):\n",
    "        Father.__init__(self, eyes, hair)\n",
    "        Mother.__init__(self, height)\n",
    "        self.name = name\n",
    "        self.IQ = IQ\n",
    "    def info(self):\n",
    "        Father.info(self)\n",
    "        Mother.info(self)\n",
    "        print(\"IQ level of \",self.name , \" is : \", self.IQ)    "
   ]
  },
  {
   "cell_type": "code",
   "execution_count": 14,
   "id": "513b1925",
   "metadata": {},
   "outputs": [],
   "source": [
    "s = Son(\"samir\", \"Brown\", \"curly\", 'tall', 200)"
   ]
  },
  {
   "cell_type": "code",
   "execution_count": 15,
   "id": "8ee5bb75",
   "metadata": {},
   "outputs": [
    {
     "name": "stdout",
     "output_type": "stream",
     "text": [
      "Eyes of father is :  Brown\n",
      "Hairstyle of Father is  :  curly\n",
      "Height of Mother is :  tall\n",
      "IQ level of  samir  is :  200\n"
     ]
    }
   ],
   "source": [
    "s.info()"
   ]
  },
  {
   "cell_type": "code",
   "execution_count": null,
   "id": "ad8c1994",
   "metadata": {},
   "outputs": [],
   "source": [
    "# encapsulation"
   ]
  },
  {
   "cell_type": "code",
   "execution_count": null,
   "id": "9acfe65f",
   "metadata": {},
   "outputs": [],
   "source": [
    "public and private"
   ]
  },
  {
   "cell_type": "code",
   "execution_count": 34,
   "id": "5cbf7a70",
   "metadata": {},
   "outputs": [
    {
     "name": "stdout",
     "output_type": "stream",
     "text": [
      "Value of a is : 15\n",
      "ID of a is :  1775060779696\n"
     ]
    }
   ],
   "source": [
    "class encap:\n",
    "    def __init__(self, a ):\n",
    "        self.__a = a\n",
    "#         self.b = b \n",
    "    def display(self):\n",
    "        print(\"Value of a is :\", self.__a)\n",
    "        print(\"ID of a is : \",id(self.__a))\n",
    "e = encap(15)\n",
    "e.display()\n",
    "       "
   ]
  },
  {
   "cell_type": "code",
   "execution_count": 35,
   "id": "9e226adc",
   "metadata": {},
   "outputs": [],
   "source": [
    "e.a  = 45455445"
   ]
  },
  {
   "cell_type": "code",
   "execution_count": 36,
   "id": "35b91fb7",
   "metadata": {},
   "outputs": [
    {
     "name": "stdout",
     "output_type": "stream",
     "text": [
      "Value of a is : 15\n",
      "ID of a is :  1775060779696\n"
     ]
    }
   ],
   "source": [
    "e.display()"
   ]
  },
  {
   "cell_type": "code",
   "execution_count": 3,
   "id": "cea1db44",
   "metadata": {},
   "outputs": [],
   "source": [
    "class bank:\n",
    "    def __init__(self, name, acc_no, balance):\n",
    "        self.name = name\n",
    "        self.acc_no = acc_no\n",
    "        self.__balance = balance\n",
    "    def info(self):\n",
    "        print(\"Account name is : \", self.name)\n",
    "        print(\"Account number of \", self.name, \" is : \", self.acc_no)\n",
    "        print(\"Account balance is :\", self.__balance)\n",
    "    def deposit(self, amt):\n",
    "        self.__balance += amt\n",
    "    def withdraw(self, amt):\n",
    "        self.__balance -= amt\n",
    "    def updated_balance(self):\n",
    "        print(\"Current balance is : \",self.__balance)"
   ]
  },
  {
   "cell_type": "code",
   "execution_count": 4,
   "id": "bc2c1d1a",
   "metadata": {},
   "outputs": [
    {
     "name": "stdout",
     "output_type": "stream",
     "text": [
      "Account name is :  samir\n",
      "Account number of  samir  is :  12121\n",
      "Account balance is : 10000\n"
     ]
    }
   ],
   "source": [
    "b = bank(\"samir\", 12121, 10000)\n",
    "b.info()"
   ]
  },
  {
   "cell_type": "code",
   "execution_count": 13,
   "id": "bcc34158",
   "metadata": {},
   "outputs": [],
   "source": [
    "b.deposit(5000)"
   ]
  },
  {
   "cell_type": "code",
   "execution_count": 6,
   "id": "63862e25",
   "metadata": {},
   "outputs": [
    {
     "name": "stdout",
     "output_type": "stream",
     "text": [
      "Current balance is :  15000\n"
     ]
    }
   ],
   "source": [
    "b.updated_balance()"
   ]
  },
  {
   "cell_type": "code",
   "execution_count": 20,
   "id": "27f06e4d",
   "metadata": {},
   "outputs": [
    {
     "name": "stdout",
     "output_type": "stream",
     "text": [
      "Current balance is :  19000\n"
     ]
    }
   ],
   "source": [
    "b.withdraw(3000)\n",
    "b.updated_balance()"
   ]
  },
  {
   "cell_type": "code",
   "execution_count": 21,
   "id": "0357ba84",
   "metadata": {},
   "outputs": [
    {
     "name": "stdout",
     "output_type": "stream",
     "text": [
      "Account name is :  samir\n",
      "Account number of  samir  is :  12121\n",
      "Account balance is : 19000\n"
     ]
    }
   ],
   "source": [
    "b.info()"
   ]
  },
  {
   "cell_type": "code",
   "execution_count": 22,
   "id": "3d5fc602",
   "metadata": {},
   "outputs": [],
   "source": [
    "b.balance = 5000000"
   ]
  },
  {
   "cell_type": "code",
   "execution_count": 23,
   "id": "d09b6bb9",
   "metadata": {},
   "outputs": [
    {
     "name": "stdout",
     "output_type": "stream",
     "text": [
      "Account name is :  samir\n",
      "Account number of  samir  is :  12121\n",
      "Account balance is : 19000\n"
     ]
    }
   ],
   "source": [
    "b.info()"
   ]
  },
  {
   "cell_type": "code",
   "execution_count": 24,
   "id": "86848e4a",
   "metadata": {},
   "outputs": [],
   "source": [
    "b.name = \"Abcbc\""
   ]
  },
  {
   "cell_type": "code",
   "execution_count": 25,
   "id": "c03e2f84",
   "metadata": {},
   "outputs": [
    {
     "name": "stdout",
     "output_type": "stream",
     "text": [
      "Account name is :  Abcbc\n",
      "Account number of  Abcbc  is :  12121\n",
      "Account balance is : 19000\n"
     ]
    }
   ],
   "source": [
    "b.info()"
   ]
  },
  {
   "cell_type": "code",
   "execution_count": 26,
   "id": "3c7e3c90",
   "metadata": {},
   "outputs": [],
   "source": [
    "#Abstraction"
   ]
  },
  {
   "cell_type": "code",
   "execution_count": 27,
   "id": "ba02da2b",
   "metadata": {},
   "outputs": [],
   "source": [
    "from abc import ABC"
   ]
  },
  {
   "cell_type": "code",
   "execution_count": 28,
   "id": "1350b765",
   "metadata": {},
   "outputs": [],
   "source": [
    "class Car(ABC):\n",
    "    def price(self):\n",
    "        pass"
   ]
  },
  {
   "cell_type": "code",
   "execution_count": 34,
   "id": "55c1f45a",
   "metadata": {},
   "outputs": [],
   "source": [
    "class Honda(Car):\n",
    "    def price(self):\n",
    "        print(\"Price of Honda is 6 lac\")\n",
    "class BMW(Car):\n",
    "    def price(self):\n",
    "        print(\"Price of BMW is 60 lac\")\n",
    "class Maruti(Car):\n",
    "    def price(self):\n",
    "        print(\"Price of Maruti is 10 lac\")\n",
    "class Tesla(Car):\n",
    "    def price(self):\n",
    "        print(\"Price of Tesla is 90 lac\")"
   ]
  },
  {
   "cell_type": "code",
   "execution_count": 35,
   "id": "63c3a88a",
   "metadata": {},
   "outputs": [
    {
     "name": "stdout",
     "output_type": "stream",
     "text": [
      "Price of Honda is 6 lac\n"
     ]
    }
   ],
   "source": [
    "h = Honda()\n",
    "h.price()"
   ]
  },
  {
   "cell_type": "code",
   "execution_count": 37,
   "id": "2c349bd5",
   "metadata": {},
   "outputs": [],
   "source": [
    "# object and class\n",
    "# polymorphism\n",
    "# inheritance\n",
    "# encapsulation\n",
    "# abstraction"
   ]
  },
  {
   "cell_type": "markdown",
   "id": "195fe456",
   "metadata": {},
   "source": [
    "# Python Done"
   ]
  },
  {
   "cell_type": "code",
   "execution_count": null,
   "id": "b9790bda",
   "metadata": {},
   "outputs": [],
   "source": [
    "list  string\n",
    "conditional, loops, filehandling"
   ]
  }
 ],
 "metadata": {
  "kernelspec": {
   "display_name": "Python 3 (ipykernel)",
   "language": "python",
   "name": "python3"
  },
  "language_info": {
   "codemirror_mode": {
    "name": "ipython",
    "version": 3
   },
   "file_extension": ".py",
   "mimetype": "text/x-python",
   "name": "python",
   "nbconvert_exporter": "python",
   "pygments_lexer": "ipython3",
   "version": "3.10.8"
  }
 },
 "nbformat": 4,
 "nbformat_minor": 5
}
