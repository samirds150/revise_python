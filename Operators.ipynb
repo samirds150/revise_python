{
 "cells": [
  {
   "cell_type": "markdown",
   "id": "29e0f4d2",
   "metadata": {},
   "source": [
    "# Operators\n"
   ]
  },
  {
   "cell_type": "raw",
   "id": "0fd7decd",
   "metadata": {},
   "source": [
    "Variables\n",
    "Constant\n",
    "Keywords\n",
    "Comments\n"
   ]
  },
  {
   "cell_type": "code",
   "execution_count": 4,
   "id": "09e59e65",
   "metadata": {},
   "outputs": [],
   "source": [
    "a = \"Python\" \n",
    "b = 15\n",
    "c = 15.54484"
   ]
  },
  {
   "cell_type": "code",
   "execution_count": null,
   "id": "9854e14d",
   "metadata": {},
   "outputs": [],
   "source": []
  },
  {
   "cell_type": "code",
   "execution_count": 5,
   "id": "492b1f2c",
   "metadata": {},
   "outputs": [
    {
     "data": {
      "text/plain": [
       "'Python'"
      ]
     },
     "execution_count": 5,
     "metadata": {},
     "output_type": "execute_result"
    }
   ],
   "source": [
    "a"
   ]
  },
  {
   "cell_type": "code",
   "execution_count": 6,
   "id": "a8044b84",
   "metadata": {},
   "outputs": [
    {
     "name": "stdout",
     "output_type": "stream",
     "text": [
      "Python\n"
     ]
    }
   ],
   "source": [
    "print(a)"
   ]
  },
  {
   "cell_type": "raw",
   "id": "8b1f8ca5",
   "metadata": {},
   "source": [
    "a-z, A-Z, can not use any numbers, nor any symbols(_) - "
   ]
  },
  {
   "cell_type": "code",
   "execution_count": 7,
   "id": "cc8ae04a",
   "metadata": {},
   "outputs": [
    {
     "ename": "SyntaxError",
     "evalue": "invalid syntax (Temp/ipykernel_9408/2375076338.py, line 1)",
     "output_type": "error",
     "traceback": [
      "\u001b[1;36m  File \u001b[1;32m\"C:\\Users\\SAMIR\\AppData\\Local\\Temp/ipykernel_9408/2375076338.py\"\u001b[1;36m, line \u001b[1;32m1\u001b[0m\n\u001b[1;33m    9a = 55\u001b[0m\n\u001b[1;37m     ^\u001b[0m\n\u001b[1;31mSyntaxError\u001b[0m\u001b[1;31m:\u001b[0m invalid syntax\n"
     ]
    }
   ],
   "source": [
    "a_45454 = 55"
   ]
  },
  {
   "cell_type": "code",
   "execution_count": 8,
   "id": "b4b1e36d",
   "metadata": {},
   "outputs": [],
   "source": [
    "a = 3333"
   ]
  },
  {
   "cell_type": "code",
   "execution_count": 9,
   "id": "da0892f2",
   "metadata": {},
   "outputs": [],
   "source": [
    "first_str = \"python\"\n",
    "second_str = \" is easy\""
   ]
  },
  {
   "cell_type": "code",
   "execution_count": null,
   "id": "d954f6a6",
   "metadata": {},
   "outputs": [],
   "source": [
    "# first_str = \"python\" ctrl+/ is used to comment line"
   ]
  },
  {
   "cell_type": "code",
   "execution_count": null,
   "id": "89b7ffd3",
   "metadata": {},
   "outputs": [],
   "source": [
    "gravity = 9.8\n",
    "pi= 3.14\n",
    "epsilon = 2.74"
   ]
  },
  {
   "cell_type": "code",
   "execution_count": 10,
   "id": "55135b40",
   "metadata": {},
   "outputs": [],
   "source": [
    "a = \"Python\" \n",
    "b = 15\n",
    "c = 15.54484"
   ]
  },
  {
   "cell_type": "code",
   "execution_count": 13,
   "id": "dc0d6382",
   "metadata": {},
   "outputs": [
    {
     "data": {
      "text/plain": [
       "float"
      ]
     },
     "execution_count": 13,
     "metadata": {},
     "output_type": "execute_result"
    }
   ],
   "source": [
    "type(c)"
   ]
  },
  {
   "cell_type": "code",
   "execution_count": 14,
   "id": "ec9d1f13",
   "metadata": {},
   "outputs": [
    {
     "ename": "SyntaxError",
     "evalue": "invalid syntax (Temp/ipykernel_9408/1224034358.py, line 1)",
     "output_type": "error",
     "traceback": [
      "\u001b[1;36m  File \u001b[1;32m\"C:\\Users\\SAMIR\\AppData\\Local\\Temp/ipykernel_9408/1224034358.py\"\u001b[1;36m, line \u001b[1;32m1\u001b[0m\n\u001b[1;33m    for = \"samir\"\u001b[0m\n\u001b[1;37m        ^\u001b[0m\n\u001b[1;31mSyntaxError\u001b[0m\u001b[1;31m:\u001b[0m invalid syntax\n"
     ]
    }
   ],
   "source": [
    "for = \"samir\""
   ]
  },
  {
   "cell_type": "raw",
   "id": "2420ac20",
   "metadata": {},
   "source": [
    "if else for try except def break pass continue class - keywords"
   ]
  },
  {
   "cell_type": "code",
   "execution_count": 15,
   "id": "160f2e1c",
   "metadata": {},
   "outputs": [],
   "source": [
    "# Operators"
   ]
  },
  {
   "cell_type": "raw",
   "id": "f2b134ba",
   "metadata": {},
   "source": [
    "1. Mathematical/Arthematic\n",
    "2. Relational/comparison\n",
    "3. Logical\n",
    "4. Assignment\n",
    "5. Bitwise\n",
    "6. Membership\n",
    "7. Identity"
   ]
  },
  {
   "cell_type": "raw",
   "id": "53bd6f1f",
   "metadata": {},
   "source": [
    "+,-,*,/,//,%"
   ]
  },
  {
   "cell_type": "code",
   "execution_count": 16,
   "id": "4d526581",
   "metadata": {},
   "outputs": [
    {
     "data": {
      "text/plain": [
       "13"
      ]
     },
     "execution_count": 16,
     "metadata": {},
     "output_type": "execute_result"
    }
   ],
   "source": [
    "a = 10\n",
    "b = 3\n"
   ]
  },
  {
   "cell_type": "code",
   "execution_count": 17,
   "id": "fa160e51",
   "metadata": {},
   "outputs": [
    {
     "data": {
      "text/plain": [
       "13"
      ]
     },
     "execution_count": 17,
     "metadata": {},
     "output_type": "execute_result"
    }
   ],
   "source": [
    "a+b"
   ]
  },
  {
   "cell_type": "code",
   "execution_count": 18,
   "id": "041e8244",
   "metadata": {},
   "outputs": [
    {
     "data": {
      "text/plain": [
       "7"
      ]
     },
     "execution_count": 18,
     "metadata": {},
     "output_type": "execute_result"
    }
   ],
   "source": [
    "a-b"
   ]
  },
  {
   "cell_type": "code",
   "execution_count": 19,
   "id": "ae6efd9d",
   "metadata": {},
   "outputs": [
    {
     "data": {
      "text/plain": [
       "30"
      ]
     },
     "execution_count": 19,
     "metadata": {},
     "output_type": "execute_result"
    }
   ],
   "source": [
    "a*b"
   ]
  },
  {
   "cell_type": "code",
   "execution_count": 20,
   "id": "36a77a6e",
   "metadata": {},
   "outputs": [
    {
     "data": {
      "text/plain": [
       "3.3333333333333335"
      ]
     },
     "execution_count": 20,
     "metadata": {},
     "output_type": "execute_result"
    }
   ],
   "source": [
    "a/b"
   ]
  },
  {
   "cell_type": "code",
   "execution_count": 21,
   "id": "d8cc107c",
   "metadata": {},
   "outputs": [
    {
     "data": {
      "text/plain": [
       "3"
      ]
     },
     "execution_count": 21,
     "metadata": {},
     "output_type": "execute_result"
    }
   ],
   "source": [
    "a//b"
   ]
  },
  {
   "cell_type": "code",
   "execution_count": 22,
   "id": "ef45817a",
   "metadata": {},
   "outputs": [
    {
     "data": {
      "text/plain": [
       "1"
      ]
     },
     "execution_count": 22,
     "metadata": {},
     "output_type": "execute_result"
    }
   ],
   "source": [
    "a%b"
   ]
  },
  {
   "cell_type": "code",
   "execution_count": 23,
   "id": "5550898d",
   "metadata": {},
   "outputs": [
    {
     "ename": "ZeroDivisionError",
     "evalue": "division by zero",
     "output_type": "error",
     "traceback": [
      "\u001b[1;31m---------------------------------------------------------------------------\u001b[0m",
      "\u001b[1;31mZeroDivisionError\u001b[0m                         Traceback (most recent call last)",
      "\u001b[1;32m~\\AppData\\Local\\Temp/ipykernel_9408/530406163.py\u001b[0m in \u001b[0;36m<module>\u001b[1;34m\u001b[0m\n\u001b[1;32m----> 1\u001b[1;33m \u001b[1;36m10\u001b[0m\u001b[1;33m/\u001b[0m\u001b[1;36m0\u001b[0m\u001b[1;33m\u001b[0m\u001b[1;33m\u001b[0m\u001b[0m\n\u001b[0m",
      "\u001b[1;31mZeroDivisionError\u001b[0m: division by zero"
     ]
    }
   ],
   "source": [
    "10/0"
   ]
  },
  {
   "cell_type": "raw",
   "id": "579ca5f0",
   "metadata": {},
   "source": [
    "2. Relational\n",
    ">,>=,<,<=,==,!="
   ]
  },
  {
   "cell_type": "code",
   "execution_count": 25,
   "id": "f0105b7e",
   "metadata": {},
   "outputs": [
    {
     "data": {
      "text/plain": [
       "True"
      ]
     },
     "execution_count": 25,
     "metadata": {},
     "output_type": "execute_result"
    }
   ],
   "source": [
    "10>=1"
   ]
  },
  {
   "cell_type": "code",
   "execution_count": null,
   "id": "27296b74",
   "metadata": {},
   "outputs": [],
   "source": [
    "true True false False"
   ]
  },
  {
   "cell_type": "code",
   "execution_count": 27,
   "id": "f84d1689",
   "metadata": {},
   "outputs": [
    {
     "data": {
      "text/plain": [
       "False"
      ]
     },
     "execution_count": 27,
     "metadata": {},
     "output_type": "execute_result"
    }
   ],
   "source": [
    "10<=5"
   ]
  },
  {
   "cell_type": "code",
   "execution_count": 29,
   "id": "7eefdf84",
   "metadata": {},
   "outputs": [
    {
     "data": {
      "text/plain": [
       "True"
      ]
     },
     "execution_count": 29,
     "metadata": {},
     "output_type": "execute_result"
    }
   ],
   "source": [
    "10!=1"
   ]
  },
  {
   "cell_type": "raw",
   "id": "cc8586ab",
   "metadata": {},
   "source": [
    "3. Logical"
   ]
  },
  {
   "cell_type": "code",
   "execution_count": 32,
   "id": "fe93a2f7",
   "metadata": {},
   "outputs": [],
   "source": [
    "a = True\n",
    "b = False\n"
   ]
  },
  {
   "cell_type": "code",
   "execution_count": 34,
   "id": "a1d636af",
   "metadata": {},
   "outputs": [
    {
     "data": {
      "text/plain": [
       "True"
      ]
     },
     "execution_count": 34,
     "metadata": {},
     "output_type": "execute_result"
    }
   ],
   "source": [
    "a or b"
   ]
  },
  {
   "cell_type": "code",
   "execution_count": 35,
   "id": "8cfa9b82",
   "metadata": {},
   "outputs": [
    {
     "data": {
      "text/plain": [
       "False"
      ]
     },
     "execution_count": 35,
     "metadata": {},
     "output_type": "execute_result"
    }
   ],
   "source": [
    "not a"
   ]
  },
  {
   "cell_type": "code",
   "execution_count": 42,
   "id": "405d8f79",
   "metadata": {},
   "outputs": [
    {
     "data": {
      "text/plain": [
       "False"
      ]
     },
     "execution_count": 42,
     "metadata": {},
     "output_type": "execute_result"
    }
   ],
   "source": [
    "True > True"
   ]
  },
  {
   "cell_type": "code",
   "execution_count": 41,
   "id": "095de798",
   "metadata": {},
   "outputs": [
    {
     "data": {
      "text/plain": [
       "1.0"
      ]
     },
     "execution_count": 41,
     "metadata": {},
     "output_type": "execute_result"
    }
   ],
   "source": [
    "True / True"
   ]
  },
  {
   "cell_type": "code",
   "execution_count": 39,
   "id": "70dc0db0",
   "metadata": {},
   "outputs": [
    {
     "data": {
      "text/plain": [
       "0"
      ]
     },
     "execution_count": 39,
     "metadata": {},
     "output_type": "execute_result"
    }
   ],
   "source": [
    "True - True"
   ]
  },
  {
   "cell_type": "raw",
   "id": "2f20d238",
   "metadata": {},
   "source": [
    "5. Assignment"
   ]
  },
  {
   "cell_type": "code",
   "execution_count": null,
   "id": "3b06a428",
   "metadata": {},
   "outputs": [],
   "source": [
    "=, +=, -=, *=, /="
   ]
  },
  {
   "cell_type": "code",
   "execution_count": 46,
   "id": "16d47035",
   "metadata": {},
   "outputs": [],
   "source": [
    "a = 1"
   ]
  },
  {
   "cell_type": "code",
   "execution_count": 61,
   "id": "8b0be125",
   "metadata": {},
   "outputs": [
    {
     "data": {
      "text/plain": [
       "16"
      ]
     },
     "execution_count": 61,
     "metadata": {},
     "output_type": "execute_result"
    }
   ],
   "source": [
    "a = a +1\n",
    "a"
   ]
  },
  {
   "cell_type": "code",
   "execution_count": 64,
   "id": "6e9ba0d9",
   "metadata": {},
   "outputs": [
    {
     "data": {
      "text/plain": [
       "2"
      ]
     },
     "execution_count": 64,
     "metadata": {},
     "output_type": "execute_result"
    }
   ],
   "source": [
    "a+=1\n",
    "a"
   ]
  },
  {
   "cell_type": "code",
   "execution_count": 65,
   "id": "63cb53c7",
   "metadata": {},
   "outputs": [
    {
     "data": {
      "text/plain": [
       "1"
      ]
     },
     "execution_count": 65,
     "metadata": {},
     "output_type": "execute_result"
    }
   ],
   "source": [
    "a=+1\n",
    "a"
   ]
  },
  {
   "cell_type": "code",
   "execution_count": 67,
   "id": "6a26c777",
   "metadata": {},
   "outputs": [
    {
     "data": {
      "text/plain": [
       "-1"
      ]
     },
     "execution_count": 67,
     "metadata": {},
     "output_type": "execute_result"
    }
   ],
   "source": [
    "a-=1\n",
    "a"
   ]
  },
  {
   "cell_type": "markdown",
   "id": "ee31bcf0",
   "metadata": {},
   "source": [
    "5. Bitwise"
   ]
  },
  {
   "cell_type": "code",
   "execution_count": 2,
   "id": "d98cb6f7",
   "metadata": {},
   "outputs": [],
   "source": [
    "a = 3"
   ]
  },
  {
   "cell_type": "code",
   "execution_count": 3,
   "id": "1dd214b3",
   "metadata": {},
   "outputs": [
    {
     "data": {
      "text/plain": [
       "24"
      ]
     },
     "execution_count": 3,
     "metadata": {},
     "output_type": "execute_result"
    }
   ],
   "source": [
    "a<<3"
   ]
  },
  {
   "cell_type": "code",
   "execution_count": 70,
   "id": "7a6848c9",
   "metadata": {},
   "outputs": [
    {
     "data": {
      "text/plain": [
       "3"
      ]
     },
     "execution_count": 70,
     "metadata": {},
     "output_type": "execute_result"
    }
   ],
   "source": [
    "a>>2"
   ]
  },
  {
   "cell_type": "raw",
   "id": "817e06c2",
   "metadata": {},
   "source": [
    "Membership"
   ]
  },
  {
   "cell_type": "code",
   "execution_count": 71,
   "id": "42f124f1",
   "metadata": {},
   "outputs": [],
   "source": [
    "s = \"Learning Python\""
   ]
  },
  {
   "cell_type": "code",
   "execution_count": 74,
   "id": "b1ad82f2",
   "metadata": {},
   "outputs": [
    {
     "data": {
      "text/plain": [
       "False"
      ]
     },
     "execution_count": 74,
     "metadata": {},
     "output_type": "execute_result"
    }
   ],
   "source": [
    "\"python\" in s"
   ]
  },
  {
   "cell_type": "code",
   "execution_count": 75,
   "id": "ab8cd168",
   "metadata": {},
   "outputs": [
    {
     "data": {
      "text/plain": [
       "True"
      ]
     },
     "execution_count": 75,
     "metadata": {},
     "output_type": "execute_result"
    }
   ],
   "source": [
    "'java' not in s"
   ]
  },
  {
   "cell_type": "markdown",
   "id": "2513e16f",
   "metadata": {},
   "source": [
    "7. Identity"
   ]
  },
  {
   "cell_type": "code",
   "execution_count": 78,
   "id": "c098fe4a",
   "metadata": {},
   "outputs": [],
   "source": [
    "s = 'abc'\n",
    "s1 = 'abc'"
   ]
  },
  {
   "cell_type": "code",
   "execution_count": 79,
   "id": "541b837d",
   "metadata": {},
   "outputs": [
    {
     "data": {
      "text/plain": [
       "True"
      ]
     },
     "execution_count": 79,
     "metadata": {},
     "output_type": "execute_result"
    }
   ],
   "source": [
    "s is s1"
   ]
  },
  {
   "cell_type": "code",
   "execution_count": 80,
   "id": "231766e9",
   "metadata": {},
   "outputs": [
    {
     "data": {
      "text/plain": [
       "3"
      ]
     },
     "execution_count": 80,
     "metadata": {},
     "output_type": "execute_result"
    }
   ],
   "source": [
    "len(s)"
   ]
  },
  {
   "cell_type": "code",
   "execution_count": 89,
   "id": "e43f49f7",
   "metadata": {},
   "outputs": [],
   "source": [
    "a = 45454564654\n",
    "a1 = str(a)\n"
   ]
  },
  {
   "cell_type": "code",
   "execution_count": 90,
   "id": "88ceb71c",
   "metadata": {},
   "outputs": [
    {
     "data": {
      "text/plain": [
       "11"
      ]
     },
     "execution_count": 90,
     "metadata": {},
     "output_type": "execute_result"
    }
   ],
   "source": [
    "len(a1)"
   ]
  },
  {
   "cell_type": "code",
   "execution_count": 94,
   "id": "f4022247",
   "metadata": {},
   "outputs": [],
   "source": [
    "a = '153.55'"
   ]
  },
  {
   "cell_type": "code",
   "execution_count": 96,
   "id": "fbfe60fc",
   "metadata": {},
   "outputs": [
    {
     "data": {
      "text/plain": [
       "153.55"
      ]
     },
     "execution_count": 96,
     "metadata": {},
     "output_type": "execute_result"
    }
   ],
   "source": [
    "float(a)"
   ]
  },
  {
   "cell_type": "code",
   "execution_count": 84,
   "id": "31a76a08",
   "metadata": {},
   "outputs": [
    {
     "data": {
      "text/plain": [
       "str"
      ]
     },
     "execution_count": 84,
     "metadata": {},
     "output_type": "execute_result"
    }
   ],
   "source": [
    "type(a)"
   ]
  },
  {
   "cell_type": "raw",
   "id": "4f200144",
   "metadata": {},
   "source": [
    "type(int(a))"
   ]
  },
  {
   "cell_type": "code",
   "execution_count": null,
   "id": "13a848c8",
   "metadata": {},
   "outputs": [],
   "source": [
    "type(a), int(a), str(a), len(a) - python default functions"
   ]
  },
  {
   "cell_type": "code",
   "execution_count": null,
   "id": "98c1211b",
   "metadata": {},
   "outputs": [],
   "source": [
    "s = \"samir\"\n",
    "s.remove()"
   ]
  },
  {
   "cell_type": "code",
   "execution_count": null,
   "id": "d18b3b55",
   "metadata": {},
   "outputs": [],
   "source": [
    "str(), int(), float(), list(), set(), tuple()"
   ]
  }
 ],
 "metadata": {
  "kernelspec": {
   "display_name": "Python 3 (ipykernel)",
   "language": "python",
   "name": "python3"
  },
  "language_info": {
   "codemirror_mode": {
    "name": "ipython",
    "version": 3
   },
   "file_extension": ".py",
   "mimetype": "text/x-python",
   "name": "python",
   "nbconvert_exporter": "python",
   "pygments_lexer": "ipython3",
   "version": "3.9.7"
  }
 },
 "nbformat": 4,
 "nbformat_minor": 5
}
