{
 "cells": [
  {
   "cell_type": "markdown",
   "id": "37cccd3c",
   "metadata": {},
   "source": [
    "# Operators\n"
   ]
  },
  {
   "cell_type": "raw",
   "id": "f63030ea",
   "metadata": {},
   "source": [
    "Variables\n",
    "Constant\n",
    "Keywords\n",
    "Comments\n"
   ]
  },
  {
   "cell_type": "code",
   "execution_count": 4,
   "id": "2f91a5d2",
   "metadata": {},
   "outputs": [],
   "source": [
    "a = \"Python\" \n",
    "b = 15\n",
    "c = 15.54484"
   ]
  },
  {
   "cell_type": "code",
   "execution_count": null,
   "id": "02dd4c85",
   "metadata": {},
   "outputs": [],
   "source": []
  },
  {
   "cell_type": "code",
   "execution_count": 5,
   "id": "32f924e0",
   "metadata": {},
   "outputs": [
    {
     "data": {
      "text/plain": [
       "'Python'"
      ]
     },
     "execution_count": 5,
     "metadata": {},
     "output_type": "execute_result"
    }
   ],
   "source": [
    "a"
   ]
  },
  {
   "cell_type": "code",
   "execution_count": 6,
   "id": "dc6373de",
   "metadata": {},
   "outputs": [
    {
     "name": "stdout",
     "output_type": "stream",
     "text": [
      "Python\n"
     ]
    }
   ],
   "source": [
    "print(a)"
   ]
  },
  {
   "cell_type": "raw",
   "id": "94d93986",
   "metadata": {},
   "source": [
    "a-z, A-Z, can not use any numbers, nor any symbols(_) - "
   ]
  },
  {
   "cell_type": "code",
   "execution_count": 7,
   "id": "ba5de285",
   "metadata": {},
   "outputs": [
    {
     "ename": "SyntaxError",
     "evalue": "invalid syntax (Temp/ipykernel_9408/2375076338.py, line 1)",
     "output_type": "error",
     "traceback": [
      "\u001b[1;36m  File \u001b[1;32m\"C:\\Users\\SAMIR\\AppData\\Local\\Temp/ipykernel_9408/2375076338.py\"\u001b[1;36m, line \u001b[1;32m1\u001b[0m\n\u001b[1;33m    9a = 55\u001b[0m\n\u001b[1;37m     ^\u001b[0m\n\u001b[1;31mSyntaxError\u001b[0m\u001b[1;31m:\u001b[0m invalid syntax\n"
     ]
    }
   ],
   "source": [
    "a_45454 = 55"
   ]
  },
  {
   "cell_type": "code",
   "execution_count": 8,
   "id": "14f3f015",
   "metadata": {},
   "outputs": [],
   "source": [
    "a = 3333"
   ]
  },
  {
   "cell_type": "code",
   "execution_count": 9,
   "id": "98efe99c",
   "metadata": {},
   "outputs": [],
   "source": [
    "first_str = \"python\"\n",
    "second_str = \" is easy\""
   ]
  },
  {
   "cell_type": "code",
   "execution_count": null,
   "id": "61c3c0ae",
   "metadata": {},
   "outputs": [],
   "source": [
    "# first_str = \"python\" ctrl+/ is used to comment line"
   ]
  },
  {
   "cell_type": "code",
   "execution_count": null,
   "id": "d10397ea",
   "metadata": {},
   "outputs": [],
   "source": [
    "gravity = 9.8\n",
    "pi= 3.14\n",
    "epsilon = 2.74"
   ]
  },
  {
   "cell_type": "code",
   "execution_count": 10,
   "id": "1711cde2",
   "metadata": {},
   "outputs": [],
   "source": [
    "a = \"Python\" \n",
    "b = 15\n",
    "c = 15.54484"
   ]
  },
  {
   "cell_type": "code",
   "execution_count": 13,
   "id": "5b8a38aa",
   "metadata": {},
   "outputs": [
    {
     "data": {
      "text/plain": [
       "float"
      ]
     },
     "execution_count": 13,
     "metadata": {},
     "output_type": "execute_result"
    }
   ],
   "source": [
    "type(c)"
   ]
  },
  {
   "cell_type": "code",
   "execution_count": 14,
   "id": "d9a5fa42",
   "metadata": {},
   "outputs": [
    {
     "ename": "SyntaxError",
     "evalue": "invalid syntax (Temp/ipykernel_9408/1224034358.py, line 1)",
     "output_type": "error",
     "traceback": [
      "\u001b[1;36m  File \u001b[1;32m\"C:\\Users\\SAMIR\\AppData\\Local\\Temp/ipykernel_9408/1224034358.py\"\u001b[1;36m, line \u001b[1;32m1\u001b[0m\n\u001b[1;33m    for = \"samir\"\u001b[0m\n\u001b[1;37m        ^\u001b[0m\n\u001b[1;31mSyntaxError\u001b[0m\u001b[1;31m:\u001b[0m invalid syntax\n"
     ]
    }
   ],
   "source": [
    "for = \"samir\""
   ]
  },
  {
   "cell_type": "raw",
   "id": "fe0efef5",
   "metadata": {},
   "source": [
    "if else for try except def break pass continue class - keywords"
   ]
  },
  {
   "cell_type": "code",
   "execution_count": 15,
   "id": "1f70868f",
   "metadata": {},
   "outputs": [],
   "source": [
    "# Operators"
   ]
  },
  {
   "cell_type": "raw",
   "id": "539d720f",
   "metadata": {},
   "source": [
    "1. Mathematical/Arthematic\n",
    "2. Relational/comparison\n",
    "3. Logical\n",
    "4. Assignment\n",
    "5. Bitwise\n",
    "6. Membership\n",
    "7. Identity"
   ]
  },
  {
   "cell_type": "raw",
   "id": "c4df4c0d",
   "metadata": {},
   "source": [
    "+,-,*,/,//,%"
   ]
  },
  {
   "cell_type": "code",
   "execution_count": 16,
   "id": "bd57027c",
   "metadata": {},
   "outputs": [
    {
     "data": {
      "text/plain": [
       "13"
      ]
     },
     "execution_count": 16,
     "metadata": {},
     "output_type": "execute_result"
    }
   ],
   "source": [
    "a = 10\n",
    "b = 3\n"
   ]
  },
  {
   "cell_type": "code",
   "execution_count": 17,
   "id": "9761a417",
   "metadata": {},
   "outputs": [
    {
     "data": {
      "text/plain": [
       "13"
      ]
     },
     "execution_count": 17,
     "metadata": {},
     "output_type": "execute_result"
    }
   ],
   "source": [
    "a+b"
   ]
  },
  {
   "cell_type": "code",
   "execution_count": 18,
   "id": "1e22001e",
   "metadata": {},
   "outputs": [
    {
     "data": {
      "text/plain": [
       "7"
      ]
     },
     "execution_count": 18,
     "metadata": {},
     "output_type": "execute_result"
    }
   ],
   "source": [
    "a-b"
   ]
  },
  {
   "cell_type": "code",
   "execution_count": 19,
   "id": "637e22fd",
   "metadata": {},
   "outputs": [
    {
     "data": {
      "text/plain": [
       "30"
      ]
     },
     "execution_count": 19,
     "metadata": {},
     "output_type": "execute_result"
    }
   ],
   "source": [
    "a*b"
   ]
  },
  {
   "cell_type": "code",
   "execution_count": 20,
   "id": "534bd9d2",
   "metadata": {},
   "outputs": [
    {
     "data": {
      "text/plain": [
       "3.3333333333333335"
      ]
     },
     "execution_count": 20,
     "metadata": {},
     "output_type": "execute_result"
    }
   ],
   "source": [
    "a/b"
   ]
  },
  {
   "cell_type": "code",
   "execution_count": 21,
   "id": "18b618f0",
   "metadata": {},
   "outputs": [
    {
     "data": {
      "text/plain": [
       "3"
      ]
     },
     "execution_count": 21,
     "metadata": {},
     "output_type": "execute_result"
    }
   ],
   "source": [
    "a//b"
   ]
  },
  {
   "cell_type": "code",
   "execution_count": 22,
   "id": "14cdede9",
   "metadata": {},
   "outputs": [
    {
     "data": {
      "text/plain": [
       "1"
      ]
     },
     "execution_count": 22,
     "metadata": {},
     "output_type": "execute_result"
    }
   ],
   "source": [
    "a%b"
   ]
  },
  {
   "cell_type": "code",
   "execution_count": 23,
   "id": "1d94e80f",
   "metadata": {},
   "outputs": [
    {
     "ename": "ZeroDivisionError",
     "evalue": "division by zero",
     "output_type": "error",
     "traceback": [
      "\u001b[1;31m---------------------------------------------------------------------------\u001b[0m",
      "\u001b[1;31mZeroDivisionError\u001b[0m                         Traceback (most recent call last)",
      "\u001b[1;32m~\\AppData\\Local\\Temp/ipykernel_9408/530406163.py\u001b[0m in \u001b[0;36m<module>\u001b[1;34m\u001b[0m\n\u001b[1;32m----> 1\u001b[1;33m \u001b[1;36m10\u001b[0m\u001b[1;33m/\u001b[0m\u001b[1;36m0\u001b[0m\u001b[1;33m\u001b[0m\u001b[1;33m\u001b[0m\u001b[0m\n\u001b[0m",
      "\u001b[1;31mZeroDivisionError\u001b[0m: division by zero"
     ]
    }
   ],
   "source": [
    "10/0"
   ]
  },
  {
   "cell_type": "raw",
   "id": "53e30506",
   "metadata": {},
   "source": [
    "2. Relational\n",
    ">,>=,<,<=,==,!="
   ]
  },
  {
   "cell_type": "code",
   "execution_count": 25,
   "id": "22bc8c8e",
   "metadata": {},
   "outputs": [
    {
     "data": {
      "text/plain": [
       "True"
      ]
     },
     "execution_count": 25,
     "metadata": {},
     "output_type": "execute_result"
    }
   ],
   "source": [
    "10>=1"
   ]
  },
  {
   "cell_type": "code",
   "execution_count": null,
   "id": "386c99e4",
   "metadata": {},
   "outputs": [],
   "source": [
    "true True false False"
   ]
  },
  {
   "cell_type": "code",
   "execution_count": 27,
   "id": "4e48ec1d",
   "metadata": {},
   "outputs": [
    {
     "data": {
      "text/plain": [
       "False"
      ]
     },
     "execution_count": 27,
     "metadata": {},
     "output_type": "execute_result"
    }
   ],
   "source": [
    "10<=5"
   ]
  },
  {
   "cell_type": "code",
   "execution_count": 29,
   "id": "84a5f0b3",
   "metadata": {},
   "outputs": [
    {
     "data": {
      "text/plain": [
       "True"
      ]
     },
     "execution_count": 29,
     "metadata": {},
     "output_type": "execute_result"
    }
   ],
   "source": [
    "10!=1"
   ]
  },
  {
   "cell_type": "raw",
   "id": "92e3c4c8",
   "metadata": {},
   "source": [
    "3. Logical"
   ]
  },
  {
   "cell_type": "code",
   "execution_count": 32,
   "id": "c509c326",
   "metadata": {},
   "outputs": [],
   "source": [
    "a = True\n",
    "b = False\n"
   ]
  },
  {
   "cell_type": "code",
   "execution_count": 34,
   "id": "83a86cb6",
   "metadata": {},
   "outputs": [
    {
     "data": {
      "text/plain": [
       "True"
      ]
     },
     "execution_count": 34,
     "metadata": {},
     "output_type": "execute_result"
    }
   ],
   "source": [
    "a or b"
   ]
  },
  {
   "cell_type": "code",
   "execution_count": 35,
   "id": "4065527a",
   "metadata": {},
   "outputs": [
    {
     "data": {
      "text/plain": [
       "False"
      ]
     },
     "execution_count": 35,
     "metadata": {},
     "output_type": "execute_result"
    }
   ],
   "source": [
    "not a"
   ]
  },
  {
   "cell_type": "code",
   "execution_count": 42,
   "id": "56c852d2",
   "metadata": {},
   "outputs": [
    {
     "data": {
      "text/plain": [
       "False"
      ]
     },
     "execution_count": 42,
     "metadata": {},
     "output_type": "execute_result"
    }
   ],
   "source": [
    "True > True"
   ]
  },
  {
   "cell_type": "code",
   "execution_count": 41,
   "id": "f7ad3bd6",
   "metadata": {},
   "outputs": [
    {
     "data": {
      "text/plain": [
       "1.0"
      ]
     },
     "execution_count": 41,
     "metadata": {},
     "output_type": "execute_result"
    }
   ],
   "source": [
    "True / True"
   ]
  },
  {
   "cell_type": "code",
   "execution_count": 39,
   "id": "a36bc87d",
   "metadata": {},
   "outputs": [
    {
     "data": {
      "text/plain": [
       "0"
      ]
     },
     "execution_count": 39,
     "metadata": {},
     "output_type": "execute_result"
    }
   ],
   "source": [
    "True - True"
   ]
  },
  {
   "cell_type": "raw",
   "id": "cd3a81e6",
   "metadata": {},
   "source": [
    "5. Assignment"
   ]
  },
  {
   "cell_type": "code",
   "execution_count": null,
   "id": "2c7b219e",
   "metadata": {},
   "outputs": [],
   "source": [
    "=, +=, -=, *=, /="
   ]
  },
  {
   "cell_type": "code",
   "execution_count": 46,
   "id": "af767703",
   "metadata": {},
   "outputs": [],
   "source": [
    "a = 1"
   ]
  },
  {
   "cell_type": "code",
   "execution_count": 61,
   "id": "da8ca935",
   "metadata": {},
   "outputs": [
    {
     "data": {
      "text/plain": [
       "16"
      ]
     },
     "execution_count": 61,
     "metadata": {},
     "output_type": "execute_result"
    }
   ],
   "source": [
    "a = a +1\n",
    "a"
   ]
  },
  {
   "cell_type": "code",
   "execution_count": 64,
   "id": "4d198a63",
   "metadata": {},
   "outputs": [
    {
     "data": {
      "text/plain": [
       "2"
      ]
     },
     "execution_count": 64,
     "metadata": {},
     "output_type": "execute_result"
    }
   ],
   "source": [
    "a+=1\n",
    "a"
   ]
  },
  {
   "cell_type": "code",
   "execution_count": 65,
   "id": "36057489",
   "metadata": {},
   "outputs": [
    {
     "data": {
      "text/plain": [
       "1"
      ]
     },
     "execution_count": 65,
     "metadata": {},
     "output_type": "execute_result"
    }
   ],
   "source": [
    "a=+1\n",
    "a"
   ]
  },
  {
   "cell_type": "code",
   "execution_count": 67,
   "id": "f83283f1",
   "metadata": {},
   "outputs": [
    {
     "data": {
      "text/plain": [
       "-1"
      ]
     },
     "execution_count": 67,
     "metadata": {},
     "output_type": "execute_result"
    }
   ],
   "source": [
    "a-=1\n",
    "a"
   ]
  },
  {
   "cell_type": "markdown",
   "id": "a11858db",
   "metadata": {},
   "source": [
    "5. Bitwise"
   ]
  },
  {
   "cell_type": "code",
   "execution_count": 68,
   "id": "dd2e43a5",
   "metadata": {},
   "outputs": [],
   "source": [
    "a = 12"
   ]
  },
  {
   "cell_type": "code",
   "execution_count": 69,
   "id": "e5d0e759",
   "metadata": {},
   "outputs": [
    {
     "data": {
      "text/plain": [
       "48"
      ]
     },
     "execution_count": 69,
     "metadata": {},
     "output_type": "execute_result"
    }
   ],
   "source": [
    "a<<2"
   ]
  },
  {
   "cell_type": "code",
   "execution_count": 70,
   "id": "3c95d0b6",
   "metadata": {},
   "outputs": [
    {
     "data": {
      "text/plain": [
       "3"
      ]
     },
     "execution_count": 70,
     "metadata": {},
     "output_type": "execute_result"
    }
   ],
   "source": [
    "a>>2"
   ]
  },
  {
   "cell_type": "raw",
   "id": "3720e3b1",
   "metadata": {},
   "source": [
    "Membership"
   ]
  },
  {
   "cell_type": "code",
   "execution_count": 71,
   "id": "56d61a3d",
   "metadata": {},
   "outputs": [],
   "source": [
    "s = \"Learning Python\""
   ]
  },
  {
   "cell_type": "code",
   "execution_count": 74,
   "id": "f285ea51",
   "metadata": {},
   "outputs": [
    {
     "data": {
      "text/plain": [
       "False"
      ]
     },
     "execution_count": 74,
     "metadata": {},
     "output_type": "execute_result"
    }
   ],
   "source": [
    "\"python\" in s"
   ]
  },
  {
   "cell_type": "code",
   "execution_count": 75,
   "id": "9fe962ab",
   "metadata": {},
   "outputs": [
    {
     "data": {
      "text/plain": [
       "True"
      ]
     },
     "execution_count": 75,
     "metadata": {},
     "output_type": "execute_result"
    }
   ],
   "source": [
    "'java' not in s"
   ]
  },
  {
   "cell_type": "markdown",
   "id": "6acb6cde",
   "metadata": {},
   "source": [
    "7. Identity"
   ]
  },
  {
   "cell_type": "code",
   "execution_count": 78,
   "id": "52249679",
   "metadata": {},
   "outputs": [],
   "source": [
    "s = 'abc'\n",
    "s1 = 'abc'"
   ]
  },
  {
   "cell_type": "code",
   "execution_count": 79,
   "id": "6df236a0",
   "metadata": {},
   "outputs": [
    {
     "data": {
      "text/plain": [
       "True"
      ]
     },
     "execution_count": 79,
     "metadata": {},
     "output_type": "execute_result"
    }
   ],
   "source": [
    "s is s1"
   ]
  },
  {
   "cell_type": "code",
   "execution_count": 80,
   "id": "dd7e0f43",
   "metadata": {},
   "outputs": [
    {
     "data": {
      "text/plain": [
       "3"
      ]
     },
     "execution_count": 80,
     "metadata": {},
     "output_type": "execute_result"
    }
   ],
   "source": [
    "len(s)"
   ]
  },
  {
   "cell_type": "code",
   "execution_count": 89,
   "id": "7d392faa",
   "metadata": {},
   "outputs": [],
   "source": [
    "a = 45454564654\n",
    "a1 = str(a)\n"
   ]
  },
  {
   "cell_type": "code",
   "execution_count": 90,
   "id": "48252efe",
   "metadata": {},
   "outputs": [
    {
     "data": {
      "text/plain": [
       "11"
      ]
     },
     "execution_count": 90,
     "metadata": {},
     "output_type": "execute_result"
    }
   ],
   "source": [
    "len(a1)"
   ]
  },
  {
   "cell_type": "code",
   "execution_count": 83,
   "id": "0f3ccaae",
   "metadata": {},
   "outputs": [],
   "source": [
    "a = '1445515'"
   ]
  },
  {
   "cell_type": "code",
   "execution_count": 84,
   "id": "1c455d16",
   "metadata": {},
   "outputs": [
    {
     "data": {
      "text/plain": [
       "str"
      ]
     },
     "execution_count": 84,
     "metadata": {},
     "output_type": "execute_result"
    }
   ],
   "source": [
    "type(a)"
   ]
  },
  {
   "cell_type": "raw",
   "id": "e0407db5",
   "metadata": {},
   "source": [
    "type(int(a))"
   ]
  },
  {
   "cell_type": "code",
   "execution_count": null,
   "id": "491b1bf7",
   "metadata": {},
   "outputs": [],
   "source": []
  }
 ],
 "metadata": {
  "kernelspec": {
   "display_name": "Python 3 (ipykernel)",
   "language": "python",
   "name": "python3"
  },
  "language_info": {
   "codemirror_mode": {
    "name": "ipython",
    "version": 3
   },
   "file_extension": ".py",
   "mimetype": "text/x-python",
   "name": "python",
   "nbconvert_exporter": "python",
   "pygments_lexer": "ipython3",
   "version": "3.9.7"
  }
 },
 "nbformat": 4,
 "nbformat_minor": 5
}
