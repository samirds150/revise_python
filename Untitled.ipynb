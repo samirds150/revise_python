{
 "cells": [
  {
   "cell_type": "code",
   "execution_count": 6,
   "id": "c00ad649",
   "metadata": {},
   "outputs": [
    {
     "ename": "SyntaxError",
     "evalue": "invalid syntax (Temp/ipykernel_8268/609214733.py, line 1)",
     "output_type": "error",
     "traceback": [
      "\u001b[1;36m  File \u001b[1;32m\"C:\\Users\\SAMIR\\AppData\\Local\\Temp/ipykernel_8268/609214733.py\"\u001b[1;36m, line \u001b[1;32m1\u001b[0m\n\u001b[1;33m    data types\u001b[0m\n\u001b[1;37m         ^\u001b[0m\n\u001b[1;31mSyntaxError\u001b[0m\u001b[1;31m:\u001b[0m invalid syntax\n"
     ]
    }
   ],
   "source": [
    "data types"
   ]
  },
  {
   "cell_type": "code",
   "execution_count": null,
   "id": "2d6f671f",
   "metadata": {},
   "outputs": [],
   "source": [
    "str \"python\""
   ]
  },
  {
   "cell_type": "code",
   "execution_count": null,
   "id": "b87c9497",
   "metadata": {},
   "outputs": [],
   "source": [
    "int = 414914"
   ]
  },
  {
   "cell_type": "code",
   "execution_count": null,
   "id": "406bfd89",
   "metadata": {},
   "outputs": [],
   "source": [
    "float = 15.554"
   ]
  },
  {
   "cell_type": "code",
   "execution_count": 5,
   "id": "64b0b0ef",
   "metadata": {},
   "outputs": [],
   "source": [
    "a = \"python\"\n",
    "b = 125\n",
    "c = 45.5"
   ]
  },
  {
   "cell_type": "code",
   "execution_count": 2,
   "id": "0ffef5b9",
   "metadata": {},
   "outputs": [
    {
     "name": "stdout",
     "output_type": "stream",
     "text": [
      "python\n"
     ]
    }
   ],
   "source": [
    "print(a)"
   ]
  },
  {
   "cell_type": "code",
   "execution_count": 3,
   "id": "4f724919",
   "metadata": {},
   "outputs": [
    {
     "data": {
      "text/plain": [
       "'python'"
      ]
     },
     "execution_count": 3,
     "metadata": {},
     "output_type": "execute_result"
    }
   ],
   "source": [
    "a"
   ]
  },
  {
   "cell_type": "code",
   "execution_count": 7,
   "id": "bd8abe58",
   "metadata": {},
   "outputs": [
    {
     "data": {
      "text/plain": [
       "125"
      ]
     },
     "execution_count": 7,
     "metadata": {},
     "output_type": "execute_result"
    }
   ],
   "source": [
    "b"
   ]
  },
  {
   "cell_type": "code",
   "execution_count": 8,
   "id": "2b40a2f6",
   "metadata": {},
   "outputs": [
    {
     "data": {
      "text/plain": [
       "45.5"
      ]
     },
     "execution_count": 8,
     "metadata": {},
     "output_type": "execute_result"
    }
   ],
   "source": [
    "c"
   ]
  },
  {
   "cell_type": "code",
   "execution_count": null,
   "id": "9963327b",
   "metadata": {},
   "outputs": [],
   "source": [
    "start from your alphabets or _, you cant use any number at start and you can not use any symbols anywhere"
   ]
  },
  {
   "cell_type": "code",
   "execution_count": 10,
   "id": "467c3368",
   "metadata": {},
   "outputs": [],
   "source": [
    "sam1_____1111 = \"jsgdjg\""
   ]
  },
  {
   "cell_type": "code",
   "execution_count": 11,
   "id": "b89286a5",
   "metadata": {},
   "outputs": [
    {
     "ename": "SyntaxError",
     "evalue": "invalid syntax (Temp/ipykernel_8268/841412501.py, line 1)",
     "output_type": "error",
     "traceback": [
      "\u001b[1;36m  File \u001b[1;32m\"C:\\Users\\SAMIR\\AppData\\Local\\Temp/ipykernel_8268/841412501.py\"\u001b[1;36m, line \u001b[1;32m1\u001b[0m\n\u001b[1;33m    1sam = 454\u001b[0m\n\u001b[1;37m     ^\u001b[0m\n\u001b[1;31mSyntaxError\u001b[0m\u001b[1;31m:\u001b[0m invalid syntax\n"
     ]
    }
   ],
   "source": [
    "1sam = 454"
   ]
  },
  {
   "cell_type": "code",
   "execution_count": 14,
   "id": "eb56faa5",
   "metadata": {},
   "outputs": [],
   "source": [
    "this is how variable is created\n",
    "_sam = \"jasgjs\""
   ]
  },
  {
   "cell_type": "code",
   "execution_count": 17,
   "id": "458fab45",
   "metadata": {},
   "outputs": [
    {
     "ename": "SyntaxError",
     "evalue": "invalid syntax (Temp/ipykernel_8268/473807215.py, line 1)",
     "output_type": "error",
     "traceback": [
      "\u001b[1;36m  File \u001b[1;32m\"C:\\Users\\SAMIR\\AppData\\Local\\Temp/ipykernel_8268/473807215.py\"\u001b[1;36m, line \u001b[1;32m1\u001b[0m\n\u001b[1;33m    this is how variable is created\u001b[0m\n\u001b[1;37m                ^\u001b[0m\n\u001b[1;31mSyntaxError\u001b[0m\u001b[1;31m:\u001b[0m invalid syntax\n"
     ]
    }
   ],
   "source": [
    "this is how variable is created\n",
    "this is how variable is created\n",
    "this is how variable is created\n",
    "this is how variable is created\n",
    "this is how variable is created"
   ]
  },
  {
   "cell_type": "code",
   "execution_count": null,
   "id": "9617cf2a",
   "metadata": {},
   "outputs": [],
   "source": [
    "\"ctrl+/\" this is used to comment any set of line or vice versa"
   ]
  },
  {
   "cell_type": "markdown",
   "id": "712b6d7b",
   "metadata": {},
   "source": [
    "# Operators"
   ]
  },
  {
   "cell_type": "raw",
   "id": "470e5f76",
   "metadata": {},
   "source": [
    "Mathematical/arthmetic\n",
    "relational/comparision\n",
    "logical\n",
    "assignment\n",
    "bitwise\n",
    "membership\n",
    "identity\n"
   ]
  },
  {
   "cell_type": "code",
   "execution_count": null,
   "id": "c897be1f",
   "metadata": {},
   "outputs": [],
   "source": [
    "+,-,*,/,//,%"
   ]
  },
  {
   "cell_type": "code",
   "execution_count": 18,
   "id": "1b3bab2d",
   "metadata": {},
   "outputs": [
    {
     "data": {
      "text/plain": [
       "13"
      ]
     },
     "execution_count": 18,
     "metadata": {},
     "output_type": "execute_result"
    }
   ],
   "source": [
    "12+1"
   ]
  },
  {
   "cell_type": "code",
   "execution_count": 19,
   "id": "ad24342d",
   "metadata": {},
   "outputs": [
    {
     "data": {
      "text/plain": [
       "11"
      ]
     },
     "execution_count": 19,
     "metadata": {},
     "output_type": "execute_result"
    }
   ],
   "source": [
    "12-1"
   ]
  },
  {
   "cell_type": "code",
   "execution_count": 20,
   "id": "c466951f",
   "metadata": {},
   "outputs": [],
   "source": [
    "a = 12\n",
    "b = 78"
   ]
  },
  {
   "cell_type": "code",
   "execution_count": 21,
   "id": "64d4ddf2",
   "metadata": {},
   "outputs": [
    {
     "data": {
      "text/plain": [
       "90"
      ]
     },
     "execution_count": 21,
     "metadata": {},
     "output_type": "execute_result"
    }
   ],
   "source": [
    "a+b"
   ]
  },
  {
   "cell_type": "code",
   "execution_count": 22,
   "id": "efa23eb1",
   "metadata": {},
   "outputs": [
    {
     "data": {
      "text/plain": [
       "-66"
      ]
     },
     "execution_count": 22,
     "metadata": {},
     "output_type": "execute_result"
    }
   ],
   "source": [
    "a-b"
   ]
  },
  {
   "cell_type": "code",
   "execution_count": 23,
   "id": "79735d5b",
   "metadata": {},
   "outputs": [
    {
     "data": {
      "text/plain": [
       "936"
      ]
     },
     "execution_count": 23,
     "metadata": {},
     "output_type": "execute_result"
    }
   ],
   "source": [
    "a*b"
   ]
  },
  {
   "cell_type": "code",
   "execution_count": 24,
   "id": "25edfd47",
   "metadata": {},
   "outputs": [],
   "source": [
    "a = 5\n",
    "b =2"
   ]
  },
  {
   "cell_type": "code",
   "execution_count": 25,
   "id": "045e87b8",
   "metadata": {},
   "outputs": [
    {
     "data": {
      "text/plain": [
       "2.5"
      ]
     },
     "execution_count": 25,
     "metadata": {},
     "output_type": "execute_result"
    }
   ],
   "source": [
    "a/b"
   ]
  },
  {
   "cell_type": "code",
   "execution_count": 26,
   "id": "db448028",
   "metadata": {},
   "outputs": [
    {
     "data": {
      "text/plain": [
       "2"
      ]
     },
     "execution_count": 26,
     "metadata": {},
     "output_type": "execute_result"
    }
   ],
   "source": [
    "a//b"
   ]
  },
  {
   "cell_type": "code",
   "execution_count": 27,
   "id": "b4ec08ff",
   "metadata": {},
   "outputs": [
    {
     "data": {
      "text/plain": [
       "1"
      ]
     },
     "execution_count": 27,
     "metadata": {},
     "output_type": "execute_result"
    }
   ],
   "source": [
    "a%b"
   ]
  },
  {
   "cell_type": "raw",
   "id": "03592060",
   "metadata": {},
   "source": [
    "Relational/comparison, <, <=, >, >= ,==, !="
   ]
  },
  {
   "cell_type": "code",
   "execution_count": 38,
   "id": "41b86446",
   "metadata": {},
   "outputs": [],
   "source": [
    "a = 2\n",
    "b = 2"
   ]
  },
  {
   "cell_type": "code",
   "execution_count": 40,
   "id": "cb8a46e2",
   "metadata": {},
   "outputs": [
    {
     "ename": "SyntaxError",
     "evalue": "invalid syntax (Temp/ipykernel_8268/3768894886.py, line 1)",
     "output_type": "error",
     "traceback": [
      "\u001b[1;36m  File \u001b[1;32m\"C:\\Users\\SAMIR\\AppData\\Local\\Temp/ipykernel_8268/3768894886.py\"\u001b[1;36m, line \u001b[1;32m1\u001b[0m\n\u001b[1;33m    a => b\u001b[0m\n\u001b[1;37m       ^\u001b[0m\n\u001b[1;31mSyntaxError\u001b[0m\u001b[1;31m:\u001b[0m invalid syntax\n"
     ]
    }
   ],
   "source": [
    "a >= b"
   ]
  },
  {
   "cell_type": "code",
   "execution_count": 36,
   "id": "e3a152a1",
   "metadata": {},
   "outputs": [
    {
     "data": {
      "text/plain": [
       "True"
      ]
     },
     "execution_count": 36,
     "metadata": {},
     "output_type": "execute_result"
    }
   ],
   "source": [
    "a <= b"
   ]
  },
  {
   "cell_type": "code",
   "execution_count": 37,
   "id": "17f0c470",
   "metadata": {},
   "outputs": [
    {
     "data": {
      "text/plain": [
       "True"
      ]
     },
     "execution_count": 37,
     "metadata": {},
     "output_type": "execute_result"
    }
   ],
   "source": [
    "a != b"
   ]
  },
  {
   "cell_type": "code",
   "execution_count": null,
   "id": "82194e4b",
   "metadata": {},
   "outputs": [],
   "source": [
    "logical    a<b or a==b"
   ]
  },
  {
   "cell_type": "code",
   "execution_count": null,
   "id": "39b241cc",
   "metadata": {},
   "outputs": [],
   "source": [
    "assignment"
   ]
  },
  {
   "cell_type": "code",
   "execution_count": 57,
   "id": "4a58fbcb",
   "metadata": {},
   "outputs": [
    {
     "data": {
      "text/plain": [
       "12"
      ]
     },
     "execution_count": 57,
     "metadata": {},
     "output_type": "execute_result"
    }
   ],
   "source": [
    "a = 12\n",
    "a"
   ]
  },
  {
   "cell_type": "code",
   "execution_count": 56,
   "id": "98e819c0",
   "metadata": {},
   "outputs": [
    {
     "data": {
      "text/plain": [
       "25"
      ]
     },
     "execution_count": 56,
     "metadata": {},
     "output_type": "execute_result"
    }
   ],
   "source": [
    "a = a + 1\n",
    "a"
   ]
  },
  {
   "cell_type": "code",
   "execution_count": 63,
   "id": "2f9b28f4",
   "metadata": {
    "scrolled": true
   },
   "outputs": [
    {
     "data": {
      "text/plain": [
       "18"
      ]
     },
     "execution_count": 63,
     "metadata": {},
     "output_type": "execute_result"
    }
   ],
   "source": [
    "a += 1\n",
    "a"
   ]
  },
  {
   "cell_type": "code",
   "execution_count": 73,
   "id": "058adcf8",
   "metadata": {
    "scrolled": true
   },
   "outputs": [
    {
     "data": {
      "text/plain": [
       "8"
      ]
     },
     "execution_count": 73,
     "metadata": {},
     "output_type": "execute_result"
    }
   ],
   "source": [
    "a /= 1\n",
    "a"
   ]
  },
  {
   "cell_type": "code",
   "execution_count": 75,
   "id": "1f913302",
   "metadata": {},
   "outputs": [
    {
     "data": {
      "text/plain": [
       "10"
      ]
     },
     "execution_count": 75,
     "metadata": {},
     "output_type": "execute_result"
    }
   ],
   "source": [
    "# bitwise \n",
    "a = 5\n",
    "a<<1\n"
   ]
  },
  {
   "cell_type": "code",
   "execution_count": 76,
   "id": "d7731b4e",
   "metadata": {},
   "outputs": [
    {
     "data": {
      "text/plain": [
       "2"
      ]
     },
     "execution_count": 76,
     "metadata": {},
     "output_type": "execute_result"
    }
   ],
   "source": [
    "a>>1"
   ]
  },
  {
   "cell_type": "code",
   "execution_count": 77,
   "id": "09903b7e",
   "metadata": {},
   "outputs": [
    {
     "data": {
      "text/plain": [
       "20"
      ]
     },
     "execution_count": 77,
     "metadata": {},
     "output_type": "execute_result"
    }
   ],
   "source": [
    "a<<2"
   ]
  },
  {
   "cell_type": "code",
   "execution_count": 78,
   "id": "8fc13bec",
   "metadata": {},
   "outputs": [],
   "source": [
    "# membership opertor"
   ]
  },
  {
   "cell_type": "code",
   "execution_count": 79,
   "id": "d01b653c",
   "metadata": {},
   "outputs": [
    {
     "data": {
      "text/plain": [
       "'python'"
      ]
     },
     "execution_count": 79,
     "metadata": {},
     "output_type": "execute_result"
    }
   ],
   "source": [
    "s = \"python\"\n",
    "s"
   ]
  },
  {
   "cell_type": "code",
   "execution_count": 82,
   "id": "12f04ed7",
   "metadata": {},
   "outputs": [
    {
     "data": {
      "text/plain": [
       "False"
      ]
     },
     "execution_count": 82,
     "metadata": {},
     "output_type": "execute_result"
    }
   ],
   "source": [
    "'Pyt' in s"
   ]
  },
  {
   "cell_type": "code",
   "execution_count": 84,
   "id": "a1c798b8",
   "metadata": {},
   "outputs": [
    {
     "data": {
      "text/plain": [
       "False"
      ]
     },
     "execution_count": 84,
     "metadata": {},
     "output_type": "execute_result"
    }
   ],
   "source": [
    "\"python\" not in s"
   ]
  },
  {
   "cell_type": "markdown",
   "id": "ec52b165",
   "metadata": {},
   "source": [
    "Data Types"
   ]
  },
  {
   "cell_type": "code",
   "execution_count": null,
   "id": "f1aceca4",
   "metadata": {},
   "outputs": [],
   "source": [
    "str, \"458484444\"\n",
    "int = 45554\n",
    "float = 45.554\n",
    "Boolean True False\n",
    "true"
   ]
  },
  {
   "cell_type": "code",
   "execution_count": null,
   "id": "16c81826",
   "metadata": {},
   "outputs": [],
   "source": [
    "25+ if, else, elif, for, while, def , class, str, "
   ]
  },
  {
   "cell_type": "code",
   "execution_count": 86,
   "id": "cef9937b",
   "metadata": {},
   "outputs": [],
   "source": [
    "_for = \"python\""
   ]
  },
  {
   "cell_type": "code",
   "execution_count": 87,
   "id": "ea1be825",
   "metadata": {},
   "outputs": [],
   "source": [
    "list = [10,20,\"sam\", 46.5, True]"
   ]
  },
  {
   "cell_type": "code",
   "execution_count": 88,
   "id": "9e8eacfa",
   "metadata": {},
   "outputs": [
    {
     "data": {
      "text/plain": [
       "[10, 20, 'sam', 46.5, True]"
      ]
     },
     "execution_count": 88,
     "metadata": {},
     "output_type": "execute_result"
    }
   ],
   "source": [
    "list"
   ]
  },
  {
   "cell_type": "code",
   "execution_count": 89,
   "id": "212ab98e",
   "metadata": {},
   "outputs": [],
   "source": [
    "set = {10,20,\"sam\", 46.5, True}"
   ]
  },
  {
   "cell_type": "code",
   "execution_count": 90,
   "id": "2328a3cc",
   "metadata": {},
   "outputs": [
    {
     "data": {
      "text/plain": [
       "{10, 20, 46.5, True, 'sam'}"
      ]
     },
     "execution_count": 90,
     "metadata": {},
     "output_type": "execute_result"
    }
   ],
   "source": [
    "set"
   ]
  },
  {
   "cell_type": "code",
   "execution_count": 97,
   "id": "53d4559a",
   "metadata": {},
   "outputs": [
    {
     "data": {
      "text/plain": [
       "tuple"
      ]
     },
     "execution_count": 97,
     "metadata": {},
     "output_type": "execute_result"
    }
   ],
   "source": [
    "t = (10,20,\"sam\", 46.5, True)\n",
    "type(t)"
   ]
  },
  {
   "cell_type": "code",
   "execution_count": 96,
   "id": "26a8310c",
   "metadata": {},
   "outputs": [
    {
     "data": {
      "text/plain": [
       "dict"
      ]
     },
     "execution_count": 96,
     "metadata": {},
     "output_type": "execute_result"
    }
   ],
   "source": [
    "d = {\"key\": \"value\", \"name\":\"sam\", \"contact\": 456645}\n",
    "type(d)"
   ]
  },
  {
   "cell_type": "code",
   "execution_count": 94,
   "id": "e4eb87cc",
   "metadata": {},
   "outputs": [
    {
     "data": {
      "text/plain": [
       "'155488448'"
      ]
     },
     "execution_count": 94,
     "metadata": {},
     "output_type": "execute_result"
    }
   ],
   "source": [
    "s = \"155488448\"\n",
    "s"
   ]
  },
  {
   "cell_type": "code",
   "execution_count": 95,
   "id": "e7dfacca",
   "metadata": {},
   "outputs": [
    {
     "data": {
      "text/plain": [
       "str"
      ]
     },
     "execution_count": 95,
     "metadata": {},
     "output_type": "execute_result"
    }
   ],
   "source": [
    "type(s)"
   ]
  },
  {
   "cell_type": "code",
   "execution_count": 98,
   "id": "5d398097",
   "metadata": {},
   "outputs": [
    {
     "data": {
      "text/plain": [
       "9"
      ]
     },
     "execution_count": 98,
     "metadata": {},
     "output_type": "execute_result"
    }
   ],
   "source": [
    "len(s)"
   ]
  },
  {
   "cell_type": "code",
   "execution_count": 99,
   "id": "6c341ffc",
   "metadata": {},
   "outputs": [
    {
     "data": {
      "text/plain": [
       "5"
      ]
     },
     "execution_count": 99,
     "metadata": {},
     "output_type": "execute_result"
    }
   ],
   "source": [
    "len(\"samir\")"
   ]
  },
  {
   "cell_type": "code",
   "execution_count": 100,
   "id": "cc61a63d",
   "metadata": {},
   "outputs": [
    {
     "data": {
      "text/plain": [
       "11"
      ]
     },
     "execution_count": 100,
     "metadata": {},
     "output_type": "execute_result"
    }
   ],
   "source": [
    "s = \"datascience\"\n",
    "len(s)"
   ]
  },
  {
   "cell_type": "code",
   "execution_count": 101,
   "id": "794db109",
   "metadata": {},
   "outputs": [
    {
     "data": {
      "text/plain": [
       "str"
      ]
     },
     "execution_count": 101,
     "metadata": {},
     "output_type": "execute_result"
    }
   ],
   "source": [
    "type(s)"
   ]
  },
  {
   "cell_type": "code",
   "execution_count": null,
   "id": "63f77560",
   "metadata": {},
   "outputs": [],
   "source": [
    "s[start:end:step]"
   ]
  },
  {
   "cell_type": "code",
   "execution_count": 102,
   "id": "b1768137",
   "metadata": {},
   "outputs": [
    {
     "data": {
      "text/plain": [
       "'datas'"
      ]
     },
     "execution_count": 102,
     "metadata": {},
     "output_type": "execute_result"
    }
   ],
   "source": [
    "s[0:5]"
   ]
  },
  {
   "cell_type": "code",
   "execution_count": 110,
   "id": "cc086209",
   "metadata": {},
   "outputs": [
    {
     "data": {
      "text/plain": [
       "'datas'"
      ]
     },
     "execution_count": 110,
     "metadata": {},
     "output_type": "execute_result"
    }
   ],
   "source": [
    "s[0:5:1]"
   ]
  },
  {
   "cell_type": "code",
   "execution_count": 105,
   "id": "d545aed3",
   "metadata": {},
   "outputs": [
    {
     "data": {
      "text/plain": [
       "'datascience'"
      ]
     },
     "execution_count": 105,
     "metadata": {},
     "output_type": "execute_result"
    }
   ],
   "source": [
    "s"
   ]
  },
  {
   "cell_type": "code",
   "execution_count": 103,
   "id": "099d745f",
   "metadata": {},
   "outputs": [
    {
     "data": {
      "text/plain": [
       "'asci'"
      ]
     },
     "execution_count": 103,
     "metadata": {},
     "output_type": "execute_result"
    }
   ],
   "source": [
    "s[-8:-4]"
   ]
  },
  {
   "cell_type": "code",
   "execution_count": 116,
   "id": "715d3dbd",
   "metadata": {},
   "outputs": [
    {
     "data": {
      "text/plain": [
       "''"
      ]
     },
     "execution_count": 116,
     "metadata": {},
     "output_type": "execute_result"
    }
   ],
   "source": [
    "s[-1:-8]"
   ]
  },
  {
   "cell_type": "code",
   "execution_count": 118,
   "id": "4f5fce59",
   "metadata": {},
   "outputs": [
    {
     "data": {
      "text/plain": [
       "'ecneicsatad'"
      ]
     },
     "execution_count": 118,
     "metadata": {},
     "output_type": "execute_result"
    }
   ],
   "source": [
    "s[::-1]"
   ]
  },
  {
   "cell_type": "code",
   "execution_count": 121,
   "id": "828b63a2",
   "metadata": {},
   "outputs": [
    {
     "data": {
      "text/plain": [
       "'python1544'"
      ]
     },
     "execution_count": 121,
     "metadata": {},
     "output_type": "execute_result"
    }
   ],
   "source": [
    "s = \"python\"\n",
    "s1 = '1544'\n",
    "s + s1"
   ]
  },
  {
   "cell_type": "code",
   "execution_count": 123,
   "id": "000bcd0c",
   "metadata": {},
   "outputs": [
    {
     "data": {
      "text/plain": [
       "'   python     '"
      ]
     },
     "execution_count": 123,
     "metadata": {},
     "output_type": "execute_result"
    }
   ],
   "source": [
    "s = \"   python     \"\n",
    "s"
   ]
  },
  {
   "cell_type": "code",
   "execution_count": 124,
   "id": "974ed514",
   "metadata": {},
   "outputs": [
    {
     "data": {
      "text/plain": [
       "'python     '"
      ]
     },
     "execution_count": 124,
     "metadata": {},
     "output_type": "execute_result"
    }
   ],
   "source": [
    "s.lstrip()"
   ]
  },
  {
   "cell_type": "code",
   "execution_count": 125,
   "id": "b4eeb1d6",
   "metadata": {},
   "outputs": [
    {
     "data": {
      "text/plain": [
       "'   python'"
      ]
     },
     "execution_count": 125,
     "metadata": {},
     "output_type": "execute_result"
    }
   ],
   "source": [
    "s.rstrip()"
   ]
  },
  {
   "cell_type": "code",
   "execution_count": 126,
   "id": "f415f8ec",
   "metadata": {},
   "outputs": [
    {
     "data": {
      "text/plain": [
       "'python'"
      ]
     },
     "execution_count": 126,
     "metadata": {},
     "output_type": "execute_result"
    }
   ],
   "source": [
    "s.strip()"
   ]
  },
  {
   "cell_type": "code",
   "execution_count": 127,
   "id": "25b0faa4",
   "metadata": {},
   "outputs": [
    {
     "data": {
      "text/plain": [
       "'   python     '"
      ]
     },
     "execution_count": 127,
     "metadata": {},
     "output_type": "execute_result"
    }
   ],
   "source": [
    "s"
   ]
  },
  {
   "cell_type": "code",
   "execution_count": 130,
   "id": "1a67dfe8",
   "metadata": {},
   "outputs": [],
   "source": [
    "s = \"learninaarrgarar pyartharon\""
   ]
  },
  {
   "cell_type": "code",
   "execution_count": 132,
   "id": "1fc59f0d",
   "metadata": {},
   "outputs": [
    {
     "data": {
      "text/plain": [
       "-1"
      ]
     },
     "execution_count": 132,
     "metadata": {},
     "output_type": "execute_result"
    }
   ],
   "source": [
    "s.find(\"python\")"
   ]
  },
  {
   "cell_type": "code",
   "execution_count": 135,
   "id": "176837d2",
   "metadata": {},
   "outputs": [],
   "source": [
    "s = \"pythonpythonpythonpythonpythonpython\""
   ]
  },
  {
   "cell_type": "code",
   "execution_count": 136,
   "id": "6ee82da5",
   "metadata": {},
   "outputs": [
    {
     "data": {
      "text/plain": [
       "['py', 'onpy', 'onpy', 'onpy', 'onpy', 'onpy', 'on']"
      ]
     },
     "execution_count": 136,
     "metadata": {},
     "output_type": "execute_result"
    }
   ],
   "source": [
    "s.split(\"th\")"
   ]
  },
  {
   "cell_type": "code",
   "execution_count": 137,
   "id": "f24970ca",
   "metadata": {},
   "outputs": [],
   "source": [
    "s = \"samir laxman singh\""
   ]
  },
  {
   "cell_type": "code",
   "execution_count": 138,
   "id": "0e424d58",
   "metadata": {},
   "outputs": [
    {
     "data": {
      "text/plain": [
       "['samir', 'laxman', 'singh']"
      ]
     },
     "execution_count": 138,
     "metadata": {},
     "output_type": "execute_result"
    }
   ],
   "source": [
    "s.split(\" \")"
   ]
  },
  {
   "cell_type": "code",
   "execution_count": 139,
   "id": "fe98dfd0",
   "metadata": {},
   "outputs": [],
   "source": [
    "skills = \"python css html sql java c\""
   ]
  },
  {
   "cell_type": "code",
   "execution_count": 140,
   "id": "beeb4230",
   "metadata": {
    "scrolled": true
   },
   "outputs": [
    {
     "data": {
      "text/plain": [
       "['python', 'css', 'html', 'sql', 'java', 'c']"
      ]
     },
     "execution_count": 140,
     "metadata": {},
     "output_type": "execute_result"
    }
   ],
   "source": [
    "skills.split(\" \")"
   ]
  },
  {
   "cell_type": "code",
   "execution_count": 141,
   "id": "b1436623",
   "metadata": {},
   "outputs": [],
   "source": [
    "s = \"PythOn Is Easy\""
   ]
  },
  {
   "cell_type": "code",
   "execution_count": 142,
   "id": "8f090ca0",
   "metadata": {},
   "outputs": [
    {
     "data": {
      "text/plain": [
       "'python is easy'"
      ]
     },
     "execution_count": 142,
     "metadata": {},
     "output_type": "execute_result"
    }
   ],
   "source": [
    "s.lower()"
   ]
  },
  {
   "cell_type": "code",
   "execution_count": 143,
   "id": "8b60fafe",
   "metadata": {},
   "outputs": [
    {
     "data": {
      "text/plain": [
       "'PYTHON IS EASY'"
      ]
     },
     "execution_count": 143,
     "metadata": {},
     "output_type": "execute_result"
    }
   ],
   "source": [
    "s.upper()"
   ]
  },
  {
   "cell_type": "code",
   "execution_count": 144,
   "id": "d3704739",
   "metadata": {},
   "outputs": [
    {
     "data": {
      "text/plain": [
       "'Python Is Easy'"
      ]
     },
     "execution_count": 144,
     "metadata": {},
     "output_type": "execute_result"
    }
   ],
   "source": [
    "s.title()"
   ]
  },
  {
   "cell_type": "code",
   "execution_count": 145,
   "id": "1299c5cd",
   "metadata": {},
   "outputs": [
    {
     "data": {
      "text/plain": [
       "'Python is easy'"
      ]
     },
     "execution_count": 145,
     "metadata": {},
     "output_type": "execute_result"
    }
   ],
   "source": [
    "s.capitalize()"
   ]
  },
  {
   "cell_type": "code",
   "execution_count": 146,
   "id": "f91e1658",
   "metadata": {},
   "outputs": [
    {
     "data": {
      "text/plain": [
       "'PythOn Is Easy'"
      ]
     },
     "execution_count": 146,
     "metadata": {},
     "output_type": "execute_result"
    }
   ],
   "source": [
    "s"
   ]
  },
  {
   "cell_type": "code",
   "execution_count": 147,
   "id": "5c8fb016",
   "metadata": {},
   "outputs": [
    {
     "data": {
      "text/plain": [
       "'pYTHoN iS eASY'"
      ]
     },
     "execution_count": 147,
     "metadata": {},
     "output_type": "execute_result"
    }
   ],
   "source": [
    "s.swapcase()"
   ]
  },
  {
   "cell_type": "code",
   "execution_count": 148,
   "id": "d146fc23",
   "metadata": {},
   "outputs": [
    {
     "data": {
      "text/plain": [
       "'samir'"
      ]
     },
     "execution_count": 148,
     "metadata": {},
     "output_type": "execute_result"
    }
   ],
   "source": [
    "s = \"samir\"\n",
    "s"
   ]
  },
  {
   "cell_type": "code",
   "execution_count": 149,
   "id": "6af24829",
   "metadata": {},
   "outputs": [
    {
     "data": {
      "text/plain": [
       "'*******samir********'"
      ]
     },
     "execution_count": 149,
     "metadata": {},
     "output_type": "execute_result"
    }
   ],
   "source": [
    "s.center(20, \"*\")"
   ]
  },
  {
   "cell_type": "code",
   "execution_count": 165,
   "id": "e91b4b9c",
   "metadata": {},
   "outputs": [],
   "source": [
    "s = \"samir\""
   ]
  },
  {
   "cell_type": "code",
   "execution_count": 166,
   "id": "fa8b42bb",
   "metadata": {},
   "outputs": [
    {
     "data": {
      "text/plain": [
       "False"
      ]
     },
     "execution_count": 166,
     "metadata": {},
     "output_type": "execute_result"
    }
   ],
   "source": [
    "s.istitle()"
   ]
  },
  {
   "cell_type": "code",
   "execution_count": 159,
   "id": "a0dd77e7",
   "metadata": {},
   "outputs": [
    {
     "data": {
      "text/plain": [
       "True"
      ]
     },
     "execution_count": 159,
     "metadata": {},
     "output_type": "execute_result"
    }
   ],
   "source": [
    "s.isalnum()"
   ]
  },
  {
   "cell_type": "code",
   "execution_count": 162,
   "id": "1729bb68",
   "metadata": {},
   "outputs": [
    {
     "data": {
      "text/plain": [
       "True"
      ]
     },
     "execution_count": 162,
     "metadata": {},
     "output_type": "execute_result"
    }
   ],
   "source": [
    "s.isspace()\n"
   ]
  },
  {
   "cell_type": "code",
   "execution_count": null,
   "id": "bc41178a",
   "metadata": {},
   "outputs": [],
   "source": [
    "s.is"
   ]
  },
  {
   "cell_type": "code",
   "execution_count": null,
   "id": "a190b14c",
   "metadata": {},
   "outputs": [],
   "source": []
  },
  {
   "cell_type": "code",
   "execution_count": 151,
   "id": "a0ab7228",
   "metadata": {},
   "outputs": [
    {
     "data": {
      "text/plain": [
       "True"
      ]
     },
     "execution_count": 151,
     "metadata": {},
     "output_type": "execute_result"
    }
   ],
   "source": [
    "s.islower()"
   ]
  },
  {
   "cell_type": "code",
   "execution_count": 152,
   "id": "3613bafc",
   "metadata": {},
   "outputs": [
    {
     "data": {
      "text/plain": [
       "False"
      ]
     },
     "execution_count": 152,
     "metadata": {},
     "output_type": "execute_result"
    }
   ],
   "source": [
    "s.isupper()"
   ]
  },
  {
   "cell_type": "code",
   "execution_count": 153,
   "id": "76b6e4af",
   "metadata": {},
   "outputs": [
    {
     "data": {
      "text/plain": [
       "False"
      ]
     },
     "execution_count": 153,
     "metadata": {},
     "output_type": "execute_result"
    }
   ],
   "source": [
    "s.isnumeric()"
   ]
  },
  {
   "cell_type": "code",
   "execution_count": 1,
   "id": "21b6bd58",
   "metadata": {},
   "outputs": [],
   "source": [
    "import matplotlib.pyplot as plt\n",
    "import pandas as pd\n"
   ]
  },
  {
   "cell_type": "code",
   "execution_count": 2,
   "id": "adc0d9f3",
   "metadata": {},
   "outputs": [],
   "source": [
    "df = pd.read_csv(\"D:\\IGT\\data\\carpriceprediction\\car data.csv\")"
   ]
  },
  {
   "cell_type": "code",
   "execution_count": 3,
   "id": "94e81034",
   "metadata": {},
   "outputs": [
    {
     "data": {
      "text/html": [
       "<div>\n",
       "<style scoped>\n",
       "    .dataframe tbody tr th:only-of-type {\n",
       "        vertical-align: middle;\n",
       "    }\n",
       "\n",
       "    .dataframe tbody tr th {\n",
       "        vertical-align: top;\n",
       "    }\n",
       "\n",
       "    .dataframe thead th {\n",
       "        text-align: right;\n",
       "    }\n",
       "</style>\n",
       "<table border=\"1\" class=\"dataframe\">\n",
       "  <thead>\n",
       "    <tr style=\"text-align: right;\">\n",
       "      <th></th>\n",
       "      <th>Car_Name</th>\n",
       "      <th>Year</th>\n",
       "      <th>Selling_Price</th>\n",
       "      <th>Present_Price</th>\n",
       "      <th>Kms_Driven</th>\n",
       "      <th>Fuel_Type</th>\n",
       "      <th>Seller_Type</th>\n",
       "      <th>Transmission</th>\n",
       "      <th>Owner</th>\n",
       "    </tr>\n",
       "  </thead>\n",
       "  <tbody>\n",
       "    <tr>\n",
       "      <th>0</th>\n",
       "      <td>ritz</td>\n",
       "      <td>2014</td>\n",
       "      <td>3.35</td>\n",
       "      <td>5.59</td>\n",
       "      <td>27000</td>\n",
       "      <td>Petrol</td>\n",
       "      <td>Dealer</td>\n",
       "      <td>Manual</td>\n",
       "      <td>0</td>\n",
       "    </tr>\n",
       "    <tr>\n",
       "      <th>1</th>\n",
       "      <td>sx4</td>\n",
       "      <td>2013</td>\n",
       "      <td>4.75</td>\n",
       "      <td>9.54</td>\n",
       "      <td>43000</td>\n",
       "      <td>Diesel</td>\n",
       "      <td>Dealer</td>\n",
       "      <td>Manual</td>\n",
       "      <td>0</td>\n",
       "    </tr>\n",
       "    <tr>\n",
       "      <th>2</th>\n",
       "      <td>ciaz</td>\n",
       "      <td>2017</td>\n",
       "      <td>7.25</td>\n",
       "      <td>9.85</td>\n",
       "      <td>6900</td>\n",
       "      <td>Petrol</td>\n",
       "      <td>Dealer</td>\n",
       "      <td>Manual</td>\n",
       "      <td>0</td>\n",
       "    </tr>\n",
       "    <tr>\n",
       "      <th>3</th>\n",
       "      <td>wagon r</td>\n",
       "      <td>2011</td>\n",
       "      <td>2.85</td>\n",
       "      <td>4.15</td>\n",
       "      <td>5200</td>\n",
       "      <td>Petrol</td>\n",
       "      <td>Dealer</td>\n",
       "      <td>Manual</td>\n",
       "      <td>0</td>\n",
       "    </tr>\n",
       "    <tr>\n",
       "      <th>4</th>\n",
       "      <td>swift</td>\n",
       "      <td>2014</td>\n",
       "      <td>4.60</td>\n",
       "      <td>6.87</td>\n",
       "      <td>42450</td>\n",
       "      <td>Diesel</td>\n",
       "      <td>Dealer</td>\n",
       "      <td>Manual</td>\n",
       "      <td>0</td>\n",
       "    </tr>\n",
       "  </tbody>\n",
       "</table>\n",
       "</div>"
      ],
      "text/plain": [
       "  Car_Name  Year  Selling_Price  Present_Price  Kms_Driven Fuel_Type  \\\n",
       "0     ritz  2014           3.35           5.59       27000    Petrol   \n",
       "1      sx4  2013           4.75           9.54       43000    Diesel   \n",
       "2     ciaz  2017           7.25           9.85        6900    Petrol   \n",
       "3  wagon r  2011           2.85           4.15        5200    Petrol   \n",
       "4    swift  2014           4.60           6.87       42450    Diesel   \n",
       "\n",
       "  Seller_Type Transmission  Owner  \n",
       "0      Dealer       Manual      0  \n",
       "1      Dealer       Manual      0  \n",
       "2      Dealer       Manual      0  \n",
       "3      Dealer       Manual      0  \n",
       "4      Dealer       Manual      0  "
      ]
     },
     "execution_count": 3,
     "metadata": {},
     "output_type": "execute_result"
    }
   ],
   "source": [
    "df.head()"
   ]
  },
  {
   "cell_type": "code",
   "execution_count": 7,
   "id": "a1ef3aeb",
   "metadata": {},
   "outputs": [
    {
     "data": {
      "text/plain": [
       "<BarContainer object of 301 artists>"
      ]
     },
     "execution_count": 7,
     "metadata": {},
     "output_type": "execute_result"
    },
    {
     "data": {
      "image/png": "[encoded data removed]",
      "text/plain": [
       "<Figure size 432x288 with 1 Axes>"
      ]
     },
     "metadata": {
      "needs_background": "light"
     },
     "output_type": "display_data"
    }
   ],
   "source": [
    "plt.bar(df['Year'],df['Kms_Driven'])"
   ]
  },
  {
   "cell_type": "code",
   "execution_count": null,
   "id": "7422d90c",
   "metadata": {},
   "outputs": [],
   "source": []
  }
 ],
 "metadata": {
  "kernelspec": {
   "display_name": "Python 3 (ipykernel)",
   "language": "python",
   "name": "python3"
  },
  "language_info": {
   "codemirror_mode": {
    "name": "ipython",
    "version": 3
   },
   "file_extension": ".py",
   "mimetype": "text/x-python",
   "name": "python",
   "nbconvert_exporter": "python",
   "pygments_lexer": "ipython3",
   "version": "3.9.7"
  }
 },
 "nbformat": 4,
 "nbformat_minor": 5
}
