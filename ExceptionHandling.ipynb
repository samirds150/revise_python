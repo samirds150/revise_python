{
 "cells": [
  {
   "cell_type": "code",
   "execution_count": 19,
   "id": "5bf2b55a",
   "metadata": {
    "scrolled": true
   },
   "outputs": [],
   "source": [
    "a = 10\n",
    "b = 0\n"
   ]
  },
  {
   "cell_type": "code",
   "execution_count": 20,
   "id": "19224b77",
   "metadata": {},
   "outputs": [
    {
     "data": {
      "text/plain": [
       "True"
      ]
     },
     "execution_count": 20,
     "metadata": {},
     "output_type": "execute_result"
    }
   ],
   "source": [
    "a>b"
   ]
  },
  {
   "cell_type": "code",
   "execution_count": null,
   "id": "b671f5db",
   "metadata": {},
   "outputs": [],
   "source": [
    "try, except,finally"
   ]
  },
  {
   "cell_type": "code",
   "execution_count": 11,
   "id": "368de535",
   "metadata": {},
   "outputs": [
    {
     "name": "stdout",
     "output_type": "stream",
     "text": [
      "division by zero\n"
     ]
    }
   ],
   "source": [
    "a = 10\n",
    "b = 0\n",
    "try:\n",
    "    print(a/b)\n",
    "except Exception as e:\n",
    "    print(e)"
   ]
  },
  {
   "cell_type": "code",
   "execution_count": 9,
   "id": "68deba22",
   "metadata": {},
   "outputs": [],
   "source": [
    "f = open('abc.txt', 'w')\n",
    "f.write(\"dsgjhgs\")\n",
    "f.close()"
   ]
  },
  {
   "cell_type": "code",
   "execution_count": 4,
   "id": "c925e23c",
   "metadata": {},
   "outputs": [
    {
     "name": "stdout",
     "output_type": "stream",
     "text": [
      "File is updated\n",
      "this task is complete\n"
     ]
    }
   ],
   "source": [
    "try:\n",
    "    f = open('abc.txt', 'w')\n",
    "    f.write('sghjgj')\n",
    "    print(\"File is updated\")\n",
    "except Exception as e:\n",
    "    print(e)\n",
    "finally:\n",
    "    print(\"this task is complete\")"
   ]
  },
  {
   "cell_type": "code",
   "execution_count": 12,
   "id": "886dd88c",
   "metadata": {},
   "outputs": [
    {
     "name": "stdout",
     "output_type": "stream",
     "text": [
      "this is wrong\n"
     ]
    }
   ],
   "source": [
    "a = 10\n",
    "b = 0\n",
    "try:\n",
    "    print(a/b)\n",
    "    try:\n",
    "#         f = open('abc.txt', 'w')\n",
    "        f.write(\"sghjgj\")\n",
    "        print(\"File is updated\")\n",
    "    except:\n",
    "        print(\"This is also wrong\")\n",
    "        \n",
    "except:\n",
    "    print(\"this is wrong\")"
   ]
  },
  {
   "cell_type": "code",
   "execution_count": 17,
   "id": "3c9379ac",
   "metadata": {},
   "outputs": [
    {
     "name": "stdout",
     "output_type": "stream",
     "text": [
      "Enter your age : gfgf\n",
      "Please enter valid age(in numbers)\n",
      "Enter your age : hgghghgh\n",
      "2 attempts failed\n",
      "the code is complete\n"
     ]
    }
   ],
   "source": [
    "try:\n",
    "    num = int(input(\"Enter your age : \"))\n",
    "    print(\"the age is : \", num)\n",
    "except:\n",
    "    print(\"Please enter valid age(in numbers)\")\n",
    "    try:\n",
    "        num = int(input(\"Enter your age : \"))\n",
    "        print(\"the age is : \", num)\n",
    "    except:\n",
    "        print(\"2 attempts failed\")\n",
    "        \n",
    "finally:\n",
    "    print(\"the code is complete\")"
   ]
  },
  {
   "cell_type": "code",
   "execution_count": 18,
   "id": "e5c2a322",
   "metadata": {},
   "outputs": [
    {
     "name": "stdout",
     "output_type": "stream",
     "text": [
      "Enter your age : fff\n",
      "Please enter valid age(in numbers)\n",
      "the code is complete\n"
     ]
    }
   ],
   "source": [
    "try:\n",
    "    num = int(input(\"Enter your age : \"))\n",
    "    print(\"the age is : \", num)\n",
    "except:\n",
    "    print(\"Please enter valid age(in numbers)\")\n",
    "finally:\n",
    "    print(\"the code is complete\")"
   ]
  },
  {
   "cell_type": "code",
   "execution_count": null,
   "id": "c4851ecb",
   "metadata": {},
   "outputs": [],
   "source": [
    "for i in range()"
   ]
  },
  {
   "cell_type": "code",
   "execution_count": null,
   "id": "6f1af408",
   "metadata": {},
   "outputs": [],
   "source": [
    "pass or break\n",
    "this loop should continue till the time customer enters correct age"
   ]
  },
  {
   "cell_type": "code",
   "execution_count": 1,
   "id": "c3b7917d",
   "metadata": {},
   "outputs": [
    {
     "name": "stdout",
     "output_type": "stream",
     "text": [
      "Enter your age : dd\n",
      "Please enter valid age(in numbers)\n",
      "Enter your age : dddd\n",
      "Please enter valid age(in numbers)\n",
      "Enter your age : sd\n",
      "Please enter valid age(in numbers)\n",
      "Enter your age : fd\n",
      "Please enter valid age(in numbers)\n",
      "Enter your age : dfd\n",
      "Please enter valid age(in numbers)\n",
      "Enter your age : fd\n",
      "Please enter valid age(in numbers)\n",
      "Enter your age : fds\n",
      "Please enter valid age(in numbers)\n",
      "Enter your age : d\n",
      "Please enter valid age(in numbers)\n",
      "Enter your age : dfs\n",
      "Please enter valid age(in numbers)\n",
      "Enter your age : f\n",
      "Please enter valid age(in numbers)\n",
      "Enter your age : 45\n",
      "the age is :  45\n"
     ]
    }
   ],
   "source": [
    "while True:\n",
    "    try:\n",
    "        num = int(input(\"Enter your age : \"))\n",
    "        print(\"the age is : \", num)\n",
    "        break\n",
    "        \n",
    "    except:\n",
    "        print(\"Please enter valid age(in numbers)\")\n",
    "        continue\n",
    "#     finally:\n",
    "#         print(\"the code is complete\")\n",
    "    "
   ]
  },
  {
   "cell_type": "code",
   "execution_count": 9,
   "id": "64b800f1",
   "metadata": {},
   "outputs": [],
   "source": [
    "first = input(\"Enter your first name : \")\n",
    "last = input(\"Enter your last name\")\n",
    "def full_name(a,b):\n",
    "    \n",
    "    try:\n",
    "        fullname = first + \" \" + last\n",
    "        print(\"The full name is : \", fullname)\n",
    "    except Exception as e:\n",
    "        print(e)\n",
    "        "
   ]
  },
  {
   "cell_type": "code",
   "execution_count": 11,
   "id": "4f8fddaf",
   "metadata": {},
   "outputs": [
    {
     "name": "stdout",
     "output_type": "stream",
     "text": [
      "Enter your first name : first\n",
      "Enter your last name12222\n",
      "The full name is :  first 12222\n"
     ]
    }
   ],
   "source": [
    "full_name(first,last)"
   ]
  },
  {
   "cell_type": "code",
   "execution_count": null,
   "id": "cc94e16f",
   "metadata": {},
   "outputs": [],
   "source": [
    "try:\n",
    "    "
   ]
  }
 ],
 "metadata": {
  "kernelspec": {
   "display_name": "Python 3 (ipykernel)",
   "language": "python",
   "name": "python3"
  },
  "language_info": {
   "codemirror_mode": {
    "name": "ipython",
    "version": 3
   },
   "file_extension": ".py",
   "mimetype": "text/x-python",
   "name": "python",
   "nbconvert_exporter": "python",
   "pygments_lexer": "ipython3",
   "version": "3.10.8"
  }
 },
 "nbformat": 4,
 "nbformat_minor": 5
}
