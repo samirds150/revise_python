{
 "cells": [
  {
   "cell_type": "code",
   "execution_count": 1,
   "id": "d9aaeaf1",
   "metadata": {},
   "outputs": [],
   "source": [
    "l = [1,2,5,4,5,6]"
   ]
  },
  {
   "cell_type": "code",
   "execution_count": 2,
   "id": "3eb03987",
   "metadata": {},
   "outputs": [
    {
     "data": {
      "text/plain": [
       "[1, 2, 3, 4, 5, 6]"
      ]
     },
     "execution_count": 2,
     "metadata": {},
     "output_type": "execute_result"
    }
   ],
   "source": [
    "l"
   ]
  },
  {
   "cell_type": "code",
   "execution_count": 4,
   "id": "248116e6",
   "metadata": {},
   "outputs": [],
   "source": [
    "l1 = l*2"
   ]
  },
  {
   "cell_type": "code",
   "execution_count": 5,
   "id": "a5a22c00",
   "metadata": {},
   "outputs": [
    {
     "data": {
      "text/plain": [
       "[1, 2, 3, 4, 5, 6, 1, 2, 3, 4, 5, 6]"
      ]
     },
     "execution_count": 5,
     "metadata": {},
     "output_type": "execute_result"
    }
   ],
   "source": [
    "l1"
   ]
  },
  {
   "cell_type": "code",
   "execution_count": null,
   "id": "66eff115",
   "metadata": {},
   "outputs": [],
   "source": [
    "read 'rb' - \n",
    "write 'w' - \n",
    "append 'a' - \n",
    "create 'x' -"
   ]
  },
  {
   "cell_type": "raw",
   "id": "8c5b1876",
   "metadata": {},
   "source": [
    "('abc.txt','r')- if available it will open or else I will get error \n",
    "('abc.txt', 'w') - if available it will open or else it will create a new file of this name\n",
    "('abc.txt', 'a') - if available it will open or else it will create a new file of this name\n",
    "('abc.txt', 'x') - if available then I will get an error or it will create a new file"
   ]
  },
  {
   "cell_type": "code",
   "execution_count": 6,
   "id": "f3dead26",
   "metadata": {},
   "outputs": [
    {
     "ename": "FileNotFoundError",
     "evalue": "[Errno 2] No such file or directory: 'abc.txt'",
     "output_type": "error",
     "traceback": [
      "\u001b[1;31m---------------------------------------------------------------------------\u001b[0m",
      "\u001b[1;31mFileNotFoundError\u001b[0m                         Traceback (most recent call last)",
      "Input \u001b[1;32mIn [6]\u001b[0m, in \u001b[0;36m<cell line: 1>\u001b[1;34m()\u001b[0m\n\u001b[1;32m----> 1\u001b[0m f \u001b[38;5;241m=\u001b[39m \u001b[38;5;28;43mopen\u001b[39;49m\u001b[43m(\u001b[49m\u001b[38;5;124;43m'\u001b[39;49m\u001b[38;5;124;43mabc.txt\u001b[39;49m\u001b[38;5;124;43m'\u001b[39;49m\u001b[43m,\u001b[49m\u001b[43m \u001b[49m\u001b[38;5;124;43m'\u001b[39;49m\u001b[38;5;124;43mr\u001b[39;49m\u001b[38;5;124;43m'\u001b[39;49m\u001b[43m)\u001b[49m\n",
      "\u001b[1;31mFileNotFoundError\u001b[0m: [Errno 2] No such file or directory: 'abc.txt'"
     ]
    }
   ],
   "source": [
    "# created this code to read a file\n",
    "f = open('abc.txt', 'r')"
   ]
  },
  {
   "cell_type": "code",
   "execution_count": null,
   "id": "8b0e1eba",
   "metadata": {},
   "outputs": [],
   "source": [
    "try:\n",
    "    f = open('abc.txt', 'r')\n",
    "    print(\"correct\")\n",
    "except Exception as e:\n",
    "    print(e)"
   ]
  },
  {
   "cell_type": "code",
   "execution_count": 2,
   "id": "0401645d",
   "metadata": {},
   "outputs": [
    {
     "name": "stdout",
     "output_type": "stream",
     "text": [
      "[Errno 2] No such file or directory: 'qwer.txt'\n"
     ]
    }
   ],
   "source": [
    "def open_file(filename, mode):\n",
    "    \"\"\n",
    "    try:\n",
    "        f = open(filename, mode)\n",
    "        print(\"correct\")\n",
    "    except Exception as e:\n",
    "        print(e)\n",
    "open_file('qwer.txt','r' )\n",
    "    "
   ]
  },
  {
   "cell_type": "code",
   "execution_count": 11,
   "id": "0ce22245",
   "metadata": {},
   "outputs": [
    {
     "ename": "UnsupportedOperation",
     "evalue": "not writable",
     "output_type": "error",
     "traceback": [
      "\u001b[1;31m---------------------------------------------------------------------------\u001b[0m",
      "\u001b[1;31mUnsupportedOperation\u001b[0m                      Traceback (most recent call last)",
      "Input \u001b[1;32mIn [11]\u001b[0m, in \u001b[0;36m<cell line: 2>\u001b[1;34m()\u001b[0m\n\u001b[0;32m      1\u001b[0m f \u001b[38;5;241m=\u001b[39m \u001b[38;5;28mopen\u001b[39m(\u001b[38;5;124m'\u001b[39m\u001b[38;5;124mabc.txt\u001b[39m\u001b[38;5;124m'\u001b[39m, \u001b[38;5;124m'\u001b[39m\u001b[38;5;124mr\u001b[39m\u001b[38;5;124m'\u001b[39m)\n\u001b[1;32m----> 2\u001b[0m \u001b[43mf\u001b[49m\u001b[38;5;241;43m.\u001b[39;49m\u001b[43mwrite\u001b[49m\u001b[43m(\u001b[49m\u001b[38;5;124;43m'\u001b[39;49m\u001b[38;5;124;43mthis is my file handling class\u001b[39;49m\u001b[38;5;124;43m'\u001b[39;49m\u001b[43m)\u001b[49m\n",
      "\u001b[1;31mUnsupportedOperation\u001b[0m: not writable"
     ]
    }
   ],
   "source": [
    "f = open('abc.txt', 'r')\n",
    "f.write('this is my file handling class')"
   ]
  },
  {
   "cell_type": "code",
   "execution_count": null,
   "id": "808308ec",
   "metadata": {},
   "outputs": [],
   "source": []
  },
  {
   "cell_type": "code",
   "execution_count": 16,
   "id": "07f9301e",
   "metadata": {},
   "outputs": [
    {
     "data": {
      "text/plain": [
       "30"
      ]
     },
     "execution_count": 16,
     "metadata": {},
     "output_type": "execute_result"
    }
   ],
   "source": [
    "f1 = open('abc1.txt', 'w')\n",
    "f1.write(\"this is my file handling class\")\n",
    "f1.write(\"this is my file handling class\")"
   ]
  },
  {
   "cell_type": "code",
   "execution_count": 18,
   "id": "4cea6e2d",
   "metadata": {},
   "outputs": [
    {
     "ename": "ValueError",
     "evalue": "I/O operation on closed file.",
     "output_type": "error",
     "traceback": [
      "\u001b[1;31m---------------------------------------------------------------------------\u001b[0m",
      "\u001b[1;31mValueError\u001b[0m                                Traceback (most recent call last)",
      "Input \u001b[1;32mIn [18]\u001b[0m, in \u001b[0;36m<cell line: 2>\u001b[1;34m()\u001b[0m\n\u001b[0;32m      1\u001b[0m f1\u001b[38;5;241m.\u001b[39mclose()\n\u001b[1;32m----> 2\u001b[0m \u001b[43mf1\u001b[49m\u001b[38;5;241;43m.\u001b[39;49m\u001b[43mwrite\u001b[49m\u001b[43m(\u001b[49m\u001b[38;5;124;43m\"\u001b[39;49m\u001b[38;5;124;43mthis is my file handling class\u001b[39;49m\u001b[38;5;124;43m\"\u001b[39;49m\u001b[43m)\u001b[49m\n",
      "\u001b[1;31mValueError\u001b[0m: I/O operation on closed file."
     ]
    }
   ],
   "source": [
    "f1.close()\n",
    "f1 = open('abc1.txt', 'w')\n",
    "f1.write(\"this is my file handling class\")"
   ]
  },
  {
   "cell_type": "code",
   "execution_count": null,
   "id": "1456715e",
   "metadata": {},
   "outputs": [],
   "source": []
  },
  {
   "cell_type": "code",
   "execution_count": 10,
   "id": "42fea8c2",
   "metadata": {},
   "outputs": [],
   "source": []
  },
  {
   "cell_type": "code",
   "execution_count": 19,
   "id": "42b7ee84",
   "metadata": {},
   "outputs": [
    {
     "data": {
      "text/plain": [
       "30"
      ]
     },
     "execution_count": 19,
     "metadata": {},
     "output_type": "execute_result"
    }
   ],
   "source": [
    "f1 = open('abc1.txt', 'w')\n",
    "f1.write(\"this is my file handling class\")\n"
   ]
  },
  {
   "cell_type": "code",
   "execution_count": 20,
   "id": "8bcc3a97",
   "metadata": {},
   "outputs": [],
   "source": [
    "f1.close()"
   ]
  },
  {
   "cell_type": "code",
   "execution_count": 21,
   "id": "a468bf49",
   "metadata": {},
   "outputs": [],
   "source": [
    "f1 = open('abc1.txt', 'w')\n",
    "f1.write(\"this is my python class\")\n",
    "f1.close()"
   ]
  },
  {
   "cell_type": "code",
   "execution_count": 24,
   "id": "6a1c7613",
   "metadata": {},
   "outputs": [],
   "source": [
    "f = open('xyz.txt', 'a')\n",
    "f.write(\"this is my python class\")\n",
    "f.close()"
   ]
  },
  {
   "cell_type": "code",
   "execution_count": 39,
   "id": "ffedfff7",
   "metadata": {},
   "outputs": [],
   "source": [
    "f = open('xyz.txt', 'a')\n",
    "f.write(\"this is my file handling class\\n\")\n",
    "f.close()"
   ]
  },
  {
   "cell_type": "code",
   "execution_count": null,
   "id": "561b5d37",
   "metadata": {},
   "outputs": [],
   "source": [
    "txt file, binary file"
   ]
  },
  {
   "cell_type": "code",
   "execution_count": 40,
   "id": "1fb20dcc",
   "metadata": {},
   "outputs": [],
   "source": [
    "f = open('abc.sam', 'x')"
   ]
  },
  {
   "cell_type": "code",
   "execution_count": 42,
   "id": "fa922180",
   "metadata": {},
   "outputs": [
    {
     "ename": "UnsupportedOperation",
     "evalue": "not writable",
     "output_type": "error",
     "traceback": [
      "\u001b[1;31m---------------------------------------------------------------------------\u001b[0m",
      "\u001b[1;31mUnsupportedOperation\u001b[0m                      Traceback (most recent call last)",
      "Input \u001b[1;32mIn [42]\u001b[0m, in \u001b[0;36m<cell line: 2>\u001b[1;34m()\u001b[0m\n\u001b[0;32m      1\u001b[0m f1 \u001b[38;5;241m=\u001b[39m \u001b[38;5;28mopen\u001b[39m(\u001b[38;5;124m'\u001b[39m\u001b[38;5;124mabc.txt\u001b[39m\u001b[38;5;124m'\u001b[39m)\n\u001b[1;32m----> 2\u001b[0m \u001b[43mf1\u001b[49m\u001b[38;5;241;43m.\u001b[39;49m\u001b[43mwrite\u001b[49m\u001b[43m(\u001b[49m\u001b[38;5;124;43m\"\u001b[39;49m\u001b[38;5;124;43mdlkhgjhsgsa\u001b[39;49m\u001b[38;5;124;43m\"\u001b[39;49m\u001b[43m)\u001b[49m\n",
      "\u001b[1;31mUnsupportedOperation\u001b[0m: not writable"
     ]
    }
   ],
   "source": [
    "f1 = open('abc.txt')\n",
    "f1.write(\"dlkhgjhsgsa\")"
   ]
  },
  {
   "cell_type": "code",
   "execution_count": 44,
   "id": "d6d35a90",
   "metadata": {},
   "outputs": [],
   "source": [
    "l = [1,2,5,4,5,6]\n",
    "l1 = [1, 2, 3, 4, 5, 6, 1, 2, 3, 4, 5, 6]"
   ]
  },
  {
   "cell_type": "code",
   "execution_count": 46,
   "id": "b3aa96ea",
   "metadata": {},
   "outputs": [],
   "source": [
    "f1 = open('demo.txt', 'a')\n",
    "f1.write(\"Input info : \")\n",
    "f1.write(str(l))\n",
    "f1.write(\"\\nOutput info : \")\n",
    "f1.write(str(l1))\n",
    "f1.write('\\nCompleted')\n",
    "f1.close()"
   ]
  },
  {
   "cell_type": "code",
   "execution_count": 54,
   "id": "83b19f19",
   "metadata": {},
   "outputs": [],
   "source": [
    "f.close()"
   ]
  },
  {
   "cell_type": "code",
   "execution_count": 55,
   "id": "8572eb84",
   "metadata": {},
   "outputs": [],
   "source": [
    "f = open('xyz.txt', 'r')"
   ]
  },
  {
   "cell_type": "code",
   "execution_count": 48,
   "id": "19ae07c1",
   "metadata": {},
   "outputs": [
    {
     "name": "stdout",
     "output_type": "stream",
     "text": [
      "<_io.TextIOWrapper name='xyz.txt' mode='r' encoding='cp1252'>\n"
     ]
    }
   ],
   "source": [
    "print(f)"
   ]
  },
  {
   "cell_type": "code",
   "execution_count": 57,
   "id": "975175d3",
   "metadata": {
    "scrolled": true
   },
   "outputs": [
    {
     "data": {
      "text/plain": [
       "'this is my python class\\nthis is my file handling class\\nthis is my file handling class\\nthis is my file handling class\\nthis is my file handling class\\nthis is my file handling class\\nthis is my file handling class\\nthis is my file handling class\\nthis is my file handling class\\nthis is my file handling class\\nthis is my file handling class\\nthis is my file handling class\\nthis is my file handling class\\n'"
      ]
     },
     "execution_count": 57,
     "metadata": {},
     "output_type": "execute_result"
    }
   ],
   "source": [
    "f.read()"
   ]
  },
  {
   "cell_type": "code",
   "execution_count": 73,
   "id": "2032c81f",
   "metadata": {},
   "outputs": [
    {
     "data": {
      "text/plain": [
       "0"
      ]
     },
     "execution_count": 73,
     "metadata": {},
     "output_type": "execute_result"
    }
   ],
   "source": [
    "f.seek(0)"
   ]
  },
  {
   "cell_type": "code",
   "execution_count": 67,
   "id": "dd3680f2",
   "metadata": {},
   "outputs": [
    {
     "data": {
      "text/plain": [
       "'on class\\nthis is my file handling class\\nthis is my file handling class\\nthis is my file handling class\\nthis is my file handling class\\nthis is my file handling class\\nthis is my file handling class\\nthis is my file handling class\\nthis is my file handling class\\nthis is my file handling class\\nthis is my file handling class\\nthis is my file handling class\\nthis is my file handling class\\n'"
      ]
     },
     "execution_count": 67,
     "metadata": {},
     "output_type": "execute_result"
    }
   ],
   "source": [
    "f.read()"
   ]
  },
  {
   "cell_type": "code",
   "execution_count": 69,
   "id": "eec82104",
   "metadata": {},
   "outputs": [
    {
     "data": {
      "text/plain": [
       "15"
      ]
     },
     "execution_count": 69,
     "metadata": {},
     "output_type": "execute_result"
    }
   ],
   "source": [
    "f.tell()"
   ]
  },
  {
   "cell_type": "code",
   "execution_count": 72,
   "id": "04aa22f1",
   "metadata": {},
   "outputs": [
    {
     "data": {
      "text/plain": [
       "['this is my python class\\n',\n",
       " 'this is my file handling class\\n',\n",
       " 'this is my file handling class\\n',\n",
       " 'this is my file handling class\\n',\n",
       " 'this is my file handling class\\n',\n",
       " 'this is my file handling class\\n',\n",
       " 'this is my file handling class\\n',\n",
       " 'this is my file handling class\\n',\n",
       " 'this is my file handling class\\n',\n",
       " 'this is my file handling class\\n',\n",
       " 'this is my file handling class\\n',\n",
       " 'this is my file handling class\\n',\n",
       " 'this is my file handling class\\n']"
      ]
     },
     "execution_count": 72,
     "metadata": {},
     "output_type": "execute_result"
    }
   ],
   "source": [
    "f.readlines()"
   ]
  },
  {
   "cell_type": "code",
   "execution_count": 81,
   "id": "abe25ef5",
   "metadata": {},
   "outputs": [
    {
     "data": {
      "text/plain": [
       "'this is my file handling class\\n'"
      ]
     },
     "execution_count": 81,
     "metadata": {},
     "output_type": "execute_result"
    }
   ],
   "source": [
    "f.readline()"
   ]
  },
  {
   "cell_type": "code",
   "execution_count": null,
   "id": "ae1cb2c3",
   "metadata": {},
   "outputs": [],
   "source": []
  }
 ],
 "metadata": {
  "kernelspec": {
   "display_name": "Python 3 (ipykernel)",
   "language": "python",
   "name": "python3"
  },
  "language_info": {
   "codemirror_mode": {
    "name": "ipython",
    "version": 3
   },
   "file_extension": ".py",
   "mimetype": "text/x-python",
   "name": "python",
   "nbconvert_exporter": "python",
   "pygments_lexer": "ipython3",
   "version": "3.10.8"
  }
 },
 "nbformat": 4,
 "nbformat_minor": 5
}
