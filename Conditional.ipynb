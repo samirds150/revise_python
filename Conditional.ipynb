{
 "cells": [
  {
   "cell_type": "code",
   "execution_count": null,
   "id": "62bf0422",
   "metadata": {},
   "outputs": [],
   "source": [
    "conditions transfer/loop statement"
   ]
  },
  {
   "cell_type": "code",
   "execution_count": 2,
   "id": "a5a60041",
   "metadata": {},
   "outputs": [
    {
     "data": {
      "text/plain": [
       "False"
      ]
     },
     "execution_count": 2,
     "metadata": {},
     "output_type": "execute_result"
    }
   ],
   "source": [
    "a = 10\n",
    "a<1"
   ]
  },
  {
   "cell_type": "code",
   "execution_count": null,
   "id": "152352fc",
   "metadata": {},
   "outputs": [],
   "source": [
    "if, if-else, if elif     else"
   ]
  },
  {
   "cell_type": "code",
   "execution_count": 6,
   "id": "a2481d24",
   "metadata": {},
   "outputs": [
    {
     "name": "stdout",
     "output_type": "stream",
     "text": [
      "A is zero number\n"
     ]
    }
   ],
   "source": [
    "a = 0\n",
    "if a > 0:\n",
    "    print(\"A is a positve number\")\n",
    "elif a == 0 :\n",
    "    print(\"A is zero number\")\n",
    "else:\n",
    "    print(\"A is not a positive number\")"
   ]
  },
  {
   "cell_type": "code",
   "execution_count": null,
   "id": "fe2ed43e",
   "metadata": {},
   "outputs": [],
   "source": [
    "positive_numbers = []\n",
    "negative_numbers = []"
   ]
  },
  {
   "cell_type": "code",
   "execution_count": null,
   "id": "3d72e308",
   "metadata": {},
   "outputs": [],
   "source": [
    "a = int(input(\"Enter a number : \"))\n",
    "if a > 0:\n",
    "    positive_numbers.append(a)\n",
    "    print(\"A is a positve number\")\n",
    "\n",
    "else:\n",
    "    negative_numbers.append(a)\n",
    "    print(\"A is not a positive number\")"
   ]
  },
  {
   "cell_type": "code",
   "execution_count": null,
   "id": "3673f785",
   "metadata": {},
   "outputs": [],
   "source": [
    "positive_numbers"
   ]
  },
  {
   "cell_type": "code",
   "execution_count": null,
   "id": "477efb1e",
   "metadata": {},
   "outputs": [],
   "source": [
    "negative_numbers"
   ]
  },
  {
   "cell_type": "code",
   "execution_count": null,
   "id": "521f0b2c",
   "metadata": {},
   "outputs": [],
   "source": [
    "a = int(input(\"Enter a number : \"))\n",
    "b = int(input(\"Enter a number : \"))\n",
    "\n",
    "if a> b:\n",
    "    print(\"A is greater\")\n",
    "else:\n",
    "    print(\"B is greater\")"
   ]
  },
  {
   "cell_type": "code",
   "execution_count": null,
   "id": "e2309960",
   "metadata": {},
   "outputs": [],
   "source": [
    "a = int(input(\"Enter a number : \"))\n",
    "\n",
    "if a%2 == 0:\n",
    "    print(\"This is an even number\")\n",
    "else: \n",
    "    print(\"This is an odd number\")"
   ]
  },
  {
   "cell_type": "code",
   "execution_count": null,
   "id": "6a1f740b",
   "metadata": {},
   "outputs": [],
   "source": [
    "a = 12\n",
    "b = 15\n",
    "if a>b: print(\"A is greater\") "
   ]
  },
  {
   "cell_type": "code",
   "execution_count": null,
   "id": "a4984a43",
   "metadata": {},
   "outputs": [],
   "source": [
    "print(\"A is greater\") if a>b  else print(\"B is greater\")"
   ]
  },
  {
   "cell_type": "code",
   "execution_count": null,
   "id": "4b77fd6c",
   "metadata": {},
   "outputs": [],
   "source": [
    "a = 0\n",
    "\n",
    "if a >= 0:\n",
    "    print(\"A is positive\")\n",
    "else:\n",
    "    print(\"A is negative\")"
   ]
  },
  {
   "cell_type": "code",
   "execution_count": null,
   "id": "aeb13e6b",
   "metadata": {},
   "outputs": [],
   "source": [
    "a = 100\n",
    "b = 33\n",
    "if a>b:\n",
    "    "
   ]
  },
  {
   "cell_type": "code",
   "execution_count": null,
   "id": "1f36eaaa",
   "metadata": {},
   "outputs": [],
   "source": [
    "l = [1,2,3,4,5]\n"
   ]
  },
  {
   "cell_type": "code",
   "execution_count": null,
   "id": "f675c7fc",
   "metadata": {},
   "outputs": [],
   "source": [
    "if 4 in l:\n",
    "    print(\"Print this\")"
   ]
  },
  {
   "cell_type": "code",
   "execution_count": null,
   "id": "69b95096",
   "metadata": {},
   "outputs": [],
   "source": [
    "if 1 in l:\n",
    "    print(\"add a number\")\n",
    "elif 2 in l:\n",
    "    print(\" subtract a number\")\n",
    "else:\n",
    "    print(\"try again\")"
   ]
  },
  {
   "cell_type": "code",
   "execution_count": 8,
   "id": "f6e2c84b",
   "metadata": {},
   "outputs": [
    {
     "name": "stdout",
     "output_type": "stream",
     "text": [
      "Enter a number : 25\n",
      "A is greater than 10\n",
      "A is greater than 20\n",
      "A is greater than 20 but less than 30\n"
     ]
    }
   ],
   "source": [
    "a = int(input(\"Enter a number : \"))\n",
    "\n",
    "if a > 10:\n",
    "    print(\"A is greater than 10\")\n",
    "    if a > 20:\n",
    "        print(\"A is greater than 20\")\n",
    "        if a > 30:\n",
    "            print(\"A is greater than 30\")\n",
    "        else:\n",
    "            print(\"A is greater than 20 but less than 30\")\n",
    "    else:\n",
    "        print(\"A is greater than 10 but less than 20\")\n",
    "else:\n",
    "    print(\"A is smaller\")"
   ]
  },
  {
   "cell_type": "code",
   "execution_count": 9,
   "id": "af09d062",
   "metadata": {},
   "outputs": [
    {
     "name": "stdout",
     "output_type": "stream",
     "text": [
      "Enter a username : SAM\n",
      "Enter a password : 12345\n",
      "Logged In\n"
     ]
    }
   ],
   "source": [
    "username = input(\"Enter a username : \")\n",
    "\n",
    "password = input(\"Enter a password : \")\n",
    "username = username.lower()\n",
    "\n",
    "if username == \"sam\" and password == \"12345\":\n",
    "    print(\"Logged In\")\n",
    "else:\n",
    "    print(\"Username/password is incorrect\")"
   ]
  },
  {
   "cell_type": "code",
   "execution_count": 18,
   "id": "8c0963cc",
   "metadata": {},
   "outputs": [],
   "source": []
  },
  {
   "cell_type": "code",
   "execution_count": 10,
   "id": "147a7a18",
   "metadata": {},
   "outputs": [
    {
     "name": "stdout",
     "output_type": "stream",
     "text": [
      "Enter your age : 11\n",
      "age is verified\n"
     ]
    }
   ],
   "source": [
    "a = input(\"Enter your age : \")\n",
    "if len(a) == 2 or len(a)==1:\n",
    "    print(\"age is verified\")\n",
    "else:\n",
    "    print('Please enter a valid age number')"
   ]
  },
  {
   "cell_type": "code",
   "execution_count": null,
   "id": "c160c4e3",
   "metadata": {},
   "outputs": [],
   "source": [
    "a = input(\"Enter your age : \")\n",
    "if len(a) == 2 or len(a)==1:\n",
    "    print(\"age is verified\")\n",
    "else:\n",
    "    print('Please enter a valid age number')"
   ]
  }
 ],
 "metadata": {
  "kernelspec": {
   "display_name": "Python 3 (ipykernel)",
   "language": "python",
   "name": "python3"
  },
  "language_info": {
   "codemirror_mode": {
    "name": "ipython",
    "version": 3
   },
   "file_extension": ".py",
   "mimetype": "text/x-python",
   "name": "python",
   "nbconvert_exporter": "python",
   "pygments_lexer": "ipython3",
   "version": "3.10.8"
  }
 },
 "nbformat": 4,
 "nbformat_minor": 5
}
